{
 "cells": [
  {
   "cell_type": "code",
   "execution_count": 1,
   "metadata": {},
   "outputs": [],
   "source": [
    "#installing dependencies\n",
    "import sqlite3\n",
    "import pandas as pd  \n",
    "dbfile = '/Users/sofyakonchakova/Desktop/Data_Science/data/home-assistant_v2.db'\n"
   ]
  },
  {
   "cell_type": "markdown",
   "metadata": {},
   "source": [
    "### SQL Data Pulling\n"
   ]
  },
  {
   "cell_type": "code",
   "execution_count": 2,
   "metadata": {},
   "outputs": [
    {
     "name": "stdout",
     "output_type": "stream",
     "text": [
      "[('events',), ('recorder_runs',), ('schema_changes',), ('states',), ('statistics_meta',), ('statistics',), ('statistics_short_term',), ('statistics_runs',)]\n"
     ]
    }
   ],
   "source": [
    "#with these lines access the sql database\n",
    "con = sqlite3.connect(dbfile)\n",
    "cur = con.cursor()\n",
    "table_list = [a for a in cur.execute(\"SELECT name FROM sqlite_master WHERE type = 'table'\")]\n",
    "print(table_list)\n",
    "con.close()"
   ]
  },
  {
   "cell_type": "code",
   "execution_count": 3,
   "metadata": {},
   "outputs": [],
   "source": [
    "#accessing the events data base\n",
    "with sqlite3.connect(dbfile) as con:\n",
    "    cur = con.cursor()\n",
    "    cur.execute(\"SELECT * FROM events\")\n",
    "    events = cur.fetchall()\n",
    "\n",
    "#converting it to the pandas data frame\n",
    "from_events_db = []\n",
    "\n",
    "for result in events:\n",
    "    result = list(result)\n",
    "    from_events_db.append(result)\n",
    "\n",
    "columns = [\"event_id\",\"event_type\",\"event_data\",\"origin\",\"time_fired\",\"created\",\"context_id\",\"context_user_id\",\"context_parent_id\"]\n",
    "events_df = pd.DataFrame(from_events_db, columns = columns)"
   ]
  },
  {
   "cell_type": "code",
   "execution_count": 4,
   "metadata": {},
   "outputs": [
    {
     "name": "stdout",
     "output_type": "stream",
     "text": [
      "(11287622, 'state_changed', '{}', 'LOCAL', '2021-12-02 03:12:05.162304', '2021-12-02 03:12:05.162304', '165b40ded15eb3ac829cb9cc928488e0', None, None)\n",
      "(11287623, 'state_changed', '{}', 'LOCAL', '2021-12-02 03:12:05.162807', '2021-12-02 03:12:05.162807', '96e82b80f0ac922bccb9cc3cec0a0cd1', None, None)\n",
      "(11287624, 'state_changed', '{}', 'LOCAL', '2021-12-02 03:12:05.191776', '2021-12-02 03:12:05.191776', 'b9147b7388f02ee17b913d72199a6c86', None, None)\n",
      "(11287625, 'state_changed', '{}', 'LOCAL', '2021-12-02 03:12:05.220377', '2021-12-02 03:12:05.220377', '13a83bcf01322ee87c31abe3d6956df9', None, None)\n",
      "(11287626, 'state_changed', '{}', 'LOCAL', '2021-12-02 03:12:05.252402', '2021-12-02 03:12:05.252402', '6304dddf2693fa55a72c5d39c39f77be', None, None)\n"
     ]
    }
   ],
   "source": [
    "#example of exported lines\n",
    "for x in events[0:5]:\n",
    "    print(x)"
   ]
  },
  {
   "cell_type": "code",
   "execution_count": 5,
   "metadata": {},
   "outputs": [],
   "source": [
    "#acessing the schema_changes database\n",
    "with sqlite3.connect(dbfile) as con:\n",
    "    cur = con.cursor()\n",
    "    cur.execute(\"SELECT * FROM schema_changes\")\n",
    "    schema_changes = cur.fetchall()\n",
    "\n",
    "#converting it to the pandas data frame\n",
    "from_schema_changes_db = []\n",
    "\n",
    "for result in schema_changes:\n",
    "    result = list(result)\n",
    "    from_schema_changes_db.append(result)\n",
    "\n",
    "columns = [\"change_id\",\"schema_version\",\"changed\"]\n",
    "schema_changes_df = pd.DataFrame(from_schema_changes_db, columns = columns)"
   ]
  },
  {
   "cell_type": "code",
   "execution_count": 6,
   "metadata": {},
   "outputs": [],
   "source": [
    "#acessing the states database\n",
    "with sqlite3.connect(dbfile) as con:\n",
    "    cur = con.cursor()\n",
    "    cur.execute(\"SELECT * FROM states\")\n",
    "    states = cur.fetchall()\n",
    "\n",
    "    \n",
    "#converting it to the pandas data frame\n",
    "from_states_db = []\n",
    "\n",
    "for result in states:\n",
    "    result = list(result)\n",
    "    from_states_db.append(result)\n",
    "\n",
    "columns = [\"state_id\",\"domain\",\"entity_id\",\"state\",\"attributes\",\"event_id\",\"last_changed\",\"last_updated\",\"created\",\"old_state_id\"]\n",
    "states_df = pd.DataFrame(from_states_db, columns = columns)"
   ]
  },
  {
   "cell_type": "code",
   "execution_count": 7,
   "metadata": {},
   "outputs": [],
   "source": [
    "#acessing the statistics database\n",
    "with sqlite3.connect(dbfile) as con:\n",
    "    cur = con.cursor()\n",
    "    cur.execute(\"SELECT * FROM statistics\")\n",
    "    statistics = cur.fetchall()\n",
    "\n",
    "#converting it to the pandas data frame\n",
    "from_statistics_db = []\n",
    "\n",
    "for result in statistics:\n",
    "    result = list(result)\n",
    "    from_statistics_db.append(result)\n",
    "\n",
    "columns = [\"id\",\"created\",\"metadata_id\",\"start\",\"mean\",\"min\",\"max\",\"last_reset\",\"state\",\"sum\"]\n",
    "statistics_df = pd.DataFrame(from_statistics_db, columns = columns)"
   ]
  },
  {
   "cell_type": "code",
   "execution_count": 8,
   "metadata": {},
   "outputs": [],
   "source": [
    "#acessing the statistics_meta database\n",
    "with sqlite3.connect(dbfile) as con:\n",
    "    cur = con.cursor()\n",
    "    cur.execute(\"SELECT * FROM statistics_meta\")\n",
    "    statistics_meta = cur.fetchall()\n",
    "\n",
    "#converting it to the pandas data frame\n",
    "from_statistics_meta_db = []\n",
    "\n",
    "for result in statistics_meta:\n",
    "    result = list(result)\n",
    "    from_statistics_meta_db.append(result)\n",
    "\n",
    "columns = [\"id\",\"statistic_id\",\"source\",\"unit_of_measurement\",\"has_mean\",\"has_sum\",\"name\"]\n",
    "statistics_meta_df = pd.DataFrame(from_statistics_meta_db, columns = columns)"
   ]
  },
  {
   "cell_type": "code",
   "execution_count": 9,
   "metadata": {},
   "outputs": [],
   "source": [
    "#acessing the statistics_runs database\n",
    "with sqlite3.connect(dbfile) as con:\n",
    "    cur = con.cursor()\n",
    "    cur.execute(\"SELECT * FROM statistics_runs\")\n",
    "    statistics_runs = cur.fetchall()\n",
    "\n",
    "#converting it to the pandas data frame\n",
    "from_statistics_runs_db = []\n",
    "\n",
    "for result in statistics_runs:\n",
    "    result = list(result)\n",
    "    from_statistics_runs_db.append(result)\n",
    "\n",
    "columns = [\"run_id\",\"start\"]\n",
    "statistics_runs_df = pd.DataFrame(from_statistics_runs_db, columns = columns)"
   ]
  },
  {
   "cell_type": "code",
   "execution_count": 10,
   "metadata": {},
   "outputs": [],
   "source": [
    "#acessing the statistics_short database\n",
    "with sqlite3.connect(dbfile) as con:\n",
    "    cur = con.cursor()\n",
    "    cur.execute(\"SELECT * FROM statistics_short_term\")\n",
    "    statistics_short_term = cur.fetchall()\n",
    "\n",
    "#converting it to the pandas data frame\n",
    "from_statistics_short_term_db = []\n",
    "\n",
    "for result in statistics_short_term:\n",
    "    result = list(result)\n",
    "    from_statistics_short_term_db.append(result)\n",
    "\n",
    "columns = [\"id\",\"created\",\"start\",\"mean\",\"min\",\"max\",\"last_reset\",\"state\",\"sum\",\"metadata_id\"]\n",
    "statistics_short_term_df = pd.DataFrame(from_statistics_short_term_db, columns = columns)"
   ]
  },
  {
   "cell_type": "code",
   "execution_count": 11,
   "metadata": {},
   "outputs": [
    {
     "name": "stdout",
     "output_type": "stream",
     "text": [
      "The shape of datasets: \n",
      " events: (508630, 9), \n",
      " schema_changes : (13, 3)\n",
      " states : (507505, 10), \n",
      " statistics : (12340, 10),\n",
      " statistics_meta: (13, 7),\n",
      " statistics_runs : (2954, 2),\n",
      " statistics_short_term: (2954, 2)\n"
     ]
    }
   ],
   "source": [
    "#shapes of these dataframes\n",
    "\n",
    "print(f'The shape of datasets: \\n events: {events_df.shape}, \\n schema_changes : {schema_changes_df.shape}\\n states : {states_df.shape}, \\n statistics : {statistics_df.shape},\\n statistics_meta: {statistics_meta_df.shape},\\n statistics_runs : {statistics_runs_df.shape},\\n statistics_short_term: {statistics_runs_df.shape}')"
   ]
  },
  {
   "cell_type": "code",
   "execution_count": 12,
   "metadata": {},
   "outputs": [
    {
     "data": {
      "text/html": [
       "<div>\n",
       "<style scoped>\n",
       "    .dataframe tbody tr th:only-of-type {\n",
       "        vertical-align: middle;\n",
       "    }\n",
       "\n",
       "    .dataframe tbody tr th {\n",
       "        vertical-align: top;\n",
       "    }\n",
       "\n",
       "    .dataframe thead th {\n",
       "        text-align: right;\n",
       "    }\n",
       "</style>\n",
       "<table border=\"1\" class=\"dataframe\">\n",
       "  <thead>\n",
       "    <tr style=\"text-align: right;\">\n",
       "      <th></th>\n",
       "      <th>state_id</th>\n",
       "      <th>domain</th>\n",
       "      <th>entity_id</th>\n",
       "      <th>state</th>\n",
       "      <th>attributes</th>\n",
       "      <th>event_id</th>\n",
       "      <th>last_changed</th>\n",
       "      <th>last_updated</th>\n",
       "      <th>created</th>\n",
       "      <th>old_state_id</th>\n",
       "    </tr>\n",
       "  </thead>\n",
       "  <tbody>\n",
       "    <tr>\n",
       "      <th>0</th>\n",
       "      <td>11244860</td>\n",
       "      <td>zwave</td>\n",
       "      <td>zwave.switch_cr</td>\n",
       "      <td>ready</td>\n",
       "      <td>{\"node_id\":15,\"node_name\":\"Shenzhen Neo Electr...</td>\n",
       "      <td>11287622</td>\n",
       "      <td>2021-11-28 20:46:35.720593</td>\n",
       "      <td>2021-12-02 03:12:05.162304</td>\n",
       "      <td>2021-12-02 03:12:05.162304</td>\n",
       "      <td>NaN</td>\n",
       "    </tr>\n",
       "    <tr>\n",
       "      <th>1</th>\n",
       "      <td>11244861</td>\n",
       "      <td>sensor</td>\n",
       "      <td>sensor.switch_cr_exporting</td>\n",
       "      <td>False</td>\n",
       "      <td>{\"node_id\":15,\"value_index\":32,\"value_instance...</td>\n",
       "      <td>11287623</td>\n",
       "      <td>2021-12-02 03:12:05.162807</td>\n",
       "      <td>2021-12-02 03:12:05.162807</td>\n",
       "      <td>2021-12-02 03:12:05.162807</td>\n",
       "      <td>NaN</td>\n",
       "    </tr>\n",
       "    <tr>\n",
       "      <th>2</th>\n",
       "      <td>11244862</td>\n",
       "      <td>sensor</td>\n",
       "      <td>sensor.switch_cr_energy</td>\n",
       "      <td>6.86</td>\n",
       "      <td>{\"node_id\":15,\"value_index\":0,\"value_instance\"...</td>\n",
       "      <td>11287624</td>\n",
       "      <td>2021-12-02 03:12:05.191776</td>\n",
       "      <td>2021-12-02 03:12:05.191776</td>\n",
       "      <td>2021-12-02 03:12:05.191776</td>\n",
       "      <td>NaN</td>\n",
       "    </tr>\n",
       "    <tr>\n",
       "      <th>3</th>\n",
       "      <td>11244863</td>\n",
       "      <td>sensor</td>\n",
       "      <td>sensor.switch_cr_previous_reading_1</td>\n",
       "      <td>6.86</td>\n",
       "      <td>{\"node_id\":15,\"value_index\":1,\"value_instance\"...</td>\n",
       "      <td>11287625</td>\n",
       "      <td>2021-12-02 03:12:05.220377</td>\n",
       "      <td>2021-12-02 03:12:05.220377</td>\n",
       "      <td>2021-12-02 03:12:05.220377</td>\n",
       "      <td>NaN</td>\n",
       "    </tr>\n",
       "    <tr>\n",
       "      <th>4</th>\n",
       "      <td>11244864</td>\n",
       "      <td>sensor</td>\n",
       "      <td>sensor.switch_cr_interval_1</td>\n",
       "      <td>301</td>\n",
       "      <td>{\"node_id\":15,\"value_index\":2,\"value_instance\"...</td>\n",
       "      <td>11287626</td>\n",
       "      <td>2021-12-02 03:12:05.252402</td>\n",
       "      <td>2021-12-02 03:12:05.252402</td>\n",
       "      <td>2021-12-02 03:12:05.252402</td>\n",
       "      <td>NaN</td>\n",
       "    </tr>\n",
       "  </tbody>\n",
       "</table>\n",
       "</div>"
      ],
      "text/plain": [
       "   state_id  domain                            entity_id  state  \\\n",
       "0  11244860   zwave                      zwave.switch_cr  ready   \n",
       "1  11244861  sensor           sensor.switch_cr_exporting  False   \n",
       "2  11244862  sensor              sensor.switch_cr_energy   6.86   \n",
       "3  11244863  sensor  sensor.switch_cr_previous_reading_1   6.86   \n",
       "4  11244864  sensor          sensor.switch_cr_interval_1    301   \n",
       "\n",
       "                                          attributes  event_id  \\\n",
       "0  {\"node_id\":15,\"node_name\":\"Shenzhen Neo Electr...  11287622   \n",
       "1  {\"node_id\":15,\"value_index\":32,\"value_instance...  11287623   \n",
       "2  {\"node_id\":15,\"value_index\":0,\"value_instance\"...  11287624   \n",
       "3  {\"node_id\":15,\"value_index\":1,\"value_instance\"...  11287625   \n",
       "4  {\"node_id\":15,\"value_index\":2,\"value_instance\"...  11287626   \n",
       "\n",
       "                 last_changed                last_updated  \\\n",
       "0  2021-11-28 20:46:35.720593  2021-12-02 03:12:05.162304   \n",
       "1  2021-12-02 03:12:05.162807  2021-12-02 03:12:05.162807   \n",
       "2  2021-12-02 03:12:05.191776  2021-12-02 03:12:05.191776   \n",
       "3  2021-12-02 03:12:05.220377  2021-12-02 03:12:05.220377   \n",
       "4  2021-12-02 03:12:05.252402  2021-12-02 03:12:05.252402   \n",
       "\n",
       "                      created  old_state_id  \n",
       "0  2021-12-02 03:12:05.162304           NaN  \n",
       "1  2021-12-02 03:12:05.162807           NaN  \n",
       "2  2021-12-02 03:12:05.191776           NaN  \n",
       "3  2021-12-02 03:12:05.220377           NaN  \n",
       "4  2021-12-02 03:12:05.252402           NaN  "
      ]
     },
     "execution_count": 12,
     "metadata": {},
     "output_type": "execute_result"
    }
   ],
   "source": [
    "states_df.head()"
   ]
  },
  {
   "cell_type": "markdown",
   "metadata": {},
   "source": [
    "### Preparation Agent"
   ]
  },
  {
   "cell_type": "code",
   "execution_count": 19,
   "metadata": {},
   "outputs": [
    {
     "name": "stdout",
     "output_type": "stream",
     "text": [
      "<class 'pandas.core.frame.DataFrame'>\n",
      "RangeIndex: 507505 entries, 0 to 507504\n",
      "Data columns (total 10 columns):\n",
      " #   Column        Non-Null Count   Dtype  \n",
      "---  ------        --------------   -----  \n",
      " 0   state_id      507505 non-null  int64  \n",
      " 1   domain        507505 non-null  object \n",
      " 2   entity_id     507505 non-null  object \n",
      " 3   state         507504 non-null  object \n",
      " 4   attributes    507505 non-null  object \n",
      " 5   event_id      507505 non-null  int64  \n",
      " 6   last_changed  507505 non-null  object \n",
      " 7   last_updated  507505 non-null  object \n",
      " 8   created       507505 non-null  object \n",
      " 9   old_state_id  506724 non-null  float64\n",
      "dtypes: float64(1), int64(2), object(7)\n",
      "memory usage: 38.7+ MB\n"
     ]
    }
   ],
   "source": [
    "states_df.info()"
   ]
  },
  {
   "cell_type": "code",
   "execution_count": 20,
   "metadata": {},
   "outputs": [],
   "source": [
    "df = states_df.copy()"
   ]
  },
  {
   "cell_type": "code",
   "execution_count": 21,
   "metadata": {},
   "outputs": [
    {
     "data": {
      "text/html": [
       "<div>\n",
       "<style scoped>\n",
       "    .dataframe tbody tr th:only-of-type {\n",
       "        vertical-align: middle;\n",
       "    }\n",
       "\n",
       "    .dataframe tbody tr th {\n",
       "        vertical-align: top;\n",
       "    }\n",
       "\n",
       "    .dataframe thead th {\n",
       "        text-align: right;\n",
       "    }\n",
       "</style>\n",
       "<table border=\"1\" class=\"dataframe\">\n",
       "  <thead>\n",
       "    <tr style=\"text-align: right;\">\n",
       "      <th></th>\n",
       "      <th>state_id</th>\n",
       "      <th>domain</th>\n",
       "      <th>entity_id</th>\n",
       "      <th>state</th>\n",
       "      <th>attributes</th>\n",
       "      <th>event_id</th>\n",
       "      <th>last_changed</th>\n",
       "      <th>last_updated</th>\n",
       "      <th>created</th>\n",
       "      <th>old_state_id</th>\n",
       "    </tr>\n",
       "  </thead>\n",
       "  <tbody>\n",
       "    <tr>\n",
       "      <th>0</th>\n",
       "      <td>11244860</td>\n",
       "      <td>zwave</td>\n",
       "      <td>zwave.switch_cr</td>\n",
       "      <td>ready</td>\n",
       "      <td>{\"node_id\":15,\"node_name\":\"Shenzhen Neo Electr...</td>\n",
       "      <td>11287622</td>\n",
       "      <td>2021-11-28 20:46:35.720593</td>\n",
       "      <td>2021-12-02 03:12:05.162304</td>\n",
       "      <td>2021-12-02 03:12:05.162304</td>\n",
       "      <td>NaN</td>\n",
       "    </tr>\n",
       "    <tr>\n",
       "      <th>1</th>\n",
       "      <td>11244861</td>\n",
       "      <td>sensor</td>\n",
       "      <td>sensor.switch_cr_exporting</td>\n",
       "      <td>False</td>\n",
       "      <td>{\"node_id\":15,\"value_index\":32,\"value_instance...</td>\n",
       "      <td>11287623</td>\n",
       "      <td>2021-12-02 03:12:05.162807</td>\n",
       "      <td>2021-12-02 03:12:05.162807</td>\n",
       "      <td>2021-12-02 03:12:05.162807</td>\n",
       "      <td>NaN</td>\n",
       "    </tr>\n",
       "    <tr>\n",
       "      <th>2</th>\n",
       "      <td>11244862</td>\n",
       "      <td>sensor</td>\n",
       "      <td>sensor.switch_cr_energy</td>\n",
       "      <td>6.86</td>\n",
       "      <td>{\"node_id\":15,\"value_index\":0,\"value_instance\"...</td>\n",
       "      <td>11287624</td>\n",
       "      <td>2021-12-02 03:12:05.191776</td>\n",
       "      <td>2021-12-02 03:12:05.191776</td>\n",
       "      <td>2021-12-02 03:12:05.191776</td>\n",
       "      <td>NaN</td>\n",
       "    </tr>\n",
       "    <tr>\n",
       "      <th>3</th>\n",
       "      <td>11244863</td>\n",
       "      <td>sensor</td>\n",
       "      <td>sensor.switch_cr_previous_reading_1</td>\n",
       "      <td>6.86</td>\n",
       "      <td>{\"node_id\":15,\"value_index\":1,\"value_instance\"...</td>\n",
       "      <td>11287625</td>\n",
       "      <td>2021-12-02 03:12:05.220377</td>\n",
       "      <td>2021-12-02 03:12:05.220377</td>\n",
       "      <td>2021-12-02 03:12:05.220377</td>\n",
       "      <td>NaN</td>\n",
       "    </tr>\n",
       "    <tr>\n",
       "      <th>4</th>\n",
       "      <td>11244864</td>\n",
       "      <td>sensor</td>\n",
       "      <td>sensor.switch_cr_interval_1</td>\n",
       "      <td>301</td>\n",
       "      <td>{\"node_id\":15,\"value_index\":2,\"value_instance\"...</td>\n",
       "      <td>11287626</td>\n",
       "      <td>2021-12-02 03:12:05.252402</td>\n",
       "      <td>2021-12-02 03:12:05.252402</td>\n",
       "      <td>2021-12-02 03:12:05.252402</td>\n",
       "      <td>NaN</td>\n",
       "    </tr>\n",
       "  </tbody>\n",
       "</table>\n",
       "</div>"
      ],
      "text/plain": [
       "   state_id  domain                            entity_id  state  \\\n",
       "0  11244860   zwave                      zwave.switch_cr  ready   \n",
       "1  11244861  sensor           sensor.switch_cr_exporting  False   \n",
       "2  11244862  sensor              sensor.switch_cr_energy   6.86   \n",
       "3  11244863  sensor  sensor.switch_cr_previous_reading_1   6.86   \n",
       "4  11244864  sensor          sensor.switch_cr_interval_1    301   \n",
       "\n",
       "                                          attributes  event_id  \\\n",
       "0  {\"node_id\":15,\"node_name\":\"Shenzhen Neo Electr...  11287622   \n",
       "1  {\"node_id\":15,\"value_index\":32,\"value_instance...  11287623   \n",
       "2  {\"node_id\":15,\"value_index\":0,\"value_instance\"...  11287624   \n",
       "3  {\"node_id\":15,\"value_index\":1,\"value_instance\"...  11287625   \n",
       "4  {\"node_id\":15,\"value_index\":2,\"value_instance\"...  11287626   \n",
       "\n",
       "                 last_changed                last_updated  \\\n",
       "0  2021-11-28 20:46:35.720593  2021-12-02 03:12:05.162304   \n",
       "1  2021-12-02 03:12:05.162807  2021-12-02 03:12:05.162807   \n",
       "2  2021-12-02 03:12:05.191776  2021-12-02 03:12:05.191776   \n",
       "3  2021-12-02 03:12:05.220377  2021-12-02 03:12:05.220377   \n",
       "4  2021-12-02 03:12:05.252402  2021-12-02 03:12:05.252402   \n",
       "\n",
       "                      created  old_state_id  \n",
       "0  2021-12-02 03:12:05.162304           NaN  \n",
       "1  2021-12-02 03:12:05.162807           NaN  \n",
       "2  2021-12-02 03:12:05.191776           NaN  \n",
       "3  2021-12-02 03:12:05.220377           NaN  \n",
       "4  2021-12-02 03:12:05.252402           NaN  "
      ]
     },
     "execution_count": 21,
     "metadata": {},
     "output_type": "execute_result"
    }
   ],
   "source": [
    "df.head()"
   ]
  },
  {
   "cell_type": "code",
   "execution_count": 22,
   "metadata": {},
   "outputs": [],
   "source": [
    "df['attributes'] = df['attributes'].apply(lambda x: x.replace('true','True'))\n",
    "df['attributes'] = df['attributes'].apply(lambda x: x.replace('false','False'))\n",
    "df['attributes'] = df['attributes'].apply(lambda x: x.replace('null','None'))"
   ]
  },
  {
   "cell_type": "code",
   "execution_count": 23,
   "metadata": {},
   "outputs": [],
   "source": [
    "df['attributes']=df['attributes'].apply(lambda dat: dict(eval(dat)))\n",
    "df2 = pd.json_normalize(df['attributes'])\n",
    "result = pd.concat([df,df2], axis = 1).drop('attributes', axis = 1)"
   ]
  },
  {
   "cell_type": "code",
   "execution_count": 24,
   "metadata": {},
   "outputs": [
    {
     "data": {
      "text/plain": [
       "'2021-12-02 03:12:05.162304'"
      ]
     },
     "execution_count": 24,
     "metadata": {},
     "output_type": "execute_result"
    }
   ],
   "source": [
    "result.created.min()"
   ]
  },
  {
   "cell_type": "code",
   "execution_count": 25,
   "metadata": {},
   "outputs": [
    {
     "data": {
      "text/plain": [
       "'2021-12-12 09:28:16.840038'"
      ]
     },
     "execution_count": 25,
     "metadata": {},
     "output_type": "execute_result"
    }
   ],
   "source": [
    "result.created.max()"
   ]
  },
  {
   "cell_type": "markdown",
   "metadata": {},
   "source": [
    "Minimum Viable Product: define the list we need( )"
   ]
  },
  {
   "cell_type": "code",
   "execution_count": 40,
   "metadata": {},
   "outputs": [],
   "source": [
    "trial = result.copy()\n",
    "trial = trial.dropna(axis = 1, thresh =100000)"
   ]
  },
  {
   "cell_type": "code",
   "execution_count": 41,
   "metadata": {},
   "outputs": [
    {
     "name": "stdout",
     "output_type": "stream",
     "text": [
      "<class 'pandas.core.frame.DataFrame'>\n",
      "RangeIndex: 507505 entries, 0 to 507504\n",
      "Data columns (total 16 columns):\n",
      " #   Column               Non-Null Count   Dtype  \n",
      "---  ------               --------------   -----  \n",
      " 0   state_id             507505 non-null  int64  \n",
      " 1   domain               507505 non-null  object \n",
      " 2   entity_id            507505 non-null  object \n",
      " 3   state                507504 non-null  object \n",
      " 4   event_id             507505 non-null  int64  \n",
      " 5   last_changed         507505 non-null  object \n",
      " 6   last_updated         507505 non-null  object \n",
      " 7   created              507505 non-null  object \n",
      " 8   old_state_id         506724 non-null  float64\n",
      " 9   node_id              474497 non-null  float64\n",
      " 10  friendly_name        507503 non-null  object \n",
      " 11  value_index          388280 non-null  float64\n",
      " 12  value_instance       388280 non-null  float64\n",
      " 13  value_id             388280 non-null  object \n",
      " 14  power_consumption    251940 non-null  float64\n",
      " 15  unit_of_measurement  383456 non-null  object \n",
      "dtypes: float64(5), int64(2), object(9)\n",
      "memory usage: 62.0+ MB\n"
     ]
    }
   ],
   "source": [
    "trial.info()"
   ]
  },
  {
   "cell_type": "code",
   "execution_count": 42,
   "metadata": {},
   "outputs": [
    {
     "data": {
      "text/html": [
       "<div>\n",
       "<style scoped>\n",
       "    .dataframe tbody tr th:only-of-type {\n",
       "        vertical-align: middle;\n",
       "    }\n",
       "\n",
       "    .dataframe tbody tr th {\n",
       "        vertical-align: top;\n",
       "    }\n",
       "\n",
       "    .dataframe thead th {\n",
       "        text-align: right;\n",
       "    }\n",
       "</style>\n",
       "<table border=\"1\" class=\"dataframe\">\n",
       "  <thead>\n",
       "    <tr style=\"text-align: right;\">\n",
       "      <th></th>\n",
       "      <th>state_id</th>\n",
       "      <th>domain</th>\n",
       "      <th>entity_id</th>\n",
       "      <th>state</th>\n",
       "      <th>event_id</th>\n",
       "      <th>last_changed</th>\n",
       "      <th>last_updated</th>\n",
       "      <th>created</th>\n",
       "      <th>old_state_id</th>\n",
       "      <th>node_id</th>\n",
       "      <th>friendly_name</th>\n",
       "      <th>value_index</th>\n",
       "      <th>value_instance</th>\n",
       "      <th>value_id</th>\n",
       "      <th>power_consumption</th>\n",
       "      <th>unit_of_measurement</th>\n",
       "    </tr>\n",
       "  </thead>\n",
       "  <tbody>\n",
       "    <tr>\n",
       "      <th>0</th>\n",
       "      <td>11244860</td>\n",
       "      <td>zwave</td>\n",
       "      <td>zwave.switch_cr</td>\n",
       "      <td>ready</td>\n",
       "      <td>11287622</td>\n",
       "      <td>2021-11-28 20:46:35.720593</td>\n",
       "      <td>2021-12-02 03:12:05.162304</td>\n",
       "      <td>2021-12-02 03:12:05.162304</td>\n",
       "      <td>NaN</td>\n",
       "      <td>15.0</td>\n",
       "      <td>Switch</td>\n",
       "      <td>NaN</td>\n",
       "      <td>NaN</td>\n",
       "      <td>NaN</td>\n",
       "      <td>NaN</td>\n",
       "      <td>NaN</td>\n",
       "    </tr>\n",
       "    <tr>\n",
       "      <th>1</th>\n",
       "      <td>11244861</td>\n",
       "      <td>sensor</td>\n",
       "      <td>sensor.switch_cr_exporting</td>\n",
       "      <td>False</td>\n",
       "      <td>11287623</td>\n",
       "      <td>2021-12-02 03:12:05.162807</td>\n",
       "      <td>2021-12-02 03:12:05.162807</td>\n",
       "      <td>2021-12-02 03:12:05.162807</td>\n",
       "      <td>NaN</td>\n",
       "      <td>15.0</td>\n",
       "      <td>Switch Exporting</td>\n",
       "      <td>32.0</td>\n",
       "      <td>1.0</td>\n",
       "      <td>72057594294600192</td>\n",
       "      <td>0.0</td>\n",
       "      <td></td>\n",
       "    </tr>\n",
       "    <tr>\n",
       "      <th>2</th>\n",
       "      <td>11244862</td>\n",
       "      <td>sensor</td>\n",
       "      <td>sensor.switch_cr_energy</td>\n",
       "      <td>6.86</td>\n",
       "      <td>11287624</td>\n",
       "      <td>2021-12-02 03:12:05.191776</td>\n",
       "      <td>2021-12-02 03:12:05.191776</td>\n",
       "      <td>2021-12-02 03:12:05.191776</td>\n",
       "      <td>NaN</td>\n",
       "      <td>15.0</td>\n",
       "      <td>Switch Energy</td>\n",
       "      <td>0.0</td>\n",
       "      <td>1.0</td>\n",
       "      <td>72057594294599682</td>\n",
       "      <td>0.0</td>\n",
       "      <td>kWh</td>\n",
       "    </tr>\n",
       "    <tr>\n",
       "      <th>3</th>\n",
       "      <td>11244863</td>\n",
       "      <td>sensor</td>\n",
       "      <td>sensor.switch_cr_previous_reading_1</td>\n",
       "      <td>6.86</td>\n",
       "      <td>11287625</td>\n",
       "      <td>2021-12-02 03:12:05.220377</td>\n",
       "      <td>2021-12-02 03:12:05.220377</td>\n",
       "      <td>2021-12-02 03:12:05.220377</td>\n",
       "      <td>NaN</td>\n",
       "      <td>15.0</td>\n",
       "      <td>Switch Previous Reading 1</td>\n",
       "      <td>1.0</td>\n",
       "      <td>1.0</td>\n",
       "      <td>72057594294599698</td>\n",
       "      <td>0.0</td>\n",
       "      <td>kWh</td>\n",
       "    </tr>\n",
       "    <tr>\n",
       "      <th>4</th>\n",
       "      <td>11244864</td>\n",
       "      <td>sensor</td>\n",
       "      <td>sensor.switch_cr_interval_1</td>\n",
       "      <td>301</td>\n",
       "      <td>11287626</td>\n",
       "      <td>2021-12-02 03:12:05.252402</td>\n",
       "      <td>2021-12-02 03:12:05.252402</td>\n",
       "      <td>2021-12-02 03:12:05.252402</td>\n",
       "      <td>NaN</td>\n",
       "      <td>15.0</td>\n",
       "      <td>Switch Interval 1</td>\n",
       "      <td>2.0</td>\n",
       "      <td>1.0</td>\n",
       "      <td>72057594294599715</td>\n",
       "      <td>0.0</td>\n",
       "      <td>seconds</td>\n",
       "    </tr>\n",
       "  </tbody>\n",
       "</table>\n",
       "</div>"
      ],
      "text/plain": [
       "   state_id  domain                            entity_id  state  event_id  \\\n",
       "0  11244860   zwave                      zwave.switch_cr  ready  11287622   \n",
       "1  11244861  sensor           sensor.switch_cr_exporting  False  11287623   \n",
       "2  11244862  sensor              sensor.switch_cr_energy   6.86  11287624   \n",
       "3  11244863  sensor  sensor.switch_cr_previous_reading_1   6.86  11287625   \n",
       "4  11244864  sensor          sensor.switch_cr_interval_1    301  11287626   \n",
       "\n",
       "                 last_changed                last_updated  \\\n",
       "0  2021-11-28 20:46:35.720593  2021-12-02 03:12:05.162304   \n",
       "1  2021-12-02 03:12:05.162807  2021-12-02 03:12:05.162807   \n",
       "2  2021-12-02 03:12:05.191776  2021-12-02 03:12:05.191776   \n",
       "3  2021-12-02 03:12:05.220377  2021-12-02 03:12:05.220377   \n",
       "4  2021-12-02 03:12:05.252402  2021-12-02 03:12:05.252402   \n",
       "\n",
       "                      created  old_state_id  node_id  \\\n",
       "0  2021-12-02 03:12:05.162304           NaN     15.0   \n",
       "1  2021-12-02 03:12:05.162807           NaN     15.0   \n",
       "2  2021-12-02 03:12:05.191776           NaN     15.0   \n",
       "3  2021-12-02 03:12:05.220377           NaN     15.0   \n",
       "4  2021-12-02 03:12:05.252402           NaN     15.0   \n",
       "\n",
       "               friendly_name  value_index  value_instance           value_id  \\\n",
       "0                     Switch          NaN             NaN                NaN   \n",
       "1           Switch Exporting         32.0             1.0  72057594294600192   \n",
       "2              Switch Energy          0.0             1.0  72057594294599682   \n",
       "3  Switch Previous Reading 1          1.0             1.0  72057594294599698   \n",
       "4          Switch Interval 1          2.0             1.0  72057594294599715   \n",
       "\n",
       "   power_consumption unit_of_measurement  \n",
       "0                NaN                 NaN  \n",
       "1                0.0                      \n",
       "2                0.0                 kWh  \n",
       "3                0.0                 kWh  \n",
       "4                0.0             seconds  "
      ]
     },
     "execution_count": 42,
     "metadata": {},
     "output_type": "execute_result"
    }
   ],
   "source": [
    "trial.head()"
   ]
  },
  {
   "cell_type": "code",
   "execution_count": 43,
   "metadata": {},
   "outputs": [
    {
     "data": {
      "text/plain": [
       "array([  nan,  0.  , 27.2 , 26.46, 26.28, 26.84, 27.11, 26.61, 26.86,\n",
       "       26.06, 25.97, 26.12,  4.33, 26.01,  4.42, 25.98,  4.47, 26.09,\n",
       "        4.31, 26.02,  4.38, 26.47,  4.4 , 26.  , 26.55,  4.3 , 26.5 ,\n",
       "        4.43, 26.6 ,  4.34,  4.36,  4.29,  4.35,  4.37,  4.27,  4.14,\n",
       "        4.24,  4.1 ,  4.04,  4.06, 27.25,  4.08,  4.15,  4.03,  4.05,\n",
       "        4.39,  4.41,  4.48,  4.45,  4.12,  4.01,  4.44,  4.5 ,  4.32,\n",
       "        4.28,  4.26, 13.96, 13.86, 13.91, 13.83, 13.43, 13.54, 13.65,\n",
       "       13.72, 13.32, 13.35, 11.18,  5.18,  4.02,  3.97,  3.99,  4.09,\n",
       "        3.95,  4.  ,  3.98,  3.94,  3.96,  4.07,  3.92,  3.89,  3.93,\n",
       "        3.42,  4.2 ,  4.17,  4.23,  4.13,  4.16,  4.19,  4.22,  4.21,\n",
       "        4.25,  4.11,  4.18])"
      ]
     },
     "execution_count": 43,
     "metadata": {},
     "output_type": "execute_result"
    }
   ],
   "source": [
    "trial.power_consumption.unique()"
   ]
  },
  {
   "cell_type": "code",
   "execution_count": 85,
   "metadata": {},
   "outputs": [],
   "source": [
    "kwh_data = trial[trial.unit_of_measurement.isin(['kWh']) & trial.node_id.isin([3,15,34,46])]"
   ]
  },
  {
   "cell_type": "code",
   "execution_count": 79,
   "metadata": {},
   "outputs": [
    {
     "data": {
      "text/html": [
       "<div>\n",
       "<style scoped>\n",
       "    .dataframe tbody tr th:only-of-type {\n",
       "        vertical-align: middle;\n",
       "    }\n",
       "\n",
       "    .dataframe tbody tr th {\n",
       "        vertical-align: top;\n",
       "    }\n",
       "\n",
       "    .dataframe thead th {\n",
       "        text-align: right;\n",
       "    }\n",
       "</style>\n",
       "<table border=\"1\" class=\"dataframe\">\n",
       "  <thead>\n",
       "    <tr style=\"text-align: right;\">\n",
       "      <th>node_id</th>\n",
       "      <th>3.0</th>\n",
       "      <th>15.0</th>\n",
       "      <th>34.0</th>\n",
       "      <th>46.0</th>\n",
       "    </tr>\n",
       "    <tr>\n",
       "      <th>last_changed</th>\n",
       "      <th></th>\n",
       "      <th></th>\n",
       "      <th></th>\n",
       "      <th></th>\n",
       "    </tr>\n",
       "  </thead>\n",
       "  <tbody>\n",
       "    <tr>\n",
       "      <th>2021-12-02 03:12:05.295427</th>\n",
       "      <td>NaN</td>\n",
       "      <td>0.0</td>\n",
       "      <td>NaN</td>\n",
       "      <td>NaN</td>\n",
       "    </tr>\n",
       "    <tr>\n",
       "      <th>2021-12-02 03:12:05.295772</th>\n",
       "      <td>NaN</td>\n",
       "      <td>0.0</td>\n",
       "      <td>NaN</td>\n",
       "      <td>NaN</td>\n",
       "    </tr>\n",
       "    <tr>\n",
       "      <th>2021-12-02 03:14:29.047935</th>\n",
       "      <td>NaN</td>\n",
       "      <td>NaN</td>\n",
       "      <td>NaN</td>\n",
       "      <td>0.0</td>\n",
       "    </tr>\n",
       "    <tr>\n",
       "      <th>2021-12-02 03:14:29.048387</th>\n",
       "      <td>NaN</td>\n",
       "      <td>NaN</td>\n",
       "      <td>NaN</td>\n",
       "      <td>0.0</td>\n",
       "    </tr>\n",
       "    <tr>\n",
       "      <th>2021-12-02 03:15:04.523666</th>\n",
       "      <td>0.0</td>\n",
       "      <td>NaN</td>\n",
       "      <td>NaN</td>\n",
       "      <td>NaN</td>\n",
       "    </tr>\n",
       "    <tr>\n",
       "      <th>...</th>\n",
       "      <td>...</td>\n",
       "      <td>...</td>\n",
       "      <td>...</td>\n",
       "      <td>...</td>\n",
       "    </tr>\n",
       "    <tr>\n",
       "      <th>2021-12-12 09:22:27.612285</th>\n",
       "      <td>NaN</td>\n",
       "      <td>NaN</td>\n",
       "      <td>0.0</td>\n",
       "      <td>NaN</td>\n",
       "    </tr>\n",
       "    <tr>\n",
       "      <th>2021-12-12 09:25:12.697801</th>\n",
       "      <td>0.0</td>\n",
       "      <td>NaN</td>\n",
       "      <td>NaN</td>\n",
       "      <td>NaN</td>\n",
       "    </tr>\n",
       "    <tr>\n",
       "      <th>2021-12-12 09:25:12.698170</th>\n",
       "      <td>0.0</td>\n",
       "      <td>NaN</td>\n",
       "      <td>NaN</td>\n",
       "      <td>NaN</td>\n",
       "    </tr>\n",
       "    <tr>\n",
       "      <th>2021-12-12 09:27:27.616886</th>\n",
       "      <td>NaN</td>\n",
       "      <td>NaN</td>\n",
       "      <td>0.0</td>\n",
       "      <td>NaN</td>\n",
       "    </tr>\n",
       "    <tr>\n",
       "      <th>2021-12-12 09:27:27.617267</th>\n",
       "      <td>NaN</td>\n",
       "      <td>NaN</td>\n",
       "      <td>0.0</td>\n",
       "      <td>NaN</td>\n",
       "    </tr>\n",
       "  </tbody>\n",
       "</table>\n",
       "<p>19299 rows × 4 columns</p>\n",
       "</div>"
      ],
      "text/plain": [
       "node_id                     3.0   15.0  34.0  46.0\n",
       "last_changed                                      \n",
       "2021-12-02 03:12:05.295427   NaN   0.0   NaN   NaN\n",
       "2021-12-02 03:12:05.295772   NaN   0.0   NaN   NaN\n",
       "2021-12-02 03:14:29.047935   NaN   NaN   NaN   0.0\n",
       "2021-12-02 03:14:29.048387   NaN   NaN   NaN   0.0\n",
       "2021-12-02 03:15:04.523666   0.0   NaN   NaN   NaN\n",
       "...                          ...   ...   ...   ...\n",
       "2021-12-12 09:22:27.612285   NaN   NaN   0.0   NaN\n",
       "2021-12-12 09:25:12.697801   0.0   NaN   NaN   NaN\n",
       "2021-12-12 09:25:12.698170   0.0   NaN   NaN   NaN\n",
       "2021-12-12 09:27:27.616886   NaN   NaN   0.0   NaN\n",
       "2021-12-12 09:27:27.617267   NaN   NaN   0.0   NaN\n",
       "\n",
       "[19299 rows x 4 columns]"
      ]
     },
     "execution_count": 79,
     "metadata": {},
     "output_type": "execute_result"
    }
   ],
   "source": [
    "kwh_data_long = kwh_data[['node_id','value_id','last_changed','last_updated', 'power_consumption']]\n",
    "kwh_data_wide = pd.pivot(kwh_data_long, index = ['last_changed'], columns = 'node_id', values = 'power_consumption')\n",
    "kwh_data_wide"
   ]
  },
  {
   "cell_type": "code",
   "execution_count": 80,
   "metadata": {},
   "outputs": [
    {
     "data": {
      "text/plain": [
       "node_id\n",
       "3.0     13214\n",
       "15.0    13757\n",
       "34.0    12540\n",
       "46.0    18386\n",
       "dtype: int64"
      ]
     },
     "execution_count": 80,
     "metadata": {},
     "output_type": "execute_result"
    }
   ],
   "source": [
    "kwh_data_wide.isna().sum()"
   ]
  },
  {
   "cell_type": "code",
   "execution_count": 81,
   "metadata": {},
   "outputs": [],
   "source": [
    "#filling nas with zeros \n",
    "kwd_data_wide = kwh_data_wide.fillna(0)\n",
    "df = kwd_data_wide.reset_index()"
   ]
  },
  {
   "cell_type": "code",
   "execution_count": 83,
   "metadata": {},
   "outputs": [],
   "source": [
    "#aggregating per hour\n",
    "df.last_changed = pd.to_datetime(df.last_changed)\n",
    "df = df.resample('60T', on=\"last_changed\").sum()"
   ]
  },
  {
   "cell_type": "code",
   "execution_count": 84,
   "metadata": {},
   "outputs": [
    {
     "data": {
      "text/plain": [
       "node_id\n",
       "3.0     3016.48\n",
       "15.0       0.00\n",
       "34.0       0.00\n",
       "46.0    1426.82\n",
       "dtype: float64"
      ]
     },
     "execution_count": 84,
     "metadata": {},
     "output_type": "execute_result"
    }
   ],
   "source": [
    "#two nodes out of use?\n",
    "df.sum()"
   ]
  },
  {
   "cell_type": "markdown",
   "metadata": {},
   "source": [
    "3 - kitchen lamp \n",
    "15 - child room lamp\n",
    "34 - bedroom lamp\n",
    "46 - living room\n",
    "41 - \n",
    "48 - rolls for windows, disregard\n",
    "\n",
    "\n",
    "-> aggregate per hour\n",
    "\n",
    "\n",
    "-> focus on integration"
   ]
  }
 ],
 "metadata": {
  "kernelspec": {
   "display_name": "Python 3.9.13 ('base')",
   "language": "python",
   "name": "python3"
  },
  "language_info": {
   "codemirror_mode": {
    "name": "ipython",
    "version": 3
   },
   "file_extension": ".py",
   "mimetype": "text/x-python",
   "name": "python",
   "nbconvert_exporter": "python",
   "pygments_lexer": "ipython3",
   "version": "3.9.13"
  },
  "orig_nbformat": 4,
  "vscode": {
   "interpreter": {
    "hash": "fd19f899bcdfa6c353e9525ef244de6eb28a54f3ba596d530144acef4e3bc685"
   }
  }
 },
 "nbformat": 4,
 "nbformat_minor": 2
}
