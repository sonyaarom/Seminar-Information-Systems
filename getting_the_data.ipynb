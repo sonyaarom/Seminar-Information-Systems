{
 "cells": [
  {
   "cell_type": "markdown",
   "metadata": {},
   "source": [
    "# Preparation Agent\n",
    "This notebook is dedicated to the data extraction and basic preparation done in the notebook 'Preparation Agent'. We start by installing dependencies that we need."
   ]
  },
  {
   "cell_type": "code",
   "execution_count": 1,
   "metadata": {},
   "outputs": [],
   "source": [
    "#installing dependencies\n",
    "import sqlite3\n",
    "import pandas as pd  \n",
    "\n",
    "\n",
    "#where database is located\n",
    "dbfile = '/Users/sofyakonchakova/Desktop/Data_Science/data/home-assistant_v2.db'\n"
   ]
  },
  {
   "cell_type": "markdown",
   "metadata": {},
   "source": [
    "### SQL Data Pulling\n",
    "\n",
    "I removed the code for other databases as we will stick to the one called 'states'. In my own database I see states and attributes in different databases. \n",
    "<font color='red'>Check with Alona how she managed to put them together.\n",
    "</font>"
   ]
  },
  {
   "cell_type": "code",
   "execution_count": 10,
   "metadata": {},
   "outputs": [],
   "source": [
    "#acessing the states database\n",
    "with sqlite3.connect(dbfile) as con:\n",
    "    cur = con.cursor()\n",
    "    cur.execute(\"SELECT * FROM states\")\n",
    "    states = cur.fetchall()\n",
    "\n",
    "    \n",
    "#converting it to the pandas data frame\n",
    "from_states_db = []\n",
    "\n",
    "for result in states:\n",
    "    result = list(result)\n",
    "    from_states_db.append(result)\n",
    "\n",
    "columns = [\"state_id\",\"domain\",\"entity_id\",\"state\",\"attributes\",\"event_id\",\"last_changed\",\"last_updated\",\"created\",\"old_state_id\"]\n",
    "states_df = pd.DataFrame(from_states_db, columns = columns)"
   ]
  },
  {
   "cell_type": "code",
   "execution_count": 11,
   "metadata": {},
   "outputs": [
    {
     "data": {
      "text/html": [
       "<div>\n",
       "<style scoped>\n",
       "    .dataframe tbody tr th:only-of-type {\n",
       "        vertical-align: middle;\n",
       "    }\n",
       "\n",
       "    .dataframe tbody tr th {\n",
       "        vertical-align: top;\n",
       "    }\n",
       "\n",
       "    .dataframe thead th {\n",
       "        text-align: right;\n",
       "    }\n",
       "</style>\n",
       "<table border=\"1\" class=\"dataframe\">\n",
       "  <thead>\n",
       "    <tr style=\"text-align: right;\">\n",
       "      <th></th>\n",
       "      <th>state_id</th>\n",
       "      <th>domain</th>\n",
       "      <th>entity_id</th>\n",
       "      <th>state</th>\n",
       "      <th>attributes</th>\n",
       "      <th>event_id</th>\n",
       "      <th>last_changed</th>\n",
       "      <th>last_updated</th>\n",
       "      <th>created</th>\n",
       "      <th>old_state_id</th>\n",
       "    </tr>\n",
       "  </thead>\n",
       "  <tbody>\n",
       "    <tr>\n",
       "      <th>0</th>\n",
       "      <td>11244860</td>\n",
       "      <td>zwave</td>\n",
       "      <td>zwave.switch_cr</td>\n",
       "      <td>ready</td>\n",
       "      <td>{\"node_id\":15,\"node_name\":\"Shenzhen Neo Electr...</td>\n",
       "      <td>11287622</td>\n",
       "      <td>2021-11-28 20:46:35.720593</td>\n",
       "      <td>2021-12-02 03:12:05.162304</td>\n",
       "      <td>2021-12-02 03:12:05.162304</td>\n",
       "      <td>NaN</td>\n",
       "    </tr>\n",
       "    <tr>\n",
       "      <th>1</th>\n",
       "      <td>11244861</td>\n",
       "      <td>sensor</td>\n",
       "      <td>sensor.switch_cr_exporting</td>\n",
       "      <td>False</td>\n",
       "      <td>{\"node_id\":15,\"value_index\":32,\"value_instance...</td>\n",
       "      <td>11287623</td>\n",
       "      <td>2021-12-02 03:12:05.162807</td>\n",
       "      <td>2021-12-02 03:12:05.162807</td>\n",
       "      <td>2021-12-02 03:12:05.162807</td>\n",
       "      <td>NaN</td>\n",
       "    </tr>\n",
       "    <tr>\n",
       "      <th>2</th>\n",
       "      <td>11244862</td>\n",
       "      <td>sensor</td>\n",
       "      <td>sensor.switch_cr_energy</td>\n",
       "      <td>6.86</td>\n",
       "      <td>{\"node_id\":15,\"value_index\":0,\"value_instance\"...</td>\n",
       "      <td>11287624</td>\n",
       "      <td>2021-12-02 03:12:05.191776</td>\n",
       "      <td>2021-12-02 03:12:05.191776</td>\n",
       "      <td>2021-12-02 03:12:05.191776</td>\n",
       "      <td>NaN</td>\n",
       "    </tr>\n",
       "    <tr>\n",
       "      <th>3</th>\n",
       "      <td>11244863</td>\n",
       "      <td>sensor</td>\n",
       "      <td>sensor.switch_cr_previous_reading_1</td>\n",
       "      <td>6.86</td>\n",
       "      <td>{\"node_id\":15,\"value_index\":1,\"value_instance\"...</td>\n",
       "      <td>11287625</td>\n",
       "      <td>2021-12-02 03:12:05.220377</td>\n",
       "      <td>2021-12-02 03:12:05.220377</td>\n",
       "      <td>2021-12-02 03:12:05.220377</td>\n",
       "      <td>NaN</td>\n",
       "    </tr>\n",
       "    <tr>\n",
       "      <th>4</th>\n",
       "      <td>11244864</td>\n",
       "      <td>sensor</td>\n",
       "      <td>sensor.switch_cr_interval_1</td>\n",
       "      <td>301</td>\n",
       "      <td>{\"node_id\":15,\"value_index\":2,\"value_instance\"...</td>\n",
       "      <td>11287626</td>\n",
       "      <td>2021-12-02 03:12:05.252402</td>\n",
       "      <td>2021-12-02 03:12:05.252402</td>\n",
       "      <td>2021-12-02 03:12:05.252402</td>\n",
       "      <td>NaN</td>\n",
       "    </tr>\n",
       "  </tbody>\n",
       "</table>\n",
       "</div>"
      ],
      "text/plain": [
       "   state_id  domain                            entity_id  state  \\\n",
       "0  11244860   zwave                      zwave.switch_cr  ready   \n",
       "1  11244861  sensor           sensor.switch_cr_exporting  False   \n",
       "2  11244862  sensor              sensor.switch_cr_energy   6.86   \n",
       "3  11244863  sensor  sensor.switch_cr_previous_reading_1   6.86   \n",
       "4  11244864  sensor          sensor.switch_cr_interval_1    301   \n",
       "\n",
       "                                          attributes  event_id  \\\n",
       "0  {\"node_id\":15,\"node_name\":\"Shenzhen Neo Electr...  11287622   \n",
       "1  {\"node_id\":15,\"value_index\":32,\"value_instance...  11287623   \n",
       "2  {\"node_id\":15,\"value_index\":0,\"value_instance\"...  11287624   \n",
       "3  {\"node_id\":15,\"value_index\":1,\"value_instance\"...  11287625   \n",
       "4  {\"node_id\":15,\"value_index\":2,\"value_instance\"...  11287626   \n",
       "\n",
       "                 last_changed                last_updated  \\\n",
       "0  2021-11-28 20:46:35.720593  2021-12-02 03:12:05.162304   \n",
       "1  2021-12-02 03:12:05.162807  2021-12-02 03:12:05.162807   \n",
       "2  2021-12-02 03:12:05.191776  2021-12-02 03:12:05.191776   \n",
       "3  2021-12-02 03:12:05.220377  2021-12-02 03:12:05.220377   \n",
       "4  2021-12-02 03:12:05.252402  2021-12-02 03:12:05.252402   \n",
       "\n",
       "                      created  old_state_id  \n",
       "0  2021-12-02 03:12:05.162304           NaN  \n",
       "1  2021-12-02 03:12:05.162807           NaN  \n",
       "2  2021-12-02 03:12:05.191776           NaN  \n",
       "3  2021-12-02 03:12:05.220377           NaN  \n",
       "4  2021-12-02 03:12:05.252402           NaN  "
      ]
     },
     "execution_count": 11,
     "metadata": {},
     "output_type": "execute_result"
    }
   ],
   "source": [
    "states_df.head()"
   ]
  },
  {
   "cell_type": "markdown",
   "metadata": {},
   "source": [
    "### Data Unpacking\n",
    "We received data frame that has dictionaries in column value. In this section, we bring the data frame to the wide format, additionally unpacking the column. After that I specify that I need values in kWh and choose nodes. <font color='red'>Note: user should specify the nodes. How does he do it?\n",
    "</font>"
   ]
  },
  {
   "cell_type": "code",
   "execution_count": 15,
   "metadata": {},
   "outputs": [],
   "source": [
    "df = states_df.copy()\n",
    "\n",
    "#Substitution of the values \n",
    "df['attributes'] = df['attributes'].apply(lambda x: x.replace('true','True'))\n",
    "df['attributes'] = df['attributes'].apply(lambda x: x.replace('false','False'))\n",
    "df['attributes'] = df['attributes'].apply(lambda x: x.replace('null','None'))\n",
    "\n",
    "#treating the values as real dictionaries and unpacking\n",
    "df['attributes']=df['attributes'].apply(lambda dat: dict(eval(dat)))\n",
    "df2 = pd.json_normalize(df['attributes'])\n",
    "result = pd.concat([df,df2], axis = 1).drop('attributes', axis = 1)\n",
    "\n",
    "#dropping columns that have at least 10000 non-na values\n",
    "trial = result.copy()\n",
    "trial = trial.dropna(thresh=10000,axis = 1)"
   ]
  },
  {
   "cell_type": "code",
   "execution_count": 18,
   "metadata": {},
   "outputs": [],
   "source": [
    "#here i specify which node i use. how the user specifies it?\n",
    "kwh_data = trial[trial.unit_of_measurement.isin(['kWh']) & trial.node_id.isin([3,15,34,46])]\n",
    "\n",
    "kwh_data_long = kwh_data[['node_id','last_changed', 'power_consumption','entity_id']]\n",
    "kwh_data_wide = pd.pivot(kwh_data_long, index = ['last_changed', 'entity_id'], columns = 'node_id', values = 'power_consumption')\n",
    "\n",
    "#filling nas with zeros \n",
    "kwd_data_wide = kwh_data_wide.fillna(0)\n",
    "df = kwd_data_wide.reset_index()\n",
    "REFIT_df = df.reset_index().copy()"
   ]
  },
  {
   "cell_type": "code",
   "execution_count": 19,
   "metadata": {},
   "outputs": [
    {
     "data": {
      "text/plain": [
       "node_id\n",
       "last_changed    2021-12-02 03:12:05.1917762021-12-02 03:12:05....\n",
       "entity_id       sensor.switch_cr_energysensor.switch_cr_previo...\n",
       "3.0                                                       4923.51\n",
       "15.0                                                          0.0\n",
       "34.0                                                          0.0\n",
       "46.0                                                      2510.22\n",
       "dtype: object"
      ]
     },
     "execution_count": 19,
     "metadata": {},
     "output_type": "execute_result"
    }
   ],
   "source": [
    "#three nodes out of use?\n",
    "df.sum()"
   ]
  },
  {
   "cell_type": "markdown",
   "metadata": {},
   "source": [
    "### Outlier Truncation\n",
    "Here comes <font color='red'> the first issue </font>, the consumption which was reported is really low. When we apply outlier truncation, all values that are not zero becoming zeros. Therefore, should we skip outlier truncation step?"
   ]
  },
  {
   "cell_type": "code",
   "execution_count": 25,
   "metadata": {},
   "outputs": [],
   "source": [
    "class Preparation_Agent:\n",
    "    def __init__(self):\n",
    "        self.input = df\n",
    "\n",
    "prep = Preparation_Agent()\n"
   ]
  },
  {
   "cell_type": "code",
   "execution_count": 26,
   "metadata": {},
   "outputs": [
    {
     "data": {
      "image/png": "[encoded data removed]",
      "text/plain": [
       "<Figure size 800x800 with 4 Axes>"
      ]
     },
     "metadata": {},
     "output_type": "display_data"
    }
   ],
   "source": [
    "# Histogram\n",
    "prep.input.hist(bins=50, figsize=(8,8));"
   ]
  },
  {
   "cell_type": "code",
   "execution_count": 34,
   "metadata": {},
   "outputs": [],
   "source": [
    "def outlier_truncation(self, series, factor=1.5, verbose=0):\n",
    "    from tqdm import tqdm\n",
    "    \n",
    "    q1 = series.quantile(0.25)\n",
    "    q3 = series.quantile(0.75)\n",
    "    iqr = q3-q1\n",
    "    \n",
    "    lower_bound = q1 - factor*iqr\n",
    "    upper_bound = q3 + factor*iqr\n",
    "    \n",
    "    output = []\n",
    "    counter = 0\n",
    "    for item in (tqdm(series, desc=f'[outlier truncation: {series.name}]') if verbose != 0 else series):\n",
    "        if item > upper_bound:\n",
    "            output.append(int(upper_bound))\n",
    "            counter += 1\n",
    "        elif item < lower_bound:\n",
    "            output.append(int(lower_bound))\n",
    "            counter += 1\n",
    "        else:\n",
    "            output.append(item)\n",
    "    print(f'[outlier truncation: {series.name}]: {counter} outliers were truncated.') if verbose != 0 else None \n",
    "    return output\n",
    "\n",
    "# add the function to the class and delete global function\n",
    "setattr(Preparation_Agent, 'outlier_truncation', outlier_truncation)\n",
    "del outlier_truncation"
   ]
  },
  {
   "cell_type": "code",
   "execution_count": 35,
   "metadata": {},
   "outputs": [
    {
     "data": {
      "text/html": [
       "<div>\n",
       "<style scoped>\n",
       "    .dataframe tbody tr th:only-of-type {\n",
       "        vertical-align: middle;\n",
       "    }\n",
       "\n",
       "    .dataframe tbody tr th {\n",
       "        vertical-align: top;\n",
       "    }\n",
       "\n",
       "    .dataframe thead th {\n",
       "        text-align: right;\n",
       "    }\n",
       "</style>\n",
       "<table border=\"1\" class=\"dataframe\">\n",
       "  <thead>\n",
       "    <tr style=\"text-align: right;\">\n",
       "      <th>node_id</th>\n",
       "      <th>3.0</th>\n",
       "      <th>15.0</th>\n",
       "      <th>34.0</th>\n",
       "      <th>46.0</th>\n",
       "    </tr>\n",
       "  </thead>\n",
       "  <tbody>\n",
       "    <tr>\n",
       "      <th>count</th>\n",
       "      <td>27347.00</td>\n",
       "      <td>27347.0</td>\n",
       "      <td>27347.0</td>\n",
       "      <td>27347.00</td>\n",
       "    </tr>\n",
       "    <tr>\n",
       "      <th>mean</th>\n",
       "      <td>0.18</td>\n",
       "      <td>0.0</td>\n",
       "      <td>0.0</td>\n",
       "      <td>0.09</td>\n",
       "    </tr>\n",
       "    <tr>\n",
       "      <th>std</th>\n",
       "      <td>0.92</td>\n",
       "      <td>0.0</td>\n",
       "      <td>0.0</td>\n",
       "      <td>1.55</td>\n",
       "    </tr>\n",
       "    <tr>\n",
       "      <th>min</th>\n",
       "      <td>0.00</td>\n",
       "      <td>0.0</td>\n",
       "      <td>0.0</td>\n",
       "      <td>0.00</td>\n",
       "    </tr>\n",
       "    <tr>\n",
       "      <th>25%</th>\n",
       "      <td>0.00</td>\n",
       "      <td>0.0</td>\n",
       "      <td>0.0</td>\n",
       "      <td>0.00</td>\n",
       "    </tr>\n",
       "    <tr>\n",
       "      <th>50%</th>\n",
       "      <td>0.00</td>\n",
       "      <td>0.0</td>\n",
       "      <td>0.0</td>\n",
       "      <td>0.00</td>\n",
       "    </tr>\n",
       "    <tr>\n",
       "      <th>75%</th>\n",
       "      <td>0.00</td>\n",
       "      <td>0.0</td>\n",
       "      <td>0.0</td>\n",
       "      <td>0.00</td>\n",
       "    </tr>\n",
       "    <tr>\n",
       "      <th>max</th>\n",
       "      <td>13.96</td>\n",
       "      <td>0.0</td>\n",
       "      <td>0.0</td>\n",
       "      <td>27.25</td>\n",
       "    </tr>\n",
       "  </tbody>\n",
       "</table>\n",
       "</div>"
      ],
      "text/plain": [
       "node_id       3.0     15.0     34.0      46.0\n",
       "count    27347.00  27347.0  27347.0  27347.00\n",
       "mean         0.18      0.0      0.0      0.09\n",
       "std          0.92      0.0      0.0      1.55\n",
       "min          0.00      0.0      0.0      0.00\n",
       "25%          0.00      0.0      0.0      0.00\n",
       "50%          0.00      0.0      0.0      0.00\n",
       "75%          0.00      0.0      0.0      0.00\n",
       "max         13.96      0.0      0.0     27.25"
      ]
     },
     "execution_count": 35,
     "metadata": {},
     "output_type": "execute_result"
    }
   ],
   "source": [
    "prep.input.describe().round(2)"
   ]
  },
  {
   "cell_type": "markdown",
   "metadata": {},
   "source": [
    "#outlier truncation brings zero help, will not include it in preparation agent"
   ]
  },
  {
   "cell_type": "code",
   "execution_count": 36,
   "metadata": {},
   "outputs": [
    {
     "name": "stderr",
     "output_type": "stream",
     "text": [
      "[outlier truncation: 46.0]: 100%|██████████| 27347/27347 [00:00<00:00, 1279523.80it/s]"
     ]
    },
    {
     "name": "stdout",
     "output_type": "stream",
     "text": [
      "[outlier truncation: 46.0]: 95 outliers were truncated.\n"
     ]
    },
    {
     "name": "stderr",
     "output_type": "stream",
     "text": [
      "\n"
     ]
    },
    {
     "data": {
      "text/html": [
       "<div>\n",
       "<style scoped>\n",
       "    .dataframe tbody tr th:only-of-type {\n",
       "        vertical-align: middle;\n",
       "    }\n",
       "\n",
       "    .dataframe tbody tr th {\n",
       "        vertical-align: top;\n",
       "    }\n",
       "\n",
       "    .dataframe thead th {\n",
       "        text-align: right;\n",
       "    }\n",
       "</style>\n",
       "<table border=\"1\" class=\"dataframe\">\n",
       "  <thead>\n",
       "    <tr style=\"text-align: right;\">\n",
       "      <th></th>\n",
       "      <th>3.0</th>\n",
       "    </tr>\n",
       "  </thead>\n",
       "  <tbody>\n",
       "    <tr>\n",
       "      <th>count</th>\n",
       "      <td>27347.0</td>\n",
       "    </tr>\n",
       "    <tr>\n",
       "      <th>mean</th>\n",
       "      <td>0.0</td>\n",
       "    </tr>\n",
       "    <tr>\n",
       "      <th>std</th>\n",
       "      <td>0.0</td>\n",
       "    </tr>\n",
       "    <tr>\n",
       "      <th>min</th>\n",
       "      <td>0.0</td>\n",
       "    </tr>\n",
       "    <tr>\n",
       "      <th>25%</th>\n",
       "      <td>0.0</td>\n",
       "    </tr>\n",
       "    <tr>\n",
       "      <th>50%</th>\n",
       "      <td>0.0</td>\n",
       "    </tr>\n",
       "    <tr>\n",
       "      <th>75%</th>\n",
       "      <td>0.0</td>\n",
       "    </tr>\n",
       "    <tr>\n",
       "      <th>max</th>\n",
       "      <td>0.0</td>\n",
       "    </tr>\n",
       "  </tbody>\n",
       "</table>\n",
       "</div>"
      ],
      "text/plain": [
       "           3.0\n",
       "count  27347.0\n",
       "mean       0.0\n",
       "std        0.0\n",
       "min        0.0\n",
       "25%        0.0\n",
       "50%        0.0\n",
       "75%        0.0\n",
       "max        0.0"
      ]
     },
     "execution_count": 36,
     "metadata": {},
     "output_type": "execute_result"
    }
   ],
   "source": [
    "df_1 = pd.DataFrame()\n",
    "df_1['3.0'] = df[3.0].copy()\n",
    "\n",
    "df_1['3.0'] = prep.outlier_truncation(prep.input[46.0], verbose = 1)\n",
    "df_1.describe().round(2)"
   ]
  },
  {
   "cell_type": "markdown",
   "metadata": {},
   "source": [
    "### MinMax Scaling"
   ]
  },
  {
   "cell_type": "code",
   "execution_count": 37,
   "metadata": {},
   "outputs": [],
   "source": [
    "def scale(df, features='all', kind='MinMax', verbose=0):\n",
    "    output = df.copy()\n",
    "    features = df.select_dtypes(include=['int', 'float']).columns if features == 'all' else features\n",
    "    \n",
    "    if kind == 'MinMax':\n",
    "        from sklearn.preprocessing import MinMaxScaler\n",
    "        \n",
    "        scaler = MinMaxScaler()\n",
    "        output[features] = scaler.fit_transform(df[features])\n",
    "        print('[MinMaxScaler] Finished scaling the data.') if verbose != 0 else None\n",
    "    else:\n",
    "        raise InputError('Chosen scaling method is not available.')\n",
    "    return output \n",
    "\n",
    "# add to the class\n",
    "setattr(Preparation_Agent, 'scale', scale)\n",
    "#del scale"
   ]
  },
  {
   "cell_type": "code",
   "execution_count": 38,
   "metadata": {},
   "outputs": [
    {
     "name": "stdout",
     "output_type": "stream",
     "text": [
      "[MinMaxScaler] Finished scaling the data.\n"
     ]
    },
    {
     "name": "stderr",
     "output_type": "stream",
     "text": [
      "/Users/sofyakonchakova/Conda/anaconda3/lib/python3.9/site-packages/sklearn/utils/validation.py:1688: FutureWarning: Feature names only support names that are all strings. Got feature names with dtypes: ['float']. An error will be raised in 1.2.\n",
      "  warnings.warn(\n",
      "/Users/sofyakonchakova/Conda/anaconda3/lib/python3.9/site-packages/sklearn/utils/validation.py:1688: FutureWarning: Feature names only support names that are all strings. Got feature names with dtypes: ['float']. An error will be raised in 1.2.\n",
      "  warnings.warn(\n"
     ]
    }
   ],
   "source": [
    "prep = Preparation_Agent()\n",
    "household_s = scale(df, verbose = 1)"
   ]
  },
  {
   "cell_type": "code",
   "execution_count": 39,
   "metadata": {},
   "outputs": [
    {
     "data": {
      "text/html": [
       "<div>\n",
       "<style scoped>\n",
       "    .dataframe tbody tr th:only-of-type {\n",
       "        vertical-align: middle;\n",
       "    }\n",
       "\n",
       "    .dataframe tbody tr th {\n",
       "        vertical-align: top;\n",
       "    }\n",
       "\n",
       "    .dataframe thead th {\n",
       "        text-align: right;\n",
       "    }\n",
       "</style>\n",
       "<table border=\"1\" class=\"dataframe\">\n",
       "  <thead>\n",
       "    <tr style=\"text-align: right;\">\n",
       "      <th>node_id</th>\n",
       "      <th>3.0</th>\n",
       "      <th>15.0</th>\n",
       "      <th>34.0</th>\n",
       "      <th>46.0</th>\n",
       "    </tr>\n",
       "  </thead>\n",
       "  <tbody>\n",
       "    <tr>\n",
       "      <th>count</th>\n",
       "      <td>27347.000</td>\n",
       "      <td>27347.0</td>\n",
       "      <td>27347.0</td>\n",
       "      <td>27347.000</td>\n",
       "    </tr>\n",
       "    <tr>\n",
       "      <th>mean</th>\n",
       "      <td>0.013</td>\n",
       "      <td>0.0</td>\n",
       "      <td>0.0</td>\n",
       "      <td>0.003</td>\n",
       "    </tr>\n",
       "    <tr>\n",
       "      <th>std</th>\n",
       "      <td>0.066</td>\n",
       "      <td>0.0</td>\n",
       "      <td>0.0</td>\n",
       "      <td>0.057</td>\n",
       "    </tr>\n",
       "    <tr>\n",
       "      <th>min</th>\n",
       "      <td>0.000</td>\n",
       "      <td>0.0</td>\n",
       "      <td>0.0</td>\n",
       "      <td>0.000</td>\n",
       "    </tr>\n",
       "    <tr>\n",
       "      <th>25%</th>\n",
       "      <td>0.000</td>\n",
       "      <td>0.0</td>\n",
       "      <td>0.0</td>\n",
       "      <td>0.000</td>\n",
       "    </tr>\n",
       "    <tr>\n",
       "      <th>50%</th>\n",
       "      <td>0.000</td>\n",
       "      <td>0.0</td>\n",
       "      <td>0.0</td>\n",
       "      <td>0.000</td>\n",
       "    </tr>\n",
       "    <tr>\n",
       "      <th>75%</th>\n",
       "      <td>0.000</td>\n",
       "      <td>0.0</td>\n",
       "      <td>0.0</td>\n",
       "      <td>0.000</td>\n",
       "    </tr>\n",
       "    <tr>\n",
       "      <th>max</th>\n",
       "      <td>1.000</td>\n",
       "      <td>0.0</td>\n",
       "      <td>0.0</td>\n",
       "      <td>1.000</td>\n",
       "    </tr>\n",
       "  </tbody>\n",
       "</table>\n",
       "</div>"
      ],
      "text/plain": [
       "node_id        3.0     15.0     34.0       46.0\n",
       "count    27347.000  27347.0  27347.0  27347.000\n",
       "mean         0.013      0.0      0.0      0.003\n",
       "std          0.066      0.0      0.0      0.057\n",
       "min          0.000      0.0      0.0      0.000\n",
       "25%          0.000      0.0      0.0      0.000\n",
       "50%          0.000      0.0      0.0      0.000\n",
       "75%          0.000      0.0      0.0      0.000\n",
       "max          1.000      0.0      0.0      1.000"
      ]
     },
     "execution_count": 39,
     "metadata": {},
     "output_type": "execute_result"
    }
   ],
   "source": [
    "household_s.describe().round(3)"
   ]
  },
  {
   "cell_type": "markdown",
   "metadata": {},
   "source": [
    "## Feature Creation"
   ]
  },
  {
   "cell_type": "markdown",
   "metadata": {},
   "source": [
    "### Resampling by hour\n",
    "\n"
   ]
  },
  {
   "cell_type": "code",
   "execution_count": 50,
   "metadata": {},
   "outputs": [
    {
     "data": {
      "text/html": [
       "<div>\n",
       "<style scoped>\n",
       "    .dataframe tbody tr th:only-of-type {\n",
       "        vertical-align: middle;\n",
       "    }\n",
       "\n",
       "    .dataframe tbody tr th {\n",
       "        vertical-align: top;\n",
       "    }\n",
       "\n",
       "    .dataframe thead th {\n",
       "        text-align: right;\n",
       "    }\n",
       "</style>\n",
       "<table border=\"1\" class=\"dataframe\">\n",
       "  <thead>\n",
       "    <tr style=\"text-align: right;\">\n",
       "      <th>node_id</th>\n",
       "      <th>3.0</th>\n",
       "      <th>15.0</th>\n",
       "      <th>34.0</th>\n",
       "      <th>46.0</th>\n",
       "    </tr>\n",
       "  </thead>\n",
       "  <tbody>\n",
       "    <tr>\n",
       "      <th>count</th>\n",
       "      <td>247.000</td>\n",
       "      <td>247.0</td>\n",
       "      <td>247.0</td>\n",
       "      <td>247.000</td>\n",
       "    </tr>\n",
       "    <tr>\n",
       "      <th>mean</th>\n",
       "      <td>0.011</td>\n",
       "      <td>0.0</td>\n",
       "      <td>0.0</td>\n",
       "      <td>0.002</td>\n",
       "    </tr>\n",
       "    <tr>\n",
       "      <th>std</th>\n",
       "      <td>0.035</td>\n",
       "      <td>0.0</td>\n",
       "      <td>0.0</td>\n",
       "      <td>0.022</td>\n",
       "    </tr>\n",
       "    <tr>\n",
       "      <th>min</th>\n",
       "      <td>0.000</td>\n",
       "      <td>0.0</td>\n",
       "      <td>0.0</td>\n",
       "      <td>0.000</td>\n",
       "    </tr>\n",
       "    <tr>\n",
       "      <th>25%</th>\n",
       "      <td>0.000</td>\n",
       "      <td>0.0</td>\n",
       "      <td>0.0</td>\n",
       "      <td>0.000</td>\n",
       "    </tr>\n",
       "    <tr>\n",
       "      <th>50%</th>\n",
       "      <td>0.000</td>\n",
       "      <td>0.0</td>\n",
       "      <td>0.0</td>\n",
       "      <td>0.000</td>\n",
       "    </tr>\n",
       "    <tr>\n",
       "      <th>75%</th>\n",
       "      <td>0.000</td>\n",
       "      <td>0.0</td>\n",
       "      <td>0.0</td>\n",
       "      <td>0.000</td>\n",
       "    </tr>\n",
       "    <tr>\n",
       "      <th>max</th>\n",
       "      <td>0.242</td>\n",
       "      <td>0.0</td>\n",
       "      <td>0.0</td>\n",
       "      <td>0.323</td>\n",
       "    </tr>\n",
       "  </tbody>\n",
       "</table>\n",
       "</div>"
      ],
      "text/plain": [
       "node_id      3.0   15.0   34.0     46.0\n",
       "count    247.000  247.0  247.0  247.000\n",
       "mean       0.011    0.0    0.0    0.002\n",
       "std        0.035    0.0    0.0    0.022\n",
       "min        0.000    0.0    0.0    0.000\n",
       "25%        0.000    0.0    0.0    0.000\n",
       "50%        0.000    0.0    0.0    0.000\n",
       "75%        0.000    0.0    0.0    0.000\n",
       "max        0.242    0.0    0.0    0.323"
      ]
     },
     "execution_count": 50,
     "metadata": {},
     "output_type": "execute_result"
    }
   ],
   "source": [
    "#aggregating per hour\n",
    "household_s.last_changed = pd.to_datetime(household_s.last_changed)\n",
    "data = household_s.resample('60T', on=\"last_changed\").mean()\n",
    "data.describe().round(3)\n"
   ]
  },
  {
   "cell_type": "code",
   "execution_count": 46,
   "metadata": {},
   "outputs": [],
   "source": [
    "def plot_consumption(df, features='all', figsize='default', threshold=None, title='Consumption'):\n",
    "    import matplotlib.pyplot as plt\n",
    "\n",
    "    df = df.copy()\n",
    "    features = [column for column in df.columns if column not in ['Unix', 'Issues']] if features == 'all' else features\n",
    "\n",
    "    fig, ax = plt.subplots(figsize=figsize) if figsize != 'default' else plt.subplots()\n",
    "    if threshold != None:\n",
    "        df['threshold'] = [threshold]*df.shape[0]\n",
    "        ax.plot(df['threshold'], color = 'tab:red')\n",
    "    for feature in features:\n",
    "        ax.plot(df[feature])\n",
    "    ax.legend(['threshold'] + features) if threshold != None else ax.legend(features)\n",
    "    ax.set_title(title);\n",
    "\n"
   ]
  },
  {
   "cell_type": "code",
   "execution_count": 53,
   "metadata": {},
   "outputs": [
    {
     "data": {
      "image/png": "[encoded data removed]",
      "text/plain": [
       "<Figure size 640x480 with 1 Axes>"
      ]
     },
     "metadata": {},
     "output_type": "display_data"
    }
   ],
   "source": [
    "plot_consumption(data, threshold=.10)"
   ]
  },
  {
   "cell_type": "markdown",
   "metadata": {},
   "source": [
    "### Device Usage Feature"
   ]
  },
  {
   "cell_type": "code",
   "execution_count": 55,
   "metadata": {},
   "outputs": [],
   "source": [
    "def get_device_usage(df, device, threshold):\n",
    "    return (df.loc[:, device] > threshold).astype('int')"
   ]
  },
  {
   "cell_type": "code",
   "execution_count": 59,
   "metadata": {},
   "outputs": [
    {
     "data": {
      "text/plain": [
       "count    247.000\n",
       "mean       0.016\n",
       "std        0.126\n",
       "min        0.000\n",
       "25%        0.000\n",
       "50%        0.000\n",
       "75%        0.000\n",
       "max        1.000\n",
       "Name: 3.0, dtype: float64"
      ]
     },
     "execution_count": 59,
     "metadata": {},
     "output_type": "execute_result"
    }
   ],
   "source": [
    "# hourly usage of device 'Television Site' in the household on Jan 1, 2014\n",
    "usage_col = get_device_usage(data, 3.0, .15)\n",
    "usage_col.describe().round(3)"
   ]
  },
  {
   "cell_type": "code",
   "execution_count": 247,
   "metadata": {},
   "outputs": [],
   "source": [
    "def pipeline_extracting(self, df, params):\n",
    "    import sqlite3\n",
    "    import pandas as pd \n",
    "    \n",
    "     "
   ]
  },
  {
   "cell_type": "markdown",
   "metadata": {},
   "source": [
    "3 - kitchen lamp \n",
    "15 - child room lamp\n",
    "34 - bedroom lamp\n",
    "46 - living room\n",
    "41 - \n",
    "48 - rolls for windows, disregard\n",
    "\n",
    "\n",
    "-> aggregate per hour\n",
    "\n",
    "\n",
    "-> focus on integration"
   ]
  }
 ],
 "metadata": {
  "kernelspec": {
   "display_name": "Python 3.9.13 ('base')",
   "language": "python",
   "name": "python3"
  },
  "language_info": {
   "codemirror_mode": {
    "name": "ipython",
    "version": 3
   },
   "file_extension": ".py",
   "mimetype": "text/x-python",
   "name": "python",
   "nbconvert_exporter": "python",
   "pygments_lexer": "ipython3",
   "version": "3.9.13"
  },
  "orig_nbformat": 4,
  "vscode": {
   "interpreter": {
    "hash": "fd19f899bcdfa6c353e9525ef244de6eb28a54f3ba596d530144acef4e3bc685"
   }
  }
 },
 "nbformat": 4,
 "nbformat_minor": 2
}
