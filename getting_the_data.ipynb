{
 "cells": [
  {
   "cell_type": "code",
   "execution_count": 2,
   "metadata": {},
   "outputs": [],
   "source": [
    "#installing dependencies\n",
    "import sqlite3\n",
    "import pandas as pd  \n",
    "dbfile = '/Users/sofyakonchakova/Desktop/Data_Science/data/home-assistant_v2.db'\n"
   ]
  },
  {
   "cell_type": "markdown",
   "metadata": {},
   "source": [
    "### SQL Data Pulling\n"
   ]
  },
  {
   "cell_type": "code",
   "execution_count": 3,
   "metadata": {},
   "outputs": [
    {
     "name": "stdout",
     "output_type": "stream",
     "text": [
      "[('events',), ('recorder_runs',), ('schema_changes',), ('states',), ('statistics_meta',), ('statistics',), ('statistics_short_term',), ('statistics_runs',)]\n"
     ]
    }
   ],
   "source": [
    "#with these lines access the sql database\n",
    "con = sqlite3.connect(dbfile)\n",
    "cur = con.cursor()\n",
    "table_list = [a for a in cur.execute(\"SELECT name FROM sqlite_master WHERE type = 'table'\")]\n",
    "print(table_list)\n",
    "con.close()"
   ]
  },
  {
   "cell_type": "code",
   "execution_count": 7,
   "metadata": {},
   "outputs": [],
   "source": [
    "#accessing the events data base\n",
    "with sqlite3.connect(dbfile) as con:\n",
    "    cur = con.cursor()\n",
    "    cur.execute(\"SELECT * FROM events\")\n",
    "    events = cur.fetchall()\n",
    "\n",
    "#converting it to the pandas data frame\n",
    "from_events_db = []\n",
    "\n",
    "for result in events:\n",
    "    result = list(result)\n",
    "    from_events_db.append(result)\n",
    "\n",
    "columns = [\"event_id\",\"event_type\",\"event_data\",\"origin\",\"time_fired\",\"created\",\"context_id\",\"context_user_id\",\"context_parent_id\"]\n",
    "events_df = pd.DataFrame(from_events_db, columns = columns)"
   ]
  },
  {
   "cell_type": "code",
   "execution_count": 10,
   "metadata": {},
   "outputs": [
    {
     "name": "stdout",
     "output_type": "stream",
     "text": [
      "(11287622, 'state_changed', '{}', 'LOCAL', '2021-12-02 03:12:05.162304', '2021-12-02 03:12:05.162304', '165b40ded15eb3ac829cb9cc928488e0', None, None)\n",
      "(11287623, 'state_changed', '{}', 'LOCAL', '2021-12-02 03:12:05.162807', '2021-12-02 03:12:05.162807', '96e82b80f0ac922bccb9cc3cec0a0cd1', None, None)\n",
      "(11287624, 'state_changed', '{}', 'LOCAL', '2021-12-02 03:12:05.191776', '2021-12-02 03:12:05.191776', 'b9147b7388f02ee17b913d72199a6c86', None, None)\n",
      "(11287625, 'state_changed', '{}', 'LOCAL', '2021-12-02 03:12:05.220377', '2021-12-02 03:12:05.220377', '13a83bcf01322ee87c31abe3d6956df9', None, None)\n",
      "(11287626, 'state_changed', '{}', 'LOCAL', '2021-12-02 03:12:05.252402', '2021-12-02 03:12:05.252402', '6304dddf2693fa55a72c5d39c39f77be', None, None)\n"
     ]
    }
   ],
   "source": [
    "#example of exported lines\n",
    "for x in events[0:5]:\n",
    "    print(x)"
   ]
  },
  {
   "cell_type": "code",
   "execution_count": 15,
   "metadata": {},
   "outputs": [],
   "source": [
    "#acessing the schema_changes database\n",
    "with sqlite3.connect(dbfile) as con:\n",
    "    cur = con.cursor()\n",
    "    cur.execute(\"SELECT * FROM schema_changes\")\n",
    "    schema_changes = cur.fetchall()\n",
    "\n",
    "#converting it to the pandas data frame\n",
    "from_schema_changes_db = []\n",
    "\n",
    "for result in schema_changes:\n",
    "    result = list(result)\n",
    "    from_schema_changes_db.append(result)\n",
    "\n",
    "columns = [\"change_id\",\"schema_version\",\"changed\"]\n",
    "schema_changes_df = pd.DataFrame(from_schema_changes_db, columns = columns)"
   ]
  },
  {
   "cell_type": "code",
   "execution_count": 17,
   "metadata": {},
   "outputs": [],
   "source": [
    "#acessing the states database\n",
    "with sqlite3.connect(dbfile) as con:\n",
    "    cur = con.cursor()\n",
    "    cur.execute(\"SELECT * FROM states\")\n",
    "    states = cur.fetchall()\n",
    "    \n",
    "#converting it to the pandas data frame\n",
    "from_states_db = []\n",
    "\n",
    "for result in states:\n",
    "    result = list(result)\n",
    "    from_states_db.append(result)\n",
    "\n",
    "columns = [\"state_id\",\"domain\",\"entity_id\",\"state\",\"attributes\",\"event_id\",\"last_changed\",\"last_updated\",\"created\",\"old_state_id\"]\n",
    "states_df = pd.DataFrame(from_states_db, columns = columns)"
   ]
  },
  {
   "cell_type": "code",
   "execution_count": 18,
   "metadata": {},
   "outputs": [],
   "source": [
    "#acessing the statistics database\n",
    "with sqlite3.connect(dbfile) as con:\n",
    "    cur = con.cursor()\n",
    "    cur.execute(\"SELECT * FROM statistics\")\n",
    "    statistics = cur.fetchall()\n",
    "\n",
    "#converting it to the pandas data frame\n",
    "from_statistics_db = []\n",
    "\n",
    "for result in statistics:\n",
    "    result = list(result)\n",
    "    from_statistics_db.append(result)\n",
    "\n",
    "columns = [\"id\",\"created\",\"metadata_id\",\"start\",\"mean\",\"min\",\"max\",\"last_reset\",\"state\",\"sum\"]\n",
    "statistics_df = pd.DataFrame(from_statistics_db, columns = columns)"
   ]
  },
  {
   "cell_type": "code",
   "execution_count": 19,
   "metadata": {},
   "outputs": [],
   "source": [
    "#acessing the statistics_meta database\n",
    "with sqlite3.connect(dbfile) as con:\n",
    "    cur = con.cursor()\n",
    "    cur.execute(\"SELECT * FROM statistics_meta\")\n",
    "    statistics_meta = cur.fetchall()\n",
    "\n",
    "#converting it to the pandas data frame\n",
    "from_statistics_meta_db = []\n",
    "\n",
    "for result in statistics_meta:\n",
    "    result = list(result)\n",
    "    from_statistics_meta_db.append(result)\n",
    "\n",
    "columns = [\"id\",\"statistic_id\",\"source\",\"unit_of_measurement\",\"has_mean\",\"has_sum\",\"name\"]\n",
    "statistics_meta_df = pd.DataFrame(from_statistics_meta_db, columns = columns)"
   ]
  },
  {
   "cell_type": "code",
   "execution_count": 21,
   "metadata": {},
   "outputs": [],
   "source": [
    "#acessing the statistics_runs database\n",
    "with sqlite3.connect(dbfile) as con:\n",
    "    cur = con.cursor()\n",
    "    cur.execute(\"SELECT * FROM statistics_runs\")\n",
    "    statistics_runs = cur.fetchall()\n",
    "\n",
    "#converting it to the pandas data frame\n",
    "from_statistics_runs_db = []\n",
    "\n",
    "for result in statistics_runs:\n",
    "    result = list(result)\n",
    "    from_statistics_runs_db.append(result)\n",
    "\n",
    "columns = [\"run_id\",\"start\"]\n",
    "statistics_runs_df = pd.DataFrame(from_statistics_runs_db, columns = columns)"
   ]
  },
  {
   "cell_type": "code",
   "execution_count": 22,
   "metadata": {},
   "outputs": [],
   "source": [
    "#acessing the statistics_short database\n",
    "with sqlite3.connect(dbfile) as con:\n",
    "    cur = con.cursor()\n",
    "    cur.execute(\"SELECT * FROM statistics_short_term\")\n",
    "    statistics_short_term = cur.fetchall()\n",
    "\n",
    "#converting it to the pandas data frame\n",
    "from_statistics_short_term_db = []\n",
    "\n",
    "for result in statistics_short_term:\n",
    "    result = list(result)\n",
    "    from_statistics_short_term_db.append(result)\n",
    "\n",
    "columns = [\"id\",\"created\",\"start\",\"mean\",\"min\",\"max\",\"last_reset\",\"state\",\"sum\",\"metadata_id\"]\n",
    "statistics_short_term_df = pd.DataFrame(from_statistics_short_term_db, columns = columns)"
   ]
  },
  {
   "cell_type": "code",
   "execution_count": 33,
   "metadata": {},
   "outputs": [
    {
     "name": "stdout",
     "output_type": "stream",
     "text": [
      "The shape of datasets: \n",
      " events: (508630, 9), \n",
      " schema_changes : (13, 3)\n",
      " states : (507505, 10), \n",
      " statistics : (12340, 10),\n",
      " statistics_meta: (13, 7),\n",
      " statistics_runs : (2954, 2),\n",
      " statistics_short_term: (2954, 2)\n"
     ]
    }
   ],
   "source": [
    "#shapes of these dataframes\n",
    "statistics_short_term_df.shape\n",
    "print(f'The shape of datasets: \\n events: {events_df.shape}, \\n schema_changes : {schema_changes_df.shape}\\n states : {states_df.shape}, \\n statistics : {statistics_df.shape},\\n statistics_meta: {statistics_meta_df.shape},\\n statistics_runs : {statistics_runs_df.shape},\\n statistics_short_term: {statistics_runs_df.shape}')"
   ]
  }
 ],
 "metadata": {
  "kernelspec": {
   "display_name": "Python 3.9.13 ('base')",
   "language": "python",
   "name": "python3"
  },
  "language_info": {
   "codemirror_mode": {
    "name": "ipython",
    "version": 3
   },
   "file_extension": ".py",
   "mimetype": "text/x-python",
   "name": "python",
   "nbconvert_exporter": "python",
   "pygments_lexer": "ipython3",
   "version": "3.9.13"
  },
  "orig_nbformat": 4,
  "vscode": {
   "interpreter": {
    "hash": "fd19f899bcdfa6c353e9525ef244de6eb28a54f3ba596d530144acef4e3bc685"
   }
  }
 },
 "nbformat": 4,
 "nbformat_minor": 2
}
