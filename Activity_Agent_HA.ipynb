{
 "cells": [
  {
   "cell_type": "markdown",
   "metadata": {
    "id": "eWcGAGgFE_M7"
   },
   "source": [
    "# **Activity Agent**\n",
    "\n",
    "The activity agent will be responsible for predicting the user's activity for a given day. It will produce activity probabilities for the given user and the given day on an hourly level. These hourly activity probabilities will be processed by the subsequent recommendation agent to determine for which hours our framework should make recommendations. As input the activity agent receives the prepared data from the preparation agent.\n",
    "\n",
    "We will define an activity agent class, add necessary functions to the agent, explain each step and build our final activity agent pipeline. A complete activity agent class definition will be available in the appendix to this notebook."
   ]
  },
  {
   "cell_type": "markdown",
   "metadata": {
    "id": "OrrXBEI4s6zc"
   },
   "source": [
    "## **1. Preparing the Environment**"
   ]
  },
  {
   "cell_type": "markdown",
   "metadata": {
    "id": "tJ4EHWrhW6_m"
   },
   "source": [
    "### **1.1 Loading the Libraries and the Data**\n",
    "\n",
    "Steps to set up the environment for the activity agent include loading the necessary libraries, data and preceding agents.\n"
   ]
  },
  {
   "cell_type": "code",
   "execution_count": 1,
   "metadata": {
    "executionInfo": {
     "elapsed": 38554,
     "status": "ok",
     "timestamp": 1607622434744,
     "user": {
      "displayName": "Leon H",
      "photoUrl": "",
      "userId": "10150017554198726068"
     },
     "user_tz": -60
    },
    "id": "VzS_qOg8teXQ"
   },
   "outputs": [],
   "source": [
    "import pandas as pd\n",
    "import numpy as np\n",
    "\n",
    "dir = '/Users/sofyakonchakova/Desktop/HU_Berlin/SIS/codes/'\n",
    "os.chdir(dir)\n",
    "\n",
    "from helper_functions import Helper\n",
    "from PreparationAgent import Preparation_Agent\n",
    "import pandas as pd\n",
    "\n",
    "helper = Helper()\n",
    "\n",
    "dbfile  = \"/Users/sofyakonchakova/Desktop/home-assistant_Chris.db\"\n"
   ]
  },
  {
   "cell_type": "code",
   "execution_count": 2,
   "metadata": {},
   "outputs": [],
   "source": [
    "def export_sql2(file = dbfile):\n",
    "    import sqlite3\n",
    "    import pandas as pd  \n",
    "    with sqlite3.connect(file) as con:\n",
    "        cur = con.cursor()\n",
    "        cur.execute(\"SELECT * FROM states\")\n",
    "        states = cur.fetchall()\n",
    "    from_states_db = []\n",
    "    for result in states:\n",
    "        result = list(result)\n",
    "        from_states_db.append(result)\n",
    "    columns = [\"state_id\",\"entity_id\",\"state\",\"attributes\",\"event_id\",\"last_changed\",\"last_updated\",\"old_state_id\",\"attributes_id\",\"context_id\",\"context_user_id\",\"context_parent_id\",\"origin_idx\"]\n",
    "    states_df = pd.DataFrame(from_states_db, columns = columns)\n",
    "\n",
    "    with sqlite3.connect(file) as con:\n",
    "        cur = con.cursor()\n",
    "        cur.execute(\"SELECT * FROM state_attributes\")\n",
    "        state_attributes = cur.fetchall()\n",
    "    from_state_attributes_db = []\n",
    "    for result in state_attributes:\n",
    "        result = list(result)\n",
    "        from_state_attributes_db.append(result)\n",
    "    columns = [\"attributes_id\",\"hash\",\"shared_attributes\"]\n",
    "    state_attributes_df = pd.DataFrame(from_state_attributes_db, columns = columns)\n",
    "\n",
    "    output = pd.merge(states_df, state_attributes_df, how= \"left\", on = 'attributes_id')\n",
    "    return output"
   ]
  },
  {
   "cell_type": "code",
   "execution_count": 3,
   "metadata": {
    "executionInfo": {
     "elapsed": 50814,
     "status": "ok",
     "timestamp": 1607622447009,
     "user": {
      "displayName": "Leon H",
      "photoUrl": "",
      "userId": "10150017554198726068"
     },
     "user_tz": -60
    },
    "id": "qCjWp7PIAeSZ"
   },
   "outputs": [],
   "source": [
    "# load household data\n",
    "prep = Preparation_Agent(export_sql2(dbfile))"
   ]
  },
  {
   "cell_type": "markdown",
   "metadata": {
    "id": "QisezqyFAt39"
   },
   "source": [
    "### **1.2 Calling the Preparation Agent**\n",
    "\n",
    "To receive the necessary input for the activity agent, we will call the activity pipeline function of the preparation agent. We will specify the input data and the necessary configurations. As a quick validation that the preparation pipeline worked properly, we will plot the hourly activity of the household.\n",
    "\n",
    "The current input data includes only a few time features and activity lags. However, our agent architecture allows to expand the inputs to the activity agent to further features or further data sources (e.g. whether data). For the purpose of demonstrating the functionality of our framework, we only use the inputs from the prepared REFIT data. \n"
   ]
  },
  {
   "cell_type": "code",
   "execution_count": 4,
   "metadata": {
    "executionInfo": {
     "elapsed": 50821,
     "status": "ok",
     "timestamp": 1607622447021,
     "user": {
      "displayName": "Leon H",
      "photoUrl": "",
      "userId": "10150017554198726068"
     },
     "user_tz": -60
    },
    "id": "CP1f_6EvAygB"
   },
   "outputs": [],
   "source": [
    "truncation_params = {\n",
    "    'features': 'all', \n",
    "    'factor': 1.5, \n",
    "    'verbose': 1\n",
    "}\n",
    "\n",
    "scale_params = {\n",
    "    'features': 'all', \n",
    "    'kind': 'MinMax', \n",
    "    'verbose': 1\n",
    "}\n",
    "\n",
    "aggregate_params = {\n",
    "    'resample_param': '60T'\n",
    "}\n",
    "#update with active appliances attributes_ids\n",
    "activity_params = {\n",
    "    'active_appliances': [573,579,603,605],\n",
    "    'threshold': .15\n",
    "}\n",
    "\n",
    "time_params = {\n",
    "    'features': ['hour', 'day_name']\n",
    "}\n",
    "\n",
    "activity_lag_params = {\n",
    "    'features': ['activity'],\n",
    "    'lags': [24, 48, 72]\n",
    "}\n",
    "\n",
    "activity_pipe_params = {\n",
    "    'truncate': truncation_params,\n",
    "    'scale': scale_params,\n",
    "    'aggregate': aggregate_params,\n",
    "    'activity': activity_params,\n",
    "    'time': time_params,\n",
    "    'activity_lag': activity_lag_params\n",
    "}"
   ]
  },
  {
   "cell_type": "code",
   "execution_count": 10,
   "metadata": {},
   "outputs": [
    {
     "data": {
      "text/plain": [
       "<bound method Preparation_Agent.pipeline_activity of <PreparationAgent.Preparation_Agent object at 0x7fea9597a580>>"
      ]
     },
     "execution_count": 10,
     "metadata": {},
     "output_type": "execute_result"
    }
   ],
   "source": [
    "prep.pipeline_activity"
   ]
  },
  {
   "cell_type": "code",
   "execution_count": 5,
   "metadata": {
    "colab": {
     "base_uri": "https://localhost:8080/",
     "height": 1000
    },
    "executionInfo": {
     "elapsed": 108175,
     "status": "ok",
     "timestamp": 1607622504415,
     "user": {
      "displayName": "Leon H",
      "photoUrl": "",
      "userId": "10150017554198726068"
     },
     "user_tz": -60
    },
    "id": "NOrSOdufBY5q",
    "outputId": "c00ab194-b017-4105-c8a4-336e8f38820d"
   },
   "outputs": [
    {
     "name": "stderr",
     "output_type": "stream",
     "text": [
      "[outlier truncation: 573]: 100%|██████████| 651/651 [00:00<00:00, 540691.47it/s]\n"
     ]
    },
    {
     "name": "stdout",
     "output_type": "stream",
     "text": [
      "[outlier truncation: 573]: 0 outliers were truncated.\n",
      "\n",
      "\n"
     ]
    },
    {
     "name": "stderr",
     "output_type": "stream",
     "text": [
      "[outlier truncation: 579]: 100%|██████████| 302/302 [00:00<00:00, 666673.58it/s]\n"
     ]
    },
    {
     "name": "stdout",
     "output_type": "stream",
     "text": [
      "[outlier truncation: 579]: 0 outliers were truncated.\n",
      "\n",
      "\n"
     ]
    },
    {
     "name": "stderr",
     "output_type": "stream",
     "text": [
      "[outlier truncation: 603]: 0it [00:00, ?it/s]\n"
     ]
    },
    {
     "name": "stdout",
     "output_type": "stream",
     "text": [
      "[outlier truncation: 603]: 0 outliers were truncated.\n",
      "\n",
      "\n"
     ]
    },
    {
     "name": "stderr",
     "output_type": "stream",
     "text": [
      "[outlier truncation: 605]: 0it [00:00, ?it/s]\n"
     ]
    },
    {
     "name": "stdout",
     "output_type": "stream",
     "text": [
      "[outlier truncation: 605]: 0 outliers were truncated.\n",
      "\n",
      "\n",
      "[MinMaxScaler] Finished scaling the data.\n"
     ]
    },
    {
     "data": {
      "text/html": [
       "<div>\n",
       "<style scoped>\n",
       "    .dataframe tbody tr th:only-of-type {\n",
       "        vertical-align: middle;\n",
       "    }\n",
       "\n",
       "    .dataframe tbody tr th {\n",
       "        vertical-align: top;\n",
       "    }\n",
       "\n",
       "    .dataframe thead th {\n",
       "        text-align: right;\n",
       "    }\n",
       "</style>\n",
       "<table border=\"1\" class=\"dataframe\">\n",
       "  <thead>\n",
       "    <tr style=\"text-align: right;\">\n",
       "      <th></th>\n",
       "      <th>activity</th>\n",
       "      <th>hour</th>\n",
       "      <th>activity_lag_24</th>\n",
       "      <th>activity_lag_48</th>\n",
       "      <th>activity_lag_72</th>\n",
       "      <th>day_name_Monday</th>\n",
       "      <th>day_name_Saturday</th>\n",
       "      <th>day_name_Sunday</th>\n",
       "      <th>day_name_Thursday</th>\n",
       "      <th>day_name_Tuesday</th>\n",
       "      <th>day_name_Wednesday</th>\n",
       "    </tr>\n",
       "    <tr>\n",
       "      <th>last_updated</th>\n",
       "      <th></th>\n",
       "      <th></th>\n",
       "      <th></th>\n",
       "      <th></th>\n",
       "      <th></th>\n",
       "      <th></th>\n",
       "      <th></th>\n",
       "      <th></th>\n",
       "      <th></th>\n",
       "      <th></th>\n",
       "      <th></th>\n",
       "    </tr>\n",
       "  </thead>\n",
       "  <tbody>\n",
       "    <tr>\n",
       "      <th>2022-11-21 17:00:00</th>\n",
       "      <td>1</td>\n",
       "      <td>17</td>\n",
       "      <td>NaN</td>\n",
       "      <td>NaN</td>\n",
       "      <td>NaN</td>\n",
       "      <td>1</td>\n",
       "      <td>0</td>\n",
       "      <td>0</td>\n",
       "      <td>0</td>\n",
       "      <td>0</td>\n",
       "      <td>0</td>\n",
       "    </tr>\n",
       "    <tr>\n",
       "      <th>2022-11-21 18:00:00</th>\n",
       "      <td>1</td>\n",
       "      <td>18</td>\n",
       "      <td>NaN</td>\n",
       "      <td>NaN</td>\n",
       "      <td>NaN</td>\n",
       "      <td>1</td>\n",
       "      <td>0</td>\n",
       "      <td>0</td>\n",
       "      <td>0</td>\n",
       "      <td>0</td>\n",
       "      <td>0</td>\n",
       "    </tr>\n",
       "    <tr>\n",
       "      <th>2022-11-21 19:00:00</th>\n",
       "      <td>0</td>\n",
       "      <td>19</td>\n",
       "      <td>NaN</td>\n",
       "      <td>NaN</td>\n",
       "      <td>NaN</td>\n",
       "      <td>1</td>\n",
       "      <td>0</td>\n",
       "      <td>0</td>\n",
       "      <td>0</td>\n",
       "      <td>0</td>\n",
       "      <td>0</td>\n",
       "    </tr>\n",
       "    <tr>\n",
       "      <th>2022-11-21 20:00:00</th>\n",
       "      <td>1</td>\n",
       "      <td>20</td>\n",
       "      <td>NaN</td>\n",
       "      <td>NaN</td>\n",
       "      <td>NaN</td>\n",
       "      <td>1</td>\n",
       "      <td>0</td>\n",
       "      <td>0</td>\n",
       "      <td>0</td>\n",
       "      <td>0</td>\n",
       "      <td>0</td>\n",
       "    </tr>\n",
       "    <tr>\n",
       "      <th>2022-11-21 21:00:00</th>\n",
       "      <td>0</td>\n",
       "      <td>21</td>\n",
       "      <td>NaN</td>\n",
       "      <td>NaN</td>\n",
       "      <td>NaN</td>\n",
       "      <td>1</td>\n",
       "      <td>0</td>\n",
       "      <td>0</td>\n",
       "      <td>0</td>\n",
       "      <td>0</td>\n",
       "      <td>0</td>\n",
       "    </tr>\n",
       "    <tr>\n",
       "      <th>...</th>\n",
       "      <td>...</td>\n",
       "      <td>...</td>\n",
       "      <td>...</td>\n",
       "      <td>...</td>\n",
       "      <td>...</td>\n",
       "      <td>...</td>\n",
       "      <td>...</td>\n",
       "      <td>...</td>\n",
       "      <td>...</td>\n",
       "      <td>...</td>\n",
       "      <td>...</td>\n",
       "    </tr>\n",
       "    <tr>\n",
       "      <th>2022-11-30 13:00:00</th>\n",
       "      <td>1</td>\n",
       "      <td>13</td>\n",
       "      <td>0.0</td>\n",
       "      <td>0.0</td>\n",
       "      <td>0.0</td>\n",
       "      <td>0</td>\n",
       "      <td>0</td>\n",
       "      <td>0</td>\n",
       "      <td>0</td>\n",
       "      <td>0</td>\n",
       "      <td>1</td>\n",
       "    </tr>\n",
       "    <tr>\n",
       "      <th>2022-11-30 14:00:00</th>\n",
       "      <td>1</td>\n",
       "      <td>14</td>\n",
       "      <td>0.0</td>\n",
       "      <td>0.0</td>\n",
       "      <td>0.0</td>\n",
       "      <td>0</td>\n",
       "      <td>0</td>\n",
       "      <td>0</td>\n",
       "      <td>0</td>\n",
       "      <td>0</td>\n",
       "      <td>1</td>\n",
       "    </tr>\n",
       "    <tr>\n",
       "      <th>2022-11-30 15:00:00</th>\n",
       "      <td>0</td>\n",
       "      <td>15</td>\n",
       "      <td>0.0</td>\n",
       "      <td>0.0</td>\n",
       "      <td>0.0</td>\n",
       "      <td>0</td>\n",
       "      <td>0</td>\n",
       "      <td>0</td>\n",
       "      <td>0</td>\n",
       "      <td>0</td>\n",
       "      <td>1</td>\n",
       "    </tr>\n",
       "    <tr>\n",
       "      <th>2022-11-30 16:00:00</th>\n",
       "      <td>0</td>\n",
       "      <td>16</td>\n",
       "      <td>0.0</td>\n",
       "      <td>0.0</td>\n",
       "      <td>0.0</td>\n",
       "      <td>0</td>\n",
       "      <td>0</td>\n",
       "      <td>0</td>\n",
       "      <td>0</td>\n",
       "      <td>0</td>\n",
       "      <td>1</td>\n",
       "    </tr>\n",
       "    <tr>\n",
       "      <th>2022-11-30 17:00:00</th>\n",
       "      <td>1</td>\n",
       "      <td>17</td>\n",
       "      <td>0.0</td>\n",
       "      <td>0.0</td>\n",
       "      <td>0.0</td>\n",
       "      <td>0</td>\n",
       "      <td>0</td>\n",
       "      <td>0</td>\n",
       "      <td>0</td>\n",
       "      <td>0</td>\n",
       "      <td>1</td>\n",
       "    </tr>\n",
       "  </tbody>\n",
       "</table>\n",
       "<p>217 rows × 11 columns</p>\n",
       "</div>"
      ],
      "text/plain": [
       "                     activity  hour  activity_lag_24  activity_lag_48  \\\n",
       "last_updated                                                            \n",
       "2022-11-21 17:00:00         1    17              NaN              NaN   \n",
       "2022-11-21 18:00:00         1    18              NaN              NaN   \n",
       "2022-11-21 19:00:00         0    19              NaN              NaN   \n",
       "2022-11-21 20:00:00         1    20              NaN              NaN   \n",
       "2022-11-21 21:00:00         0    21              NaN              NaN   \n",
       "...                       ...   ...              ...              ...   \n",
       "2022-11-30 13:00:00         1    13              0.0              0.0   \n",
       "2022-11-30 14:00:00         1    14              0.0              0.0   \n",
       "2022-11-30 15:00:00         0    15              0.0              0.0   \n",
       "2022-11-30 16:00:00         0    16              0.0              0.0   \n",
       "2022-11-30 17:00:00         1    17              0.0              0.0   \n",
       "\n",
       "                     activity_lag_72  day_name_Monday  day_name_Saturday  \\\n",
       "last_updated                                                               \n",
       "2022-11-21 17:00:00              NaN                1                  0   \n",
       "2022-11-21 18:00:00              NaN                1                  0   \n",
       "2022-11-21 19:00:00              NaN                1                  0   \n",
       "2022-11-21 20:00:00              NaN                1                  0   \n",
       "2022-11-21 21:00:00              NaN                1                  0   \n",
       "...                              ...              ...                ...   \n",
       "2022-11-30 13:00:00              0.0                0                  0   \n",
       "2022-11-30 14:00:00              0.0                0                  0   \n",
       "2022-11-30 15:00:00              0.0                0                  0   \n",
       "2022-11-30 16:00:00              0.0                0                  0   \n",
       "2022-11-30 17:00:00              0.0                0                  0   \n",
       "\n",
       "                     day_name_Sunday  day_name_Thursday  day_name_Tuesday  \\\n",
       "last_updated                                                                \n",
       "2022-11-21 17:00:00                0                  0                 0   \n",
       "2022-11-21 18:00:00                0                  0                 0   \n",
       "2022-11-21 19:00:00                0                  0                 0   \n",
       "2022-11-21 20:00:00                0                  0                 0   \n",
       "2022-11-21 21:00:00                0                  0                 0   \n",
       "...                              ...                ...               ...   \n",
       "2022-11-30 13:00:00                0                  0                 0   \n",
       "2022-11-30 14:00:00                0                  0                 0   \n",
       "2022-11-30 15:00:00                0                  0                 0   \n",
       "2022-11-30 16:00:00                0                  0                 0   \n",
       "2022-11-30 17:00:00                0                  0                 0   \n",
       "\n",
       "                     day_name_Wednesday  \n",
       "last_updated                             \n",
       "2022-11-21 17:00:00                   0  \n",
       "2022-11-21 18:00:00                   0  \n",
       "2022-11-21 19:00:00                   0  \n",
       "2022-11-21 20:00:00                   0  \n",
       "2022-11-21 21:00:00                   0  \n",
       "...                                 ...  \n",
       "2022-11-30 13:00:00                   1  \n",
       "2022-11-30 14:00:00                   1  \n",
       "2022-11-30 15:00:00                   1  \n",
       "2022-11-30 16:00:00                   1  \n",
       "2022-11-30 17:00:00                   1  \n",
       "\n",
       "[217 rows x 11 columns]"
      ]
     },
     "execution_count": 5,
     "metadata": {},
     "output_type": "execute_result"
    }
   ],
   "source": [
    "# calling the preparation pipelin\n",
    "db = export_sql2(dbfile)\n",
    "import pandas as pd\n",
    "df = prep.pipeline_activity(db, activity_pipe_params)\n",
    "df"
   ]
  },
  {
   "cell_type": "code",
   "execution_count": 6,
   "metadata": {
    "colab": {
     "base_uri": "https://localhost:8080/",
     "height": 295
    },
    "executionInfo": {
     "elapsed": 108144,
     "status": "ok",
     "timestamp": 1607622504422,
     "user": {
      "displayName": "Leon H",
      "photoUrl": "",
      "userId": "10150017554198726068"
     },
     "user_tz": -60
    },
    "id": "XMEj_9y2CnVv",
    "outputId": "28c159c0-4117-4647-df05-a6ed797ee05a"
   },
   "outputs": [
    {
     "data": {
      "image/png": "[encoded data removed]",
      "text/plain": [
       "<Figure size 640x480 with 1 Axes>"
      ]
     },
     "metadata": {},
     "output_type": "display_data"
    }
   ],
   "source": [
    "import matplotlib.pyplot as plt\n",
    "\n",
    "df.groupby(by='hour').mean()['activity'].plot();\n",
    "plt.title('Average hourly activity')\n",
    "plt.ylim(-0.1, 1.1);\n"
   ]
  },
  {
   "cell_type": "markdown",
   "metadata": {
    "id": "T1CTQIKBDCXO"
   },
   "source": [
    "## **2. Creating the Activity Agent**"
   ]
  },
  {
   "cell_type": "code",
   "execution_count": 7,
   "metadata": {
    "executionInfo": {
     "elapsed": 108144,
     "status": "ok",
     "timestamp": 1607622504425,
     "user": {
      "displayName": "Leon H",
      "photoUrl": "",
      "userId": "10150017554198726068"
     },
     "user_tz": -60
    },
    "id": "rK6ASFf4DFso"
   },
   "outputs": [],
   "source": [
    "class Activity_Agent:\n",
    "\n",
    "    def __init__(self, activity_input_df):\n",
    "        self.input = activity_input_df"
   ]
  },
  {
   "cell_type": "markdown",
   "metadata": {
    "id": "EZumht1rEkBL"
   },
   "source": [
    "### **2.1 Train Test Split**\n",
    "\n",
    "As our recommendation framework will provide recommendations for a given day, our activity agent must be able to provide activity predictions for each day. However, for each day to be predicted we are only allowed to use information from the past to prevent leakage. Therefore, we will create a custom train test split function to meet the time series requirements. \n",
    "\n",
    "Our train test split function will enable us to conveniently split our data in the train and test data sets for each day to be predicted while allowing for further configurations of the split (i.e. size of the train and test data sets)."
   ]
  },
  {
   "cell_type": "markdown",
   "metadata": {
    "id": "CqWrmBl6NZi0"
   },
   "source": [
    "**X_test**"
   ]
  },
  {
   "cell_type": "code",
   "execution_count": 8,
   "metadata": {
    "executionInfo": {
     "elapsed": 108140,
     "status": "ok",
     "timestamp": 1607622504427,
     "user": {
      "displayName": "Leon H",
      "photoUrl": "",
      "userId": "10150017554198726068"
     },
     "user_tz": -60
    },
    "id": "DriEbbpvNbmH"
   },
   "outputs": [],
   "source": [
    "def get_Xtest(self, df, date, time_delta='all', target='activity'):\n",
    "    import pandas as pd\n",
    "    from helper_functions import Helper\n",
    "\n",
    "    helper = Helper()\n",
    "    \n",
    "    if time_delta == 'all':\n",
    "        output = df.loc[pd.to_datetime(date):, df.columns != target]\n",
    "    else:\n",
    "        df = helper.get_timespan(df, date, time_delta)\n",
    "        output = df.loc[:, df.columns != target]\n",
    "    return output\n",
    "\n",
    "# add to Activity agent\n",
    "setattr(Activity_Agent, 'get_Xtest', get_Xtest)\n",
    "del get_Xtest"
   ]
  },
  {
   "cell_type": "code",
   "execution_count": 10,
   "metadata": {
    "colab": {
     "base_uri": "https://localhost:8080/",
     "height": 810
    },
    "executionInfo": {
     "elapsed": 108103,
     "status": "ok",
     "timestamp": 1607622504428,
     "user": {
      "displayName": "Leon H",
      "photoUrl": "",
      "userId": "10150017554198726068"
     },
     "user_tz": -60
    },
    "id": "qt9snGWeNtV9",
    "outputId": "438200f4-cc4d-4cb6-b5c2-03f92c44ac41"
   },
   "outputs": [
    {
     "data": {
      "text/html": [
       "<div>\n",
       "<style scoped>\n",
       "    .dataframe tbody tr th:only-of-type {\n",
       "        vertical-align: middle;\n",
       "    }\n",
       "\n",
       "    .dataframe tbody tr th {\n",
       "        vertical-align: top;\n",
       "    }\n",
       "\n",
       "    .dataframe thead th {\n",
       "        text-align: right;\n",
       "    }\n",
       "</style>\n",
       "<table border=\"1\" class=\"dataframe\">\n",
       "  <thead>\n",
       "    <tr style=\"text-align: right;\">\n",
       "      <th></th>\n",
       "      <th>hour</th>\n",
       "      <th>activity_lag_24</th>\n",
       "      <th>activity_lag_48</th>\n",
       "      <th>activity_lag_72</th>\n",
       "      <th>day_name_Monday</th>\n",
       "      <th>day_name_Saturday</th>\n",
       "      <th>day_name_Sunday</th>\n",
       "      <th>day_name_Thursday</th>\n",
       "      <th>day_name_Tuesday</th>\n",
       "      <th>day_name_Wednesday</th>\n",
       "    </tr>\n",
       "    <tr>\n",
       "      <th>last_updated</th>\n",
       "      <th></th>\n",
       "      <th></th>\n",
       "      <th></th>\n",
       "      <th></th>\n",
       "      <th></th>\n",
       "      <th></th>\n",
       "      <th></th>\n",
       "      <th></th>\n",
       "      <th></th>\n",
       "      <th></th>\n",
       "    </tr>\n",
       "  </thead>\n",
       "  <tbody>\n",
       "    <tr>\n",
       "      <th>2022-11-21 17:00:00</th>\n",
       "      <td>17</td>\n",
       "      <td>NaN</td>\n",
       "      <td>NaN</td>\n",
       "      <td>NaN</td>\n",
       "      <td>1</td>\n",
       "      <td>0</td>\n",
       "      <td>0</td>\n",
       "      <td>0</td>\n",
       "      <td>0</td>\n",
       "      <td>0</td>\n",
       "    </tr>\n",
       "    <tr>\n",
       "      <th>2022-11-21 18:00:00</th>\n",
       "      <td>18</td>\n",
       "      <td>NaN</td>\n",
       "      <td>NaN</td>\n",
       "      <td>NaN</td>\n",
       "      <td>1</td>\n",
       "      <td>0</td>\n",
       "      <td>0</td>\n",
       "      <td>0</td>\n",
       "      <td>0</td>\n",
       "      <td>0</td>\n",
       "    </tr>\n",
       "    <tr>\n",
       "      <th>2022-11-21 19:00:00</th>\n",
       "      <td>19</td>\n",
       "      <td>NaN</td>\n",
       "      <td>NaN</td>\n",
       "      <td>NaN</td>\n",
       "      <td>1</td>\n",
       "      <td>0</td>\n",
       "      <td>0</td>\n",
       "      <td>0</td>\n",
       "      <td>0</td>\n",
       "      <td>0</td>\n",
       "    </tr>\n",
       "    <tr>\n",
       "      <th>2022-11-21 20:00:00</th>\n",
       "      <td>20</td>\n",
       "      <td>NaN</td>\n",
       "      <td>NaN</td>\n",
       "      <td>NaN</td>\n",
       "      <td>1</td>\n",
       "      <td>0</td>\n",
       "      <td>0</td>\n",
       "      <td>0</td>\n",
       "      <td>0</td>\n",
       "      <td>0</td>\n",
       "    </tr>\n",
       "    <tr>\n",
       "      <th>2022-11-21 21:00:00</th>\n",
       "      <td>21</td>\n",
       "      <td>NaN</td>\n",
       "      <td>NaN</td>\n",
       "      <td>NaN</td>\n",
       "      <td>1</td>\n",
       "      <td>0</td>\n",
       "      <td>0</td>\n",
       "      <td>0</td>\n",
       "      <td>0</td>\n",
       "      <td>0</td>\n",
       "    </tr>\n",
       "    <tr>\n",
       "      <th>...</th>\n",
       "      <td>...</td>\n",
       "      <td>...</td>\n",
       "      <td>...</td>\n",
       "      <td>...</td>\n",
       "      <td>...</td>\n",
       "      <td>...</td>\n",
       "      <td>...</td>\n",
       "      <td>...</td>\n",
       "      <td>...</td>\n",
       "      <td>...</td>\n",
       "    </tr>\n",
       "    <tr>\n",
       "      <th>2022-11-30 13:00:00</th>\n",
       "      <td>13</td>\n",
       "      <td>0.0</td>\n",
       "      <td>0.0</td>\n",
       "      <td>0.0</td>\n",
       "      <td>0</td>\n",
       "      <td>0</td>\n",
       "      <td>0</td>\n",
       "      <td>0</td>\n",
       "      <td>0</td>\n",
       "      <td>1</td>\n",
       "    </tr>\n",
       "    <tr>\n",
       "      <th>2022-11-30 14:00:00</th>\n",
       "      <td>14</td>\n",
       "      <td>0.0</td>\n",
       "      <td>0.0</td>\n",
       "      <td>0.0</td>\n",
       "      <td>0</td>\n",
       "      <td>0</td>\n",
       "      <td>0</td>\n",
       "      <td>0</td>\n",
       "      <td>0</td>\n",
       "      <td>1</td>\n",
       "    </tr>\n",
       "    <tr>\n",
       "      <th>2022-11-30 15:00:00</th>\n",
       "      <td>15</td>\n",
       "      <td>0.0</td>\n",
       "      <td>0.0</td>\n",
       "      <td>0.0</td>\n",
       "      <td>0</td>\n",
       "      <td>0</td>\n",
       "      <td>0</td>\n",
       "      <td>0</td>\n",
       "      <td>0</td>\n",
       "      <td>1</td>\n",
       "    </tr>\n",
       "    <tr>\n",
       "      <th>2022-11-30 16:00:00</th>\n",
       "      <td>16</td>\n",
       "      <td>0.0</td>\n",
       "      <td>0.0</td>\n",
       "      <td>0.0</td>\n",
       "      <td>0</td>\n",
       "      <td>0</td>\n",
       "      <td>0</td>\n",
       "      <td>0</td>\n",
       "      <td>0</td>\n",
       "      <td>1</td>\n",
       "    </tr>\n",
       "    <tr>\n",
       "      <th>2022-11-30 17:00:00</th>\n",
       "      <td>17</td>\n",
       "      <td>0.0</td>\n",
       "      <td>0.0</td>\n",
       "      <td>0.0</td>\n",
       "      <td>0</td>\n",
       "      <td>0</td>\n",
       "      <td>0</td>\n",
       "      <td>0</td>\n",
       "      <td>0</td>\n",
       "      <td>1</td>\n",
       "    </tr>\n",
       "  </tbody>\n",
       "</table>\n",
       "<p>217 rows × 10 columns</p>\n",
       "</div>"
      ],
      "text/plain": [
       "                     hour  activity_lag_24  activity_lag_48  activity_lag_72  \\\n",
       "last_updated                                                                   \n",
       "2022-11-21 17:00:00    17              NaN              NaN              NaN   \n",
       "2022-11-21 18:00:00    18              NaN              NaN              NaN   \n",
       "2022-11-21 19:00:00    19              NaN              NaN              NaN   \n",
       "2022-11-21 20:00:00    20              NaN              NaN              NaN   \n",
       "2022-11-21 21:00:00    21              NaN              NaN              NaN   \n",
       "...                   ...              ...              ...              ...   \n",
       "2022-11-30 13:00:00    13              0.0              0.0              0.0   \n",
       "2022-11-30 14:00:00    14              0.0              0.0              0.0   \n",
       "2022-11-30 15:00:00    15              0.0              0.0              0.0   \n",
       "2022-11-30 16:00:00    16              0.0              0.0              0.0   \n",
       "2022-11-30 17:00:00    17              0.0              0.0              0.0   \n",
       "\n",
       "                     day_name_Monday  day_name_Saturday  day_name_Sunday  \\\n",
       "last_updated                                                               \n",
       "2022-11-21 17:00:00                1                  0                0   \n",
       "2022-11-21 18:00:00                1                  0                0   \n",
       "2022-11-21 19:00:00                1                  0                0   \n",
       "2022-11-21 20:00:00                1                  0                0   \n",
       "2022-11-21 21:00:00                1                  0                0   \n",
       "...                              ...                ...              ...   \n",
       "2022-11-30 13:00:00                0                  0                0   \n",
       "2022-11-30 14:00:00                0                  0                0   \n",
       "2022-11-30 15:00:00                0                  0                0   \n",
       "2022-11-30 16:00:00                0                  0                0   \n",
       "2022-11-30 17:00:00                0                  0                0   \n",
       "\n",
       "                     day_name_Thursday  day_name_Tuesday  day_name_Wednesday  \n",
       "last_updated                                                                  \n",
       "2022-11-21 17:00:00                  0                 0                   0  \n",
       "2022-11-21 18:00:00                  0                 0                   0  \n",
       "2022-11-21 19:00:00                  0                 0                   0  \n",
       "2022-11-21 20:00:00                  0                 0                   0  \n",
       "2022-11-21 21:00:00                  0                 0                   0  \n",
       "...                                ...               ...                 ...  \n",
       "2022-11-30 13:00:00                  0                 0                   1  \n",
       "2022-11-30 14:00:00                  0                 0                   1  \n",
       "2022-11-30 15:00:00                  0                 0                   1  \n",
       "2022-11-30 16:00:00                  0                 0                   1  \n",
       "2022-11-30 17:00:00                  0                 0                   1  \n",
       "\n",
       "[217 rows x 10 columns]"
      ]
     },
     "execution_count": 10,
     "metadata": {},
     "output_type": "execute_result"
    }
   ],
   "source": [
    "date = '2022-11-21'\n",
    "activity = Activity_Agent(df)\n",
    "X_test = activity.get_Xtest(df, date)\n",
    "X_test"
   ]
  },
  {
   "cell_type": "code",
   "execution_count": 12,
   "metadata": {
    "colab": {
     "base_uri": "https://localhost:8080/",
     "height": 1000
    },
    "executionInfo": {
     "elapsed": 108073,
     "status": "ok",
     "timestamp": 1607622504434,
     "user": {
      "displayName": "Leon H",
      "photoUrl": "",
      "userId": "10150017554198726068"
     },
     "user_tz": -60
    },
    "id": "UtZ9wkb_GTcS",
    "outputId": "501b3dd6-e182-4fd1-fbf9-b01327d88457"
   },
   "outputs": [
    {
     "data": {
      "text/html": [
       "<div>\n",
       "<style scoped>\n",
       "    .dataframe tbody tr th:only-of-type {\n",
       "        vertical-align: middle;\n",
       "    }\n",
       "\n",
       "    .dataframe tbody tr th {\n",
       "        vertical-align: top;\n",
       "    }\n",
       "\n",
       "    .dataframe thead th {\n",
       "        text-align: right;\n",
       "    }\n",
       "</style>\n",
       "<table border=\"1\" class=\"dataframe\">\n",
       "  <thead>\n",
       "    <tr style=\"text-align: right;\">\n",
       "      <th></th>\n",
       "      <th>hour</th>\n",
       "      <th>activity_lag_24</th>\n",
       "      <th>activity_lag_48</th>\n",
       "      <th>activity_lag_72</th>\n",
       "      <th>day_name_Monday</th>\n",
       "      <th>day_name_Saturday</th>\n",
       "      <th>day_name_Sunday</th>\n",
       "      <th>day_name_Thursday</th>\n",
       "      <th>day_name_Tuesday</th>\n",
       "      <th>day_name_Wednesday</th>\n",
       "    </tr>\n",
       "    <tr>\n",
       "      <th>last_updated</th>\n",
       "      <th></th>\n",
       "      <th></th>\n",
       "      <th></th>\n",
       "      <th></th>\n",
       "      <th></th>\n",
       "      <th></th>\n",
       "      <th></th>\n",
       "      <th></th>\n",
       "      <th></th>\n",
       "      <th></th>\n",
       "    </tr>\n",
       "  </thead>\n",
       "  <tbody>\n",
       "    <tr>\n",
       "      <th>2022-11-21 17:00:00</th>\n",
       "      <td>17</td>\n",
       "      <td>NaN</td>\n",
       "      <td>NaN</td>\n",
       "      <td>NaN</td>\n",
       "      <td>1</td>\n",
       "      <td>0</td>\n",
       "      <td>0</td>\n",
       "      <td>0</td>\n",
       "      <td>0</td>\n",
       "      <td>0</td>\n",
       "    </tr>\n",
       "    <tr>\n",
       "      <th>2022-11-21 18:00:00</th>\n",
       "      <td>18</td>\n",
       "      <td>NaN</td>\n",
       "      <td>NaN</td>\n",
       "      <td>NaN</td>\n",
       "      <td>1</td>\n",
       "      <td>0</td>\n",
       "      <td>0</td>\n",
       "      <td>0</td>\n",
       "      <td>0</td>\n",
       "      <td>0</td>\n",
       "    </tr>\n",
       "    <tr>\n",
       "      <th>2022-11-21 19:00:00</th>\n",
       "      <td>19</td>\n",
       "      <td>NaN</td>\n",
       "      <td>NaN</td>\n",
       "      <td>NaN</td>\n",
       "      <td>1</td>\n",
       "      <td>0</td>\n",
       "      <td>0</td>\n",
       "      <td>0</td>\n",
       "      <td>0</td>\n",
       "      <td>0</td>\n",
       "    </tr>\n",
       "    <tr>\n",
       "      <th>2022-11-21 20:00:00</th>\n",
       "      <td>20</td>\n",
       "      <td>NaN</td>\n",
       "      <td>NaN</td>\n",
       "      <td>NaN</td>\n",
       "      <td>1</td>\n",
       "      <td>0</td>\n",
       "      <td>0</td>\n",
       "      <td>0</td>\n",
       "      <td>0</td>\n",
       "      <td>0</td>\n",
       "    </tr>\n",
       "    <tr>\n",
       "      <th>2022-11-21 21:00:00</th>\n",
       "      <td>21</td>\n",
       "      <td>NaN</td>\n",
       "      <td>NaN</td>\n",
       "      <td>NaN</td>\n",
       "      <td>1</td>\n",
       "      <td>0</td>\n",
       "      <td>0</td>\n",
       "      <td>0</td>\n",
       "      <td>0</td>\n",
       "      <td>0</td>\n",
       "    </tr>\n",
       "    <tr>\n",
       "      <th>2022-11-21 22:00:00</th>\n",
       "      <td>22</td>\n",
       "      <td>NaN</td>\n",
       "      <td>NaN</td>\n",
       "      <td>NaN</td>\n",
       "      <td>1</td>\n",
       "      <td>0</td>\n",
       "      <td>0</td>\n",
       "      <td>0</td>\n",
       "      <td>0</td>\n",
       "      <td>0</td>\n",
       "    </tr>\n",
       "    <tr>\n",
       "      <th>2022-11-21 23:00:00</th>\n",
       "      <td>23</td>\n",
       "      <td>NaN</td>\n",
       "      <td>NaN</td>\n",
       "      <td>NaN</td>\n",
       "      <td>1</td>\n",
       "      <td>0</td>\n",
       "      <td>0</td>\n",
       "      <td>0</td>\n",
       "      <td>0</td>\n",
       "      <td>0</td>\n",
       "    </tr>\n",
       "  </tbody>\n",
       "</table>\n",
       "</div>"
      ],
      "text/plain": [
       "                     hour  activity_lag_24  activity_lag_48  activity_lag_72  \\\n",
       "last_updated                                                                   \n",
       "2022-11-21 17:00:00    17              NaN              NaN              NaN   \n",
       "2022-11-21 18:00:00    18              NaN              NaN              NaN   \n",
       "2022-11-21 19:00:00    19              NaN              NaN              NaN   \n",
       "2022-11-21 20:00:00    20              NaN              NaN              NaN   \n",
       "2022-11-21 21:00:00    21              NaN              NaN              NaN   \n",
       "2022-11-21 22:00:00    22              NaN              NaN              NaN   \n",
       "2022-11-21 23:00:00    23              NaN              NaN              NaN   \n",
       "\n",
       "                     day_name_Monday  day_name_Saturday  day_name_Sunday  \\\n",
       "last_updated                                                               \n",
       "2022-11-21 17:00:00                1                  0                0   \n",
       "2022-11-21 18:00:00                1                  0                0   \n",
       "2022-11-21 19:00:00                1                  0                0   \n",
       "2022-11-21 20:00:00                1                  0                0   \n",
       "2022-11-21 21:00:00                1                  0                0   \n",
       "2022-11-21 22:00:00                1                  0                0   \n",
       "2022-11-21 23:00:00                1                  0                0   \n",
       "\n",
       "                     day_name_Thursday  day_name_Tuesday  day_name_Wednesday  \n",
       "last_updated                                                                  \n",
       "2022-11-21 17:00:00                  0                 0                   0  \n",
       "2022-11-21 18:00:00                  0                 0                   0  \n",
       "2022-11-21 19:00:00                  0                 0                   0  \n",
       "2022-11-21 20:00:00                  0                 0                   0  \n",
       "2022-11-21 21:00:00                  0                 0                   0  \n",
       "2022-11-21 22:00:00                  0                 0                   0  \n",
       "2022-11-21 23:00:00                  0                 0                   0  "
      ]
     },
     "execution_count": 12,
     "metadata": {},
     "output_type": "execute_result"
    }
   ],
   "source": [
    "date = '2022-11-21'\n",
    "activity = Activity_Agent(df)\n",
    "time_delta = {'days': 1, 'seconds': -1}\n",
    "X_test = activity.get_Xtest(df, date, time_delta=time_delta)\n",
    "X_test"
   ]
  },
  {
   "cell_type": "code",
   "execution_count": 13,
   "metadata": {
    "colab": {
     "base_uri": "https://localhost:8080/",
     "height": 810
    },
    "executionInfo": {
     "elapsed": 109187,
     "status": "ok",
     "timestamp": 1607622505587,
     "user": {
      "displayName": "Leon H",
      "photoUrl": "",
      "userId": "10150017554198726068"
     },
     "user_tz": -60
    },
    "id": "NrVhitY0ISQU",
    "outputId": "203e7bf7-d66b-481c-c18f-71d3094aabeb"
   },
   "outputs": [
    {
     "data": {
      "text/html": [
       "<div>\n",
       "<style scoped>\n",
       "    .dataframe tbody tr th:only-of-type {\n",
       "        vertical-align: middle;\n",
       "    }\n",
       "\n",
       "    .dataframe tbody tr th {\n",
       "        vertical-align: top;\n",
       "    }\n",
       "\n",
       "    .dataframe thead th {\n",
       "        text-align: right;\n",
       "    }\n",
       "</style>\n",
       "<table border=\"1\" class=\"dataframe\">\n",
       "  <thead>\n",
       "    <tr style=\"text-align: right;\">\n",
       "      <th></th>\n",
       "      <th>hour</th>\n",
       "      <th>activity_lag_24</th>\n",
       "      <th>activity_lag_48</th>\n",
       "      <th>activity_lag_72</th>\n",
       "      <th>day_name_Monday</th>\n",
       "      <th>day_name_Saturday</th>\n",
       "      <th>day_name_Sunday</th>\n",
       "      <th>day_name_Thursday</th>\n",
       "      <th>day_name_Tuesday</th>\n",
       "      <th>day_name_Wednesday</th>\n",
       "    </tr>\n",
       "    <tr>\n",
       "      <th>last_updated</th>\n",
       "      <th></th>\n",
       "      <th></th>\n",
       "      <th></th>\n",
       "      <th></th>\n",
       "      <th></th>\n",
       "      <th></th>\n",
       "      <th></th>\n",
       "      <th></th>\n",
       "      <th></th>\n",
       "      <th></th>\n",
       "    </tr>\n",
       "  </thead>\n",
       "  <tbody>\n",
       "    <tr>\n",
       "      <th>2022-11-21 17:00:00</th>\n",
       "      <td>17</td>\n",
       "      <td>NaN</td>\n",
       "      <td>NaN</td>\n",
       "      <td>NaN</td>\n",
       "      <td>1</td>\n",
       "      <td>0</td>\n",
       "      <td>0</td>\n",
       "      <td>0</td>\n",
       "      <td>0</td>\n",
       "      <td>0</td>\n",
       "    </tr>\n",
       "    <tr>\n",
       "      <th>2022-11-21 18:00:00</th>\n",
       "      <td>18</td>\n",
       "      <td>NaN</td>\n",
       "      <td>NaN</td>\n",
       "      <td>NaN</td>\n",
       "      <td>1</td>\n",
       "      <td>0</td>\n",
       "      <td>0</td>\n",
       "      <td>0</td>\n",
       "      <td>0</td>\n",
       "      <td>0</td>\n",
       "    </tr>\n",
       "    <tr>\n",
       "      <th>2022-11-21 19:00:00</th>\n",
       "      <td>19</td>\n",
       "      <td>NaN</td>\n",
       "      <td>NaN</td>\n",
       "      <td>NaN</td>\n",
       "      <td>1</td>\n",
       "      <td>0</td>\n",
       "      <td>0</td>\n",
       "      <td>0</td>\n",
       "      <td>0</td>\n",
       "      <td>0</td>\n",
       "    </tr>\n",
       "    <tr>\n",
       "      <th>2022-11-21 20:00:00</th>\n",
       "      <td>20</td>\n",
       "      <td>NaN</td>\n",
       "      <td>NaN</td>\n",
       "      <td>NaN</td>\n",
       "      <td>1</td>\n",
       "      <td>0</td>\n",
       "      <td>0</td>\n",
       "      <td>0</td>\n",
       "      <td>0</td>\n",
       "      <td>0</td>\n",
       "    </tr>\n",
       "    <tr>\n",
       "      <th>2022-11-21 21:00:00</th>\n",
       "      <td>21</td>\n",
       "      <td>NaN</td>\n",
       "      <td>NaN</td>\n",
       "      <td>NaN</td>\n",
       "      <td>1</td>\n",
       "      <td>0</td>\n",
       "      <td>0</td>\n",
       "      <td>0</td>\n",
       "      <td>0</td>\n",
       "      <td>0</td>\n",
       "    </tr>\n",
       "    <tr>\n",
       "      <th>...</th>\n",
       "      <td>...</td>\n",
       "      <td>...</td>\n",
       "      <td>...</td>\n",
       "      <td>...</td>\n",
       "      <td>...</td>\n",
       "      <td>...</td>\n",
       "      <td>...</td>\n",
       "      <td>...</td>\n",
       "      <td>...</td>\n",
       "      <td>...</td>\n",
       "    </tr>\n",
       "    <tr>\n",
       "      <th>2022-11-27 19:00:00</th>\n",
       "      <td>19</td>\n",
       "      <td>0.0</td>\n",
       "      <td>0.0</td>\n",
       "      <td>0.0</td>\n",
       "      <td>0</td>\n",
       "      <td>0</td>\n",
       "      <td>1</td>\n",
       "      <td>0</td>\n",
       "      <td>0</td>\n",
       "      <td>0</td>\n",
       "    </tr>\n",
       "    <tr>\n",
       "      <th>2022-11-27 20:00:00</th>\n",
       "      <td>20</td>\n",
       "      <td>0.0</td>\n",
       "      <td>0.0</td>\n",
       "      <td>0.0</td>\n",
       "      <td>0</td>\n",
       "      <td>0</td>\n",
       "      <td>1</td>\n",
       "      <td>0</td>\n",
       "      <td>0</td>\n",
       "      <td>0</td>\n",
       "    </tr>\n",
       "    <tr>\n",
       "      <th>2022-11-27 21:00:00</th>\n",
       "      <td>21</td>\n",
       "      <td>0.0</td>\n",
       "      <td>0.0</td>\n",
       "      <td>0.0</td>\n",
       "      <td>0</td>\n",
       "      <td>0</td>\n",
       "      <td>1</td>\n",
       "      <td>0</td>\n",
       "      <td>0</td>\n",
       "      <td>0</td>\n",
       "    </tr>\n",
       "    <tr>\n",
       "      <th>2022-11-27 22:00:00</th>\n",
       "      <td>22</td>\n",
       "      <td>0.0</td>\n",
       "      <td>0.0</td>\n",
       "      <td>0.0</td>\n",
       "      <td>0</td>\n",
       "      <td>0</td>\n",
       "      <td>1</td>\n",
       "      <td>0</td>\n",
       "      <td>0</td>\n",
       "      <td>0</td>\n",
       "    </tr>\n",
       "    <tr>\n",
       "      <th>2022-11-27 23:00:00</th>\n",
       "      <td>23</td>\n",
       "      <td>0.0</td>\n",
       "      <td>0.0</td>\n",
       "      <td>0.0</td>\n",
       "      <td>0</td>\n",
       "      <td>0</td>\n",
       "      <td>1</td>\n",
       "      <td>0</td>\n",
       "      <td>0</td>\n",
       "      <td>0</td>\n",
       "    </tr>\n",
       "  </tbody>\n",
       "</table>\n",
       "<p>151 rows × 10 columns</p>\n",
       "</div>"
      ],
      "text/plain": [
       "                     hour  activity_lag_24  activity_lag_48  activity_lag_72  \\\n",
       "last_updated                                                                   \n",
       "2022-11-21 17:00:00    17              NaN              NaN              NaN   \n",
       "2022-11-21 18:00:00    18              NaN              NaN              NaN   \n",
       "2022-11-21 19:00:00    19              NaN              NaN              NaN   \n",
       "2022-11-21 20:00:00    20              NaN              NaN              NaN   \n",
       "2022-11-21 21:00:00    21              NaN              NaN              NaN   \n",
       "...                   ...              ...              ...              ...   \n",
       "2022-11-27 19:00:00    19              0.0              0.0              0.0   \n",
       "2022-11-27 20:00:00    20              0.0              0.0              0.0   \n",
       "2022-11-27 21:00:00    21              0.0              0.0              0.0   \n",
       "2022-11-27 22:00:00    22              0.0              0.0              0.0   \n",
       "2022-11-27 23:00:00    23              0.0              0.0              0.0   \n",
       "\n",
       "                     day_name_Monday  day_name_Saturday  day_name_Sunday  \\\n",
       "last_updated                                                               \n",
       "2022-11-21 17:00:00                1                  0                0   \n",
       "2022-11-21 18:00:00                1                  0                0   \n",
       "2022-11-21 19:00:00                1                  0                0   \n",
       "2022-11-21 20:00:00                1                  0                0   \n",
       "2022-11-21 21:00:00                1                  0                0   \n",
       "...                              ...                ...              ...   \n",
       "2022-11-27 19:00:00                0                  0                1   \n",
       "2022-11-27 20:00:00                0                  0                1   \n",
       "2022-11-27 21:00:00                0                  0                1   \n",
       "2022-11-27 22:00:00                0                  0                1   \n",
       "2022-11-27 23:00:00                0                  0                1   \n",
       "\n",
       "                     day_name_Thursday  day_name_Tuesday  day_name_Wednesday  \n",
       "last_updated                                                                  \n",
       "2022-11-21 17:00:00                  0                 0                   0  \n",
       "2022-11-21 18:00:00                  0                 0                   0  \n",
       "2022-11-21 19:00:00                  0                 0                   0  \n",
       "2022-11-21 20:00:00                  0                 0                   0  \n",
       "2022-11-21 21:00:00                  0                 0                   0  \n",
       "...                                ...               ...                 ...  \n",
       "2022-11-27 19:00:00                  0                 0                   0  \n",
       "2022-11-27 20:00:00                  0                 0                   0  \n",
       "2022-11-27 21:00:00                  0                 0                   0  \n",
       "2022-11-27 22:00:00                  0                 0                   0  \n",
       "2022-11-27 23:00:00                  0                 0                   0  \n",
       "\n",
       "[151 rows x 10 columns]"
      ]
     },
     "execution_count": 13,
     "metadata": {},
     "output_type": "execute_result"
    }
   ],
   "source": [
    "date = '2022-11-21'\n",
    "activity = Activity_Agent(df)\n",
    "time_delta = {'days': 7, 'seconds': -1}\n",
    "X_test = activity.get_Xtest(df, date, time_delta=time_delta)\n",
    "X_test"
   ]
  },
  {
   "cell_type": "markdown",
   "metadata": {
    "id": "rVjq9VF-LUI8"
   },
   "source": [
    "**y_test**"
   ]
  },
  {
   "cell_type": "code",
   "execution_count": 14,
   "metadata": {
    "executionInfo": {
     "elapsed": 109183,
     "status": "ok",
     "timestamp": 1607622505588,
     "user": {
      "displayName": "Leon H",
      "photoUrl": "",
      "userId": "10150017554198726068"
     },
     "user_tz": -60
    },
    "id": "5PaQ0TOdJ5_m"
   },
   "outputs": [],
   "source": [
    "def get_ytest(self, df, date, time_delta='all', target='activity'):\n",
    "    import pandas as pd\n",
    "    from helper_functions import Helper\n",
    "\n",
    "    helper = Helper()\n",
    "    \n",
    "    if time_delta == 'all':\n",
    "        output = df.loc[pd.to_datetime(date):, target]\n",
    "    else:\n",
    "        output = helper.get_timespan(df, date, time_delta)[target]\n",
    "    return output\n",
    "\n",
    "# add to Activity agent\n",
    "setattr(Activity_Agent, 'get_ytest', get_ytest)\n",
    "del get_ytest"
   ]
  },
  {
   "cell_type": "code",
   "execution_count": 15,
   "metadata": {
    "colab": {
     "base_uri": "https://localhost:8080/"
    },
    "executionInfo": {
     "elapsed": 109153,
     "status": "ok",
     "timestamp": 1607622505591,
     "user": {
      "displayName": "Leon H",
      "photoUrl": "",
      "userId": "10150017554198726068"
     },
     "user_tz": -60
    },
    "id": "INl50_xGLFTK",
    "outputId": "9272ce37-41b8-40ce-952f-3aee8d411b22"
   },
   "outputs": [
    {
     "data": {
      "text/plain": [
       "last_updated\n",
       "2022-11-21 17:00:00    1\n",
       "2022-11-21 18:00:00    1\n",
       "2022-11-21 19:00:00    0\n",
       "2022-11-21 20:00:00    1\n",
       "2022-11-21 21:00:00    0\n",
       "                      ..\n",
       "2022-11-30 13:00:00    1\n",
       "2022-11-30 14:00:00    1\n",
       "2022-11-30 15:00:00    0\n",
       "2022-11-30 16:00:00    0\n",
       "2022-11-30 17:00:00    1\n",
       "Freq: 60T, Name: activity, Length: 217, dtype: int64"
      ]
     },
     "execution_count": 15,
     "metadata": {},
     "output_type": "execute_result"
    }
   ],
   "source": [
    "date = '2022-11-21'\n",
    "activity = Activity_Agent(df)\n",
    "y_test = activity.get_ytest(df, date)\n",
    "y_test"
   ]
  },
  {
   "cell_type": "code",
   "execution_count": 22,
   "metadata": {
    "colab": {
     "base_uri": "https://localhost:8080/"
    },
    "executionInfo": {
     "elapsed": 109123,
     "status": "ok",
     "timestamp": 1607622505594,
     "user": {
      "displayName": "Leon H",
      "photoUrl": "",
      "userId": "10150017554198726068"
     },
     "user_tz": -60
    },
    "id": "mAyHkoLVJAau",
    "outputId": "6e4e698d-d03a-4c92-b58b-6a1452b0d9ce"
   },
   "outputs": [
    {
     "data": {
      "text/plain": [
       "last_updated\n",
       "2022-11-22 00:00:00    0\n",
       "2022-11-22 01:00:00    0\n",
       "2022-11-22 02:00:00    0\n",
       "2022-11-22 03:00:00    0\n",
       "2022-11-22 04:00:00    0\n",
       "                      ..\n",
       "2022-11-28 19:00:00    0\n",
       "2022-11-28 20:00:00    0\n",
       "2022-11-28 21:00:00    0\n",
       "2022-11-28 22:00:00    0\n",
       "2022-11-28 23:00:00    0\n",
       "Freq: 60T, Name: activity, Length: 168, dtype: int64"
      ]
     },
     "execution_count": 22,
     "metadata": {},
     "output_type": "execute_result"
    }
   ],
   "source": [
    "date = '2022-11-22'\n",
    "\n",
    "activity = Activity_Agent(df)\n",
    "time_delta = {'days': 7, 'seconds': -1}\n",
    "\n",
    "y_test = activity.get_ytest(df, date, time_delta=time_delta)\n",
    "y_test"
   ]
  },
  {
   "cell_type": "markdown",
   "metadata": {
    "id": "rmS0_1n8LW7o"
   },
   "source": [
    "**X_train**"
   ]
  },
  {
   "cell_type": "code",
   "execution_count": 18,
   "metadata": {
    "executionInfo": {
     "elapsed": 109122,
     "status": "ok",
     "timestamp": 1607622505598,
     "user": {
      "displayName": "Leon H",
      "photoUrl": "",
      "userId": "10150017554198726068"
     },
     "user_tz": -60
    },
    "id": "TXxe0UmALiLu"
   },
   "outputs": [],
   "source": [
    "# start = int (e.g. -100) --> 100 days before the day to be predicted will represent the train data\n",
    "def get_Xtrain(self, df, date, start='2013-11-01', target='activity'):\n",
    "    import pandas as pd\n",
    "\n",
    "    if type(start) == int:\n",
    "        start = pd.to_datetime(date) + pd.Timedelta(days= start)\n",
    "        start = pd.to_datetime('2013-11-01') if start < pd.to_datetime('2013-11-01') else start\n",
    "    else:\n",
    "        start = pd.to_datetime(start)\n",
    "    end = pd.to_datetime(date) + pd.Timedelta(seconds=-1)\n",
    "    return df.loc[start:end, df.columns != target]\n",
    "\n",
    "# add to Activity agent\n",
    "setattr(Activity_Agent, 'get_Xtrain', get_Xtrain)\n",
    "del get_Xtrain"
   ]
  },
  {
   "cell_type": "code",
   "execution_count": 20,
   "metadata": {
    "colab": {
     "base_uri": "https://localhost:8080/",
     "height": 810
    },
    "executionInfo": {
     "elapsed": 109092,
     "status": "ok",
     "timestamp": 1607622505600,
     "user": {
      "displayName": "Leon H",
      "photoUrl": "",
      "userId": "10150017554198726068"
     },
     "user_tz": -60
    },
    "id": "boF5_S0DNCMD",
    "outputId": "5d4727d0-e616-42c0-cb41-ee94d51f47c8"
   },
   "outputs": [
    {
     "data": {
      "text/html": [
       "<div>\n",
       "<style scoped>\n",
       "    .dataframe tbody tr th:only-of-type {\n",
       "        vertical-align: middle;\n",
       "    }\n",
       "\n",
       "    .dataframe tbody tr th {\n",
       "        vertical-align: top;\n",
       "    }\n",
       "\n",
       "    .dataframe thead th {\n",
       "        text-align: right;\n",
       "    }\n",
       "</style>\n",
       "<table border=\"1\" class=\"dataframe\">\n",
       "  <thead>\n",
       "    <tr style=\"text-align: right;\">\n",
       "      <th></th>\n",
       "      <th>hour</th>\n",
       "      <th>activity_lag_24</th>\n",
       "      <th>activity_lag_48</th>\n",
       "      <th>activity_lag_72</th>\n",
       "      <th>day_name_Monday</th>\n",
       "      <th>day_name_Saturday</th>\n",
       "      <th>day_name_Sunday</th>\n",
       "      <th>day_name_Thursday</th>\n",
       "      <th>day_name_Tuesday</th>\n",
       "      <th>day_name_Wednesday</th>\n",
       "    </tr>\n",
       "    <tr>\n",
       "      <th>last_updated</th>\n",
       "      <th></th>\n",
       "      <th></th>\n",
       "      <th></th>\n",
       "      <th></th>\n",
       "      <th></th>\n",
       "      <th></th>\n",
       "      <th></th>\n",
       "      <th></th>\n",
       "      <th></th>\n",
       "      <th></th>\n",
       "    </tr>\n",
       "  </thead>\n",
       "  <tbody>\n",
       "    <tr>\n",
       "      <th>2022-11-21 17:00:00</th>\n",
       "      <td>17</td>\n",
       "      <td>NaN</td>\n",
       "      <td>NaN</td>\n",
       "      <td>NaN</td>\n",
       "      <td>1</td>\n",
       "      <td>0</td>\n",
       "      <td>0</td>\n",
       "      <td>0</td>\n",
       "      <td>0</td>\n",
       "      <td>0</td>\n",
       "    </tr>\n",
       "    <tr>\n",
       "      <th>2022-11-21 18:00:00</th>\n",
       "      <td>18</td>\n",
       "      <td>NaN</td>\n",
       "      <td>NaN</td>\n",
       "      <td>NaN</td>\n",
       "      <td>1</td>\n",
       "      <td>0</td>\n",
       "      <td>0</td>\n",
       "      <td>0</td>\n",
       "      <td>0</td>\n",
       "      <td>0</td>\n",
       "    </tr>\n",
       "    <tr>\n",
       "      <th>2022-11-21 19:00:00</th>\n",
       "      <td>19</td>\n",
       "      <td>NaN</td>\n",
       "      <td>NaN</td>\n",
       "      <td>NaN</td>\n",
       "      <td>1</td>\n",
       "      <td>0</td>\n",
       "      <td>0</td>\n",
       "      <td>0</td>\n",
       "      <td>0</td>\n",
       "      <td>0</td>\n",
       "    </tr>\n",
       "    <tr>\n",
       "      <th>2022-11-21 20:00:00</th>\n",
       "      <td>20</td>\n",
       "      <td>NaN</td>\n",
       "      <td>NaN</td>\n",
       "      <td>NaN</td>\n",
       "      <td>1</td>\n",
       "      <td>0</td>\n",
       "      <td>0</td>\n",
       "      <td>0</td>\n",
       "      <td>0</td>\n",
       "      <td>0</td>\n",
       "    </tr>\n",
       "    <tr>\n",
       "      <th>2022-11-21 21:00:00</th>\n",
       "      <td>21</td>\n",
       "      <td>NaN</td>\n",
       "      <td>NaN</td>\n",
       "      <td>NaN</td>\n",
       "      <td>1</td>\n",
       "      <td>0</td>\n",
       "      <td>0</td>\n",
       "      <td>0</td>\n",
       "      <td>0</td>\n",
       "      <td>0</td>\n",
       "    </tr>\n",
       "    <tr>\n",
       "      <th>2022-11-21 22:00:00</th>\n",
       "      <td>22</td>\n",
       "      <td>NaN</td>\n",
       "      <td>NaN</td>\n",
       "      <td>NaN</td>\n",
       "      <td>1</td>\n",
       "      <td>0</td>\n",
       "      <td>0</td>\n",
       "      <td>0</td>\n",
       "      <td>0</td>\n",
       "      <td>0</td>\n",
       "    </tr>\n",
       "    <tr>\n",
       "      <th>2022-11-21 23:00:00</th>\n",
       "      <td>23</td>\n",
       "      <td>NaN</td>\n",
       "      <td>NaN</td>\n",
       "      <td>NaN</td>\n",
       "      <td>1</td>\n",
       "      <td>0</td>\n",
       "      <td>0</td>\n",
       "      <td>0</td>\n",
       "      <td>0</td>\n",
       "      <td>0</td>\n",
       "    </tr>\n",
       "  </tbody>\n",
       "</table>\n",
       "</div>"
      ],
      "text/plain": [
       "                     hour  activity_lag_24  activity_lag_48  activity_lag_72  \\\n",
       "last_updated                                                                   \n",
       "2022-11-21 17:00:00    17              NaN              NaN              NaN   \n",
       "2022-11-21 18:00:00    18              NaN              NaN              NaN   \n",
       "2022-11-21 19:00:00    19              NaN              NaN              NaN   \n",
       "2022-11-21 20:00:00    20              NaN              NaN              NaN   \n",
       "2022-11-21 21:00:00    21              NaN              NaN              NaN   \n",
       "2022-11-21 22:00:00    22              NaN              NaN              NaN   \n",
       "2022-11-21 23:00:00    23              NaN              NaN              NaN   \n",
       "\n",
       "                     day_name_Monday  day_name_Saturday  day_name_Sunday  \\\n",
       "last_updated                                                               \n",
       "2022-11-21 17:00:00                1                  0                0   \n",
       "2022-11-21 18:00:00                1                  0                0   \n",
       "2022-11-21 19:00:00                1                  0                0   \n",
       "2022-11-21 20:00:00                1                  0                0   \n",
       "2022-11-21 21:00:00                1                  0                0   \n",
       "2022-11-21 22:00:00                1                  0                0   \n",
       "2022-11-21 23:00:00                1                  0                0   \n",
       "\n",
       "                     day_name_Thursday  day_name_Tuesday  day_name_Wednesday  \n",
       "last_updated                                                                  \n",
       "2022-11-21 17:00:00                  0                 0                   0  \n",
       "2022-11-21 18:00:00                  0                 0                   0  \n",
       "2022-11-21 19:00:00                  0                 0                   0  \n",
       "2022-11-21 20:00:00                  0                 0                   0  \n",
       "2022-11-21 21:00:00                  0                 0                   0  \n",
       "2022-11-21 22:00:00                  0                 0                   0  \n",
       "2022-11-21 23:00:00                  0                 0                   0  "
      ]
     },
     "execution_count": 20,
     "metadata": {},
     "output_type": "execute_result"
    }
   ],
   "source": [
    "date = '2022-11-22'\n",
    "\n",
    "activity = Activity_Agent(df)\n",
    "X_train = activity.get_Xtrain(df, date)\n",
    "X_train"
   ]
  },
  {
   "cell_type": "code",
   "execution_count": 21,
   "metadata": {
    "colab": {
     "base_uri": "https://localhost:8080/",
     "height": 1000
    },
    "executionInfo": {
     "elapsed": 109044,
     "status": "ok",
     "timestamp": 1607622505603,
     "user": {
      "displayName": "Leon H",
      "photoUrl": "",
      "userId": "10150017554198726068"
     },
     "user_tz": -60
    },
    "id": "wSxGrNSYMh7_",
    "outputId": "1fdd832c-5fe4-4969-ce51-5212aec822be"
   },
   "outputs": [
    {
     "data": {
      "text/html": [
       "<div>\n",
       "<style scoped>\n",
       "    .dataframe tbody tr th:only-of-type {\n",
       "        vertical-align: middle;\n",
       "    }\n",
       "\n",
       "    .dataframe tbody tr th {\n",
       "        vertical-align: top;\n",
       "    }\n",
       "\n",
       "    .dataframe thead th {\n",
       "        text-align: right;\n",
       "    }\n",
       "</style>\n",
       "<table border=\"1\" class=\"dataframe\">\n",
       "  <thead>\n",
       "    <tr style=\"text-align: right;\">\n",
       "      <th></th>\n",
       "      <th>hour</th>\n",
       "      <th>activity_lag_24</th>\n",
       "      <th>activity_lag_48</th>\n",
       "      <th>activity_lag_72</th>\n",
       "      <th>day_name_Monday</th>\n",
       "      <th>day_name_Saturday</th>\n",
       "      <th>day_name_Sunday</th>\n",
       "      <th>day_name_Thursday</th>\n",
       "      <th>day_name_Tuesday</th>\n",
       "      <th>day_name_Wednesday</th>\n",
       "    </tr>\n",
       "    <tr>\n",
       "      <th>last_updated</th>\n",
       "      <th></th>\n",
       "      <th></th>\n",
       "      <th></th>\n",
       "      <th></th>\n",
       "      <th></th>\n",
       "      <th></th>\n",
       "      <th></th>\n",
       "      <th></th>\n",
       "      <th></th>\n",
       "      <th></th>\n",
       "    </tr>\n",
       "  </thead>\n",
       "  <tbody>\n",
       "    <tr>\n",
       "      <th>2022-11-21 17:00:00</th>\n",
       "      <td>17</td>\n",
       "      <td>NaN</td>\n",
       "      <td>NaN</td>\n",
       "      <td>NaN</td>\n",
       "      <td>1</td>\n",
       "      <td>0</td>\n",
       "      <td>0</td>\n",
       "      <td>0</td>\n",
       "      <td>0</td>\n",
       "      <td>0</td>\n",
       "    </tr>\n",
       "    <tr>\n",
       "      <th>2022-11-21 18:00:00</th>\n",
       "      <td>18</td>\n",
       "      <td>NaN</td>\n",
       "      <td>NaN</td>\n",
       "      <td>NaN</td>\n",
       "      <td>1</td>\n",
       "      <td>0</td>\n",
       "      <td>0</td>\n",
       "      <td>0</td>\n",
       "      <td>0</td>\n",
       "      <td>0</td>\n",
       "    </tr>\n",
       "    <tr>\n",
       "      <th>2022-11-21 19:00:00</th>\n",
       "      <td>19</td>\n",
       "      <td>NaN</td>\n",
       "      <td>NaN</td>\n",
       "      <td>NaN</td>\n",
       "      <td>1</td>\n",
       "      <td>0</td>\n",
       "      <td>0</td>\n",
       "      <td>0</td>\n",
       "      <td>0</td>\n",
       "      <td>0</td>\n",
       "    </tr>\n",
       "    <tr>\n",
       "      <th>2022-11-21 20:00:00</th>\n",
       "      <td>20</td>\n",
       "      <td>NaN</td>\n",
       "      <td>NaN</td>\n",
       "      <td>NaN</td>\n",
       "      <td>1</td>\n",
       "      <td>0</td>\n",
       "      <td>0</td>\n",
       "      <td>0</td>\n",
       "      <td>0</td>\n",
       "      <td>0</td>\n",
       "    </tr>\n",
       "    <tr>\n",
       "      <th>2022-11-21 21:00:00</th>\n",
       "      <td>21</td>\n",
       "      <td>NaN</td>\n",
       "      <td>NaN</td>\n",
       "      <td>NaN</td>\n",
       "      <td>1</td>\n",
       "      <td>0</td>\n",
       "      <td>0</td>\n",
       "      <td>0</td>\n",
       "      <td>0</td>\n",
       "      <td>0</td>\n",
       "    </tr>\n",
       "    <tr>\n",
       "      <th>2022-11-21 22:00:00</th>\n",
       "      <td>22</td>\n",
       "      <td>NaN</td>\n",
       "      <td>NaN</td>\n",
       "      <td>NaN</td>\n",
       "      <td>1</td>\n",
       "      <td>0</td>\n",
       "      <td>0</td>\n",
       "      <td>0</td>\n",
       "      <td>0</td>\n",
       "      <td>0</td>\n",
       "    </tr>\n",
       "    <tr>\n",
       "      <th>2022-11-21 23:00:00</th>\n",
       "      <td>23</td>\n",
       "      <td>NaN</td>\n",
       "      <td>NaN</td>\n",
       "      <td>NaN</td>\n",
       "      <td>1</td>\n",
       "      <td>0</td>\n",
       "      <td>0</td>\n",
       "      <td>0</td>\n",
       "      <td>0</td>\n",
       "      <td>0</td>\n",
       "    </tr>\n",
       "  </tbody>\n",
       "</table>\n",
       "</div>"
      ],
      "text/plain": [
       "                     hour  activity_lag_24  activity_lag_48  activity_lag_72  \\\n",
       "last_updated                                                                   \n",
       "2022-11-21 17:00:00    17              NaN              NaN              NaN   \n",
       "2022-11-21 18:00:00    18              NaN              NaN              NaN   \n",
       "2022-11-21 19:00:00    19              NaN              NaN              NaN   \n",
       "2022-11-21 20:00:00    20              NaN              NaN              NaN   \n",
       "2022-11-21 21:00:00    21              NaN              NaN              NaN   \n",
       "2022-11-21 22:00:00    22              NaN              NaN              NaN   \n",
       "2022-11-21 23:00:00    23              NaN              NaN              NaN   \n",
       "\n",
       "                     day_name_Monday  day_name_Saturday  day_name_Sunday  \\\n",
       "last_updated                                                               \n",
       "2022-11-21 17:00:00                1                  0                0   \n",
       "2022-11-21 18:00:00                1                  0                0   \n",
       "2022-11-21 19:00:00                1                  0                0   \n",
       "2022-11-21 20:00:00                1                  0                0   \n",
       "2022-11-21 21:00:00                1                  0                0   \n",
       "2022-11-21 22:00:00                1                  0                0   \n",
       "2022-11-21 23:00:00                1                  0                0   \n",
       "\n",
       "                     day_name_Thursday  day_name_Tuesday  day_name_Wednesday  \n",
       "last_updated                                                                  \n",
       "2022-11-21 17:00:00                  0                 0                   0  \n",
       "2022-11-21 18:00:00                  0                 0                   0  \n",
       "2022-11-21 19:00:00                  0                 0                   0  \n",
       "2022-11-21 20:00:00                  0                 0                   0  \n",
       "2022-11-21 21:00:00                  0                 0                   0  \n",
       "2022-11-21 22:00:00                  0                 0                   0  \n",
       "2022-11-21 23:00:00                  0                 0                   0  "
      ]
     },
     "execution_count": 21,
     "metadata": {},
     "output_type": "execute_result"
    }
   ],
   "source": [
    "date = '2022-11-22'\n",
    "\n",
    "activity = Activity_Agent(df)\n",
    "X_train = activity.get_Xtrain(df, date, start=-1)\n",
    "X_train"
   ]
  },
  {
   "cell_type": "code",
   "execution_count": 24,
   "metadata": {
    "colab": {
     "base_uri": "https://localhost:8080/",
     "height": 810
    },
    "executionInfo": {
     "elapsed": 109012,
     "status": "ok",
     "timestamp": 1607622505604,
     "user": {
      "displayName": "Leon H",
      "photoUrl": "",
      "userId": "10150017554198726068"
     },
     "user_tz": -60
    },
    "id": "kI_JHuGiMxLG",
    "outputId": "47991d9a-44c5-491f-c19c-5a9142ef088f"
   },
   "outputs": [
    {
     "data": {
      "text/html": [
       "<div>\n",
       "<style scoped>\n",
       "    .dataframe tbody tr th:only-of-type {\n",
       "        vertical-align: middle;\n",
       "    }\n",
       "\n",
       "    .dataframe tbody tr th {\n",
       "        vertical-align: top;\n",
       "    }\n",
       "\n",
       "    .dataframe thead th {\n",
       "        text-align: right;\n",
       "    }\n",
       "</style>\n",
       "<table border=\"1\" class=\"dataframe\">\n",
       "  <thead>\n",
       "    <tr style=\"text-align: right;\">\n",
       "      <th></th>\n",
       "      <th>hour</th>\n",
       "      <th>activity_lag_24</th>\n",
       "      <th>activity_lag_48</th>\n",
       "      <th>activity_lag_72</th>\n",
       "      <th>day_name_Monday</th>\n",
       "      <th>day_name_Saturday</th>\n",
       "      <th>day_name_Sunday</th>\n",
       "      <th>day_name_Thursday</th>\n",
       "      <th>day_name_Tuesday</th>\n",
       "      <th>day_name_Wednesday</th>\n",
       "    </tr>\n",
       "    <tr>\n",
       "      <th>last_updated</th>\n",
       "      <th></th>\n",
       "      <th></th>\n",
       "      <th></th>\n",
       "      <th></th>\n",
       "      <th></th>\n",
       "      <th></th>\n",
       "      <th></th>\n",
       "      <th></th>\n",
       "      <th></th>\n",
       "      <th></th>\n",
       "    </tr>\n",
       "  </thead>\n",
       "  <tbody>\n",
       "    <tr>\n",
       "      <th>2022-11-21 17:00:00</th>\n",
       "      <td>17</td>\n",
       "      <td>NaN</td>\n",
       "      <td>NaN</td>\n",
       "      <td>NaN</td>\n",
       "      <td>1</td>\n",
       "      <td>0</td>\n",
       "      <td>0</td>\n",
       "      <td>0</td>\n",
       "      <td>0</td>\n",
       "      <td>0</td>\n",
       "    </tr>\n",
       "    <tr>\n",
       "      <th>2022-11-21 18:00:00</th>\n",
       "      <td>18</td>\n",
       "      <td>NaN</td>\n",
       "      <td>NaN</td>\n",
       "      <td>NaN</td>\n",
       "      <td>1</td>\n",
       "      <td>0</td>\n",
       "      <td>0</td>\n",
       "      <td>0</td>\n",
       "      <td>0</td>\n",
       "      <td>0</td>\n",
       "    </tr>\n",
       "    <tr>\n",
       "      <th>2022-11-21 19:00:00</th>\n",
       "      <td>19</td>\n",
       "      <td>NaN</td>\n",
       "      <td>NaN</td>\n",
       "      <td>NaN</td>\n",
       "      <td>1</td>\n",
       "      <td>0</td>\n",
       "      <td>0</td>\n",
       "      <td>0</td>\n",
       "      <td>0</td>\n",
       "      <td>0</td>\n",
       "    </tr>\n",
       "    <tr>\n",
       "      <th>2022-11-21 20:00:00</th>\n",
       "      <td>20</td>\n",
       "      <td>NaN</td>\n",
       "      <td>NaN</td>\n",
       "      <td>NaN</td>\n",
       "      <td>1</td>\n",
       "      <td>0</td>\n",
       "      <td>0</td>\n",
       "      <td>0</td>\n",
       "      <td>0</td>\n",
       "      <td>0</td>\n",
       "    </tr>\n",
       "    <tr>\n",
       "      <th>2022-11-21 21:00:00</th>\n",
       "      <td>21</td>\n",
       "      <td>NaN</td>\n",
       "      <td>NaN</td>\n",
       "      <td>NaN</td>\n",
       "      <td>1</td>\n",
       "      <td>0</td>\n",
       "      <td>0</td>\n",
       "      <td>0</td>\n",
       "      <td>0</td>\n",
       "      <td>0</td>\n",
       "    </tr>\n",
       "    <tr>\n",
       "      <th>2022-11-21 22:00:00</th>\n",
       "      <td>22</td>\n",
       "      <td>NaN</td>\n",
       "      <td>NaN</td>\n",
       "      <td>NaN</td>\n",
       "      <td>1</td>\n",
       "      <td>0</td>\n",
       "      <td>0</td>\n",
       "      <td>0</td>\n",
       "      <td>0</td>\n",
       "      <td>0</td>\n",
       "    </tr>\n",
       "    <tr>\n",
       "      <th>2022-11-21 23:00:00</th>\n",
       "      <td>23</td>\n",
       "      <td>NaN</td>\n",
       "      <td>NaN</td>\n",
       "      <td>NaN</td>\n",
       "      <td>1</td>\n",
       "      <td>0</td>\n",
       "      <td>0</td>\n",
       "      <td>0</td>\n",
       "      <td>0</td>\n",
       "      <td>0</td>\n",
       "    </tr>\n",
       "  </tbody>\n",
       "</table>\n",
       "</div>"
      ],
      "text/plain": [
       "                     hour  activity_lag_24  activity_lag_48  activity_lag_72  \\\n",
       "last_updated                                                                   \n",
       "2022-11-21 17:00:00    17              NaN              NaN              NaN   \n",
       "2022-11-21 18:00:00    18              NaN              NaN              NaN   \n",
       "2022-11-21 19:00:00    19              NaN              NaN              NaN   \n",
       "2022-11-21 20:00:00    20              NaN              NaN              NaN   \n",
       "2022-11-21 21:00:00    21              NaN              NaN              NaN   \n",
       "2022-11-21 22:00:00    22              NaN              NaN              NaN   \n",
       "2022-11-21 23:00:00    23              NaN              NaN              NaN   \n",
       "\n",
       "                     day_name_Monday  day_name_Saturday  day_name_Sunday  \\\n",
       "last_updated                                                               \n",
       "2022-11-21 17:00:00                1                  0                0   \n",
       "2022-11-21 18:00:00                1                  0                0   \n",
       "2022-11-21 19:00:00                1                  0                0   \n",
       "2022-11-21 20:00:00                1                  0                0   \n",
       "2022-11-21 21:00:00                1                  0                0   \n",
       "2022-11-21 22:00:00                1                  0                0   \n",
       "2022-11-21 23:00:00                1                  0                0   \n",
       "\n",
       "                     day_name_Thursday  day_name_Tuesday  day_name_Wednesday  \n",
       "last_updated                                                                  \n",
       "2022-11-21 17:00:00                  0                 0                   0  \n",
       "2022-11-21 18:00:00                  0                 0                   0  \n",
       "2022-11-21 19:00:00                  0                 0                   0  \n",
       "2022-11-21 20:00:00                  0                 0                   0  \n",
       "2022-11-21 21:00:00                  0                 0                   0  \n",
       "2022-11-21 22:00:00                  0                 0                   0  \n",
       "2022-11-21 23:00:00                  0                 0                   0  "
      ]
     },
     "execution_count": 24,
     "metadata": {},
     "output_type": "execute_result"
    }
   ],
   "source": [
    "date = '2022-11-22'\n",
    "\n",
    "activity = Activity_Agent(df)\n",
    "X_train = activity.get_Xtrain(df, date, start=-10)\n",
    "X_train"
   ]
  },
  {
   "cell_type": "code",
   "execution_count": 25,
   "metadata": {
    "colab": {
     "base_uri": "https://localhost:8080/",
     "height": 810
    },
    "executionInfo": {
     "elapsed": 108976,
     "status": "ok",
     "timestamp": 1607622505605,
     "user": {
      "displayName": "Leon H",
      "photoUrl": "",
      "userId": "10150017554198726068"
     },
     "user_tz": -60
    },
    "id": "KRGWJrZGMzUr",
    "outputId": "b1b0caea-16f4-4c0c-8b9f-59bbe3fbf78b"
   },
   "outputs": [
    {
     "data": {
      "text/html": [
       "<div>\n",
       "<style scoped>\n",
       "    .dataframe tbody tr th:only-of-type {\n",
       "        vertical-align: middle;\n",
       "    }\n",
       "\n",
       "    .dataframe tbody tr th {\n",
       "        vertical-align: top;\n",
       "    }\n",
       "\n",
       "    .dataframe thead th {\n",
       "        text-align: right;\n",
       "    }\n",
       "</style>\n",
       "<table border=\"1\" class=\"dataframe\">\n",
       "  <thead>\n",
       "    <tr style=\"text-align: right;\">\n",
       "      <th></th>\n",
       "      <th>hour</th>\n",
       "      <th>activity_lag_24</th>\n",
       "      <th>activity_lag_48</th>\n",
       "      <th>activity_lag_72</th>\n",
       "      <th>day_name_Monday</th>\n",
       "      <th>day_name_Saturday</th>\n",
       "      <th>day_name_Sunday</th>\n",
       "      <th>day_name_Thursday</th>\n",
       "      <th>day_name_Tuesday</th>\n",
       "      <th>day_name_Wednesday</th>\n",
       "    </tr>\n",
       "    <tr>\n",
       "      <th>last_updated</th>\n",
       "      <th></th>\n",
       "      <th></th>\n",
       "      <th></th>\n",
       "      <th></th>\n",
       "      <th></th>\n",
       "      <th></th>\n",
       "      <th></th>\n",
       "      <th></th>\n",
       "      <th></th>\n",
       "      <th></th>\n",
       "    </tr>\n",
       "  </thead>\n",
       "  <tbody>\n",
       "    <tr>\n",
       "      <th>2022-11-21 17:00:00</th>\n",
       "      <td>17</td>\n",
       "      <td>NaN</td>\n",
       "      <td>NaN</td>\n",
       "      <td>NaN</td>\n",
       "      <td>1</td>\n",
       "      <td>0</td>\n",
       "      <td>0</td>\n",
       "      <td>0</td>\n",
       "      <td>0</td>\n",
       "      <td>0</td>\n",
       "    </tr>\n",
       "    <tr>\n",
       "      <th>2022-11-21 18:00:00</th>\n",
       "      <td>18</td>\n",
       "      <td>NaN</td>\n",
       "      <td>NaN</td>\n",
       "      <td>NaN</td>\n",
       "      <td>1</td>\n",
       "      <td>0</td>\n",
       "      <td>0</td>\n",
       "      <td>0</td>\n",
       "      <td>0</td>\n",
       "      <td>0</td>\n",
       "    </tr>\n",
       "    <tr>\n",
       "      <th>2022-11-21 19:00:00</th>\n",
       "      <td>19</td>\n",
       "      <td>NaN</td>\n",
       "      <td>NaN</td>\n",
       "      <td>NaN</td>\n",
       "      <td>1</td>\n",
       "      <td>0</td>\n",
       "      <td>0</td>\n",
       "      <td>0</td>\n",
       "      <td>0</td>\n",
       "      <td>0</td>\n",
       "    </tr>\n",
       "    <tr>\n",
       "      <th>2022-11-21 20:00:00</th>\n",
       "      <td>20</td>\n",
       "      <td>NaN</td>\n",
       "      <td>NaN</td>\n",
       "      <td>NaN</td>\n",
       "      <td>1</td>\n",
       "      <td>0</td>\n",
       "      <td>0</td>\n",
       "      <td>0</td>\n",
       "      <td>0</td>\n",
       "      <td>0</td>\n",
       "    </tr>\n",
       "    <tr>\n",
       "      <th>2022-11-21 21:00:00</th>\n",
       "      <td>21</td>\n",
       "      <td>NaN</td>\n",
       "      <td>NaN</td>\n",
       "      <td>NaN</td>\n",
       "      <td>1</td>\n",
       "      <td>0</td>\n",
       "      <td>0</td>\n",
       "      <td>0</td>\n",
       "      <td>0</td>\n",
       "      <td>0</td>\n",
       "    </tr>\n",
       "    <tr>\n",
       "      <th>2022-11-21 22:00:00</th>\n",
       "      <td>22</td>\n",
       "      <td>NaN</td>\n",
       "      <td>NaN</td>\n",
       "      <td>NaN</td>\n",
       "      <td>1</td>\n",
       "      <td>0</td>\n",
       "      <td>0</td>\n",
       "      <td>0</td>\n",
       "      <td>0</td>\n",
       "      <td>0</td>\n",
       "    </tr>\n",
       "    <tr>\n",
       "      <th>2022-11-21 23:00:00</th>\n",
       "      <td>23</td>\n",
       "      <td>NaN</td>\n",
       "      <td>NaN</td>\n",
       "      <td>NaN</td>\n",
       "      <td>1</td>\n",
       "      <td>0</td>\n",
       "      <td>0</td>\n",
       "      <td>0</td>\n",
       "      <td>0</td>\n",
       "      <td>0</td>\n",
       "    </tr>\n",
       "  </tbody>\n",
       "</table>\n",
       "</div>"
      ],
      "text/plain": [
       "                     hour  activity_lag_24  activity_lag_48  activity_lag_72  \\\n",
       "last_updated                                                                   \n",
       "2022-11-21 17:00:00    17              NaN              NaN              NaN   \n",
       "2022-11-21 18:00:00    18              NaN              NaN              NaN   \n",
       "2022-11-21 19:00:00    19              NaN              NaN              NaN   \n",
       "2022-11-21 20:00:00    20              NaN              NaN              NaN   \n",
       "2022-11-21 21:00:00    21              NaN              NaN              NaN   \n",
       "2022-11-21 22:00:00    22              NaN              NaN              NaN   \n",
       "2022-11-21 23:00:00    23              NaN              NaN              NaN   \n",
       "\n",
       "                     day_name_Monday  day_name_Saturday  day_name_Sunday  \\\n",
       "last_updated                                                               \n",
       "2022-11-21 17:00:00                1                  0                0   \n",
       "2022-11-21 18:00:00                1                  0                0   \n",
       "2022-11-21 19:00:00                1                  0                0   \n",
       "2022-11-21 20:00:00                1                  0                0   \n",
       "2022-11-21 21:00:00                1                  0                0   \n",
       "2022-11-21 22:00:00                1                  0                0   \n",
       "2022-11-21 23:00:00                1                  0                0   \n",
       "\n",
       "                     day_name_Thursday  day_name_Tuesday  day_name_Wednesday  \n",
       "last_updated                                                                  \n",
       "2022-11-21 17:00:00                  0                 0                   0  \n",
       "2022-11-21 18:00:00                  0                 0                   0  \n",
       "2022-11-21 19:00:00                  0                 0                   0  \n",
       "2022-11-21 20:00:00                  0                 0                   0  \n",
       "2022-11-21 21:00:00                  0                 0                   0  \n",
       "2022-11-21 22:00:00                  0                 0                   0  \n",
       "2022-11-21 23:00:00                  0                 0                   0  "
      ]
     },
     "execution_count": 25,
     "metadata": {},
     "output_type": "execute_result"
    }
   ],
   "source": [
    "date = '2022-11-22'\n",
    "\n",
    "activity = Activity_Agent(df)\n",
    "X_train = activity.get_Xtrain(df, date, start=-9999)\n",
    "X_train"
   ]
  },
  {
   "cell_type": "markdown",
   "metadata": {
    "id": "QzgBu1-uOMwr"
   },
   "source": [
    "**y_train**"
   ]
  },
  {
   "cell_type": "code",
   "execution_count": 31,
   "metadata": {
    "executionInfo": {
     "elapsed": 108973,
     "status": "ok",
     "timestamp": 1607622505606,
     "user": {
      "displayName": "Leon H",
      "photoUrl": "",
      "userId": "10150017554198726068"
     },
     "user_tz": -60
    },
    "id": "4w-fM1QROPQG"
   },
   "outputs": [],
   "source": [
    "def get_ytrain(self, df, date, start='2022-11-20', target='activity'):\n",
    "    import pandas as pd\n",
    "\n",
    "    if type(start) == int:\n",
    "        start = pd.to_datetime(date) + pd.Timedelta(days= start)\n",
    "        start = pd.to_datetime('2022-11-20') if start < pd.to_datetime('2022-11-20') else start\n",
    "    else:\n",
    "        start = pd.to_datetime(start)\n",
    "    end = pd.to_datetime(date) + pd.Timedelta(seconds=-1)\n",
    "    return df.loc[start:end, target]\n",
    "\n",
    "# add to Activity agent\n",
    "setattr(Activity_Agent, 'get_ytrain', get_ytrain)\n",
    "del get_ytrain"
   ]
  },
  {
   "cell_type": "code",
   "execution_count": 33,
   "metadata": {
    "colab": {
     "base_uri": "https://localhost:8080/"
    },
    "executionInfo": {
     "elapsed": 108945,
     "status": "ok",
     "timestamp": 1607622505610,
     "user": {
      "displayName": "Leon H",
      "photoUrl": "",
      "userId": "10150017554198726068"
     },
     "user_tz": -60
    },
    "id": "GBUYXUVWPQN8",
    "outputId": "15e1dbc2-e965-4514-e046-712e56a847fa"
   },
   "outputs": [
    {
     "data": {
      "text/plain": [
       "last_updated\n",
       "2022-11-21 17:00:00    1\n",
       "2022-11-21 18:00:00    1\n",
       "2022-11-21 19:00:00    0\n",
       "2022-11-21 20:00:00    1\n",
       "2022-11-21 21:00:00    0\n",
       "2022-11-21 22:00:00    0\n",
       "2022-11-21 23:00:00    0\n",
       "Freq: 60T, Name: activity, dtype: int64"
      ]
     },
     "execution_count": 33,
     "metadata": {},
     "output_type": "execute_result"
    }
   ],
   "source": [
    "date = '2022-11-22'\n",
    "activity = Activity_Agent(df)\n",
    "y_train = activity.get_ytrain(df, date)\n",
    "y_train"
   ]
  },
  {
   "cell_type": "code",
   "execution_count": 34,
   "metadata": {
    "colab": {
     "base_uri": "https://localhost:8080/"
    },
    "executionInfo": {
     "elapsed": 108915,
     "status": "ok",
     "timestamp": 1607622505612,
     "user": {
      "displayName": "Leon H",
      "photoUrl": "",
      "userId": "10150017554198726068"
     },
     "user_tz": -60
    },
    "id": "P-FYucXjNkuO",
    "outputId": "54b8125f-6252-4462-dff3-7e00418cdece"
   },
   "outputs": [
    {
     "data": {
      "text/plain": [
       "last_updated\n",
       "2022-11-21 17:00:00    1\n",
       "2022-11-21 18:00:00    1\n",
       "2022-11-21 19:00:00    0\n",
       "2022-11-21 20:00:00    1\n",
       "2022-11-21 21:00:00    0\n",
       "2022-11-21 22:00:00    0\n",
       "2022-11-21 23:00:00    0\n",
       "Freq: 60T, Name: activity, dtype: int64"
      ]
     },
     "execution_count": 34,
     "metadata": {},
     "output_type": "execute_result"
    }
   ],
   "source": [
    "date = '2022-11-22'\n",
    "activity = Activity_Agent(df)\n",
    "y_train = activity.get_ytrain(df, date, start=-1)\n",
    "y_train"
   ]
  },
  {
   "cell_type": "code",
   "execution_count": 36,
   "metadata": {
    "colab": {
     "base_uri": "https://localhost:8080/"
    },
    "executionInfo": {
     "elapsed": 108882,
     "status": "ok",
     "timestamp": 1607622505615,
     "user": {
      "displayName": "Leon H",
      "photoUrl": "",
      "userId": "10150017554198726068"
     },
     "user_tz": -60
    },
    "id": "nuw4b9xmNpdy",
    "outputId": "d5a00b32-7a89-4919-8d5d-3e2e162de5e0"
   },
   "outputs": [
    {
     "data": {
      "text/plain": [
       "last_updated\n",
       "2022-11-21 17:00:00    1\n",
       "2022-11-21 18:00:00    1\n",
       "2022-11-21 19:00:00    0\n",
       "2022-11-21 20:00:00    1\n",
       "2022-11-21 21:00:00    0\n",
       "                      ..\n",
       "2022-11-29 19:00:00    1\n",
       "2022-11-29 20:00:00    0\n",
       "2022-11-29 21:00:00    0\n",
       "2022-11-29 22:00:00    0\n",
       "2022-11-29 23:00:00    0\n",
       "Freq: 60T, Name: activity, Length: 199, dtype: int64"
      ]
     },
     "execution_count": 36,
     "metadata": {},
     "output_type": "execute_result"
    }
   ],
   "source": [
    "date = '2022-11-30'\n",
    "activity = Activity_Agent(df)\n",
    "y_train = activity.get_ytrain(df, date, start=-10)\n",
    "y_train"
   ]
  },
  {
   "cell_type": "code",
   "execution_count": 38,
   "metadata": {
    "colab": {
     "base_uri": "https://localhost:8080/"
    },
    "executionInfo": {
     "elapsed": 108853,
     "status": "ok",
     "timestamp": 1607622505617,
     "user": {
      "displayName": "Leon H",
      "photoUrl": "",
      "userId": "10150017554198726068"
     },
     "user_tz": -60
    },
    "id": "TPc02_ZqNrle",
    "outputId": "23b0cc37-c72e-4590-bd0c-4933e6f2131e"
   },
   "outputs": [
    {
     "data": {
      "text/plain": [
       "last_updated\n",
       "2022-11-21 17:00:00    1\n",
       "2022-11-21 18:00:00    1\n",
       "2022-11-21 19:00:00    0\n",
       "2022-11-21 20:00:00    1\n",
       "2022-11-21 21:00:00    0\n",
       "                      ..\n",
       "2022-11-29 19:00:00    1\n",
       "2022-11-29 20:00:00    0\n",
       "2022-11-29 21:00:00    0\n",
       "2022-11-29 22:00:00    0\n",
       "2022-11-29 23:00:00    0\n",
       "Freq: 60T, Name: activity, Length: 199, dtype: int64"
      ]
     },
     "execution_count": 38,
     "metadata": {},
     "output_type": "execute_result"
    }
   ],
   "source": [
    "date = '2022-11-30'\n",
    "activity = Activity_Agent(df)\n",
    "y_train = activity.get_ytrain(df, date, start=-9999)\n",
    "y_train"
   ]
  },
  {
   "cell_type": "markdown",
   "metadata": {
    "id": "R0gr74BrNwvM"
   },
   "source": [
    "**train_test_split**"
   ]
  },
  {
   "cell_type": "markdown",
   "metadata": {},
   "source": [
    "<font color = 'red'> Without filling NAs, I cannot procede further. Is it okay? </font>"
   ]
  },
  {
   "cell_type": "code",
   "execution_count": 53,
   "metadata": {
    "executionInfo": {
     "elapsed": 108852,
     "status": "ok",
     "timestamp": 1607622505620,
     "user": {
      "displayName": "Leon H",
      "photoUrl": "",
      "userId": "10150017554198726068"
     },
     "user_tz": -60
    },
    "id": "8V4jjdT7T8vF"
   },
   "outputs": [],
   "source": [
    "def train_test_split(self, df, date, train_start='2013-11-01', test_delta='all', target='activity'):\n",
    "    X_train = self.get_Xtrain(df, date, start=train_start, target=target)\n",
    "    y_train = self.get_ytrain(df, date, start=train_start, target=target)\n",
    "    X_test = self.get_Xtest(df, date, time_delta=test_delta, target=target)\n",
    "    y_test = self.get_ytest(df, date, time_delta=test_delta, target=target)\n",
    "    X_test = X_test.fillna(0)\n",
    "    X_train = X_train.fillna(0)\n",
    "    y_test = y_test.fillna(0)\n",
    "    y_train = y_train.fillna(0)\n",
    "    return X_train, y_train, X_test, y_test\n",
    "\n",
    "# add to Activity agent\n",
    "setattr(Activity_Agent, 'train_test_split', train_test_split)\n",
    "del train_test_split    "
   ]
  },
  {
   "cell_type": "code",
   "execution_count": 54,
   "metadata": {
    "colab": {
     "base_uri": "https://localhost:8080/"
    },
    "executionInfo": {
     "elapsed": 108820,
     "status": "ok",
     "timestamp": 1607622505621,
     "user": {
      "displayName": "Leon H",
      "photoUrl": "",
      "userId": "10150017554198726068"
     },
     "user_tz": -60
    },
    "id": "U0_zEuR9Pnuv",
    "outputId": "68d3365a-8d0b-494e-8e15-82df5e6aa1ca"
   },
   "outputs": [
    {
     "data": {
      "text/plain": [
       "((217, 11), (199, 10), (199,), (18, 10), (18,))"
      ]
     },
     "execution_count": 54,
     "metadata": {},
     "output_type": "execute_result"
    }
   ],
   "source": [
    "date = '2022-11-30'\n",
    "activity = Activity_Agent(df)\n",
    "X_train, y_train, X_test, y_test = activity.train_test_split(df, date)\n",
    "df.shape, X_train.shape, y_train.shape, X_test.shape, y_test.shape"
   ]
  },
  {
   "cell_type": "code",
   "execution_count": 55,
   "metadata": {
    "colab": {
     "base_uri": "https://localhost:8080/"
    },
    "executionInfo": {
     "elapsed": 108787,
     "status": "ok",
     "timestamp": 1607622505622,
     "user": {
      "displayName": "Leon H",
      "photoUrl": "",
      "userId": "10150017554198726068"
     },
     "user_tz": -60
    },
    "id": "L6dQ4jJEP6s6",
    "outputId": "963bbf31-8007-4584-a06d-5f685c88b5f1"
   },
   "outputs": [
    {
     "data": {
      "text/plain": [
       "((217, 11), (199, 10), (199,), (18, 10), (18,))"
      ]
     },
     "execution_count": 55,
     "metadata": {},
     "output_type": "execute_result"
    }
   ],
   "source": [
    "date = '2022-11-30'\n",
    "activity = Activity_Agent(df)\n",
    "X_train, y_train, X_test, y_test = activity.train_test_split(df, date, train_start=-10, test_delta={'days': 10, 'seconds':-1})\n",
    "df.shape, X_train.shape, y_train.shape, X_test.shape, y_test.shape"
   ]
  },
  {
   "cell_type": "code",
   "execution_count": 56,
   "metadata": {
    "colab": {
     "base_uri": "https://localhost:8080/"
    },
    "executionInfo": {
     "elapsed": 108755,
     "status": "ok",
     "timestamp": 1607622505623,
     "user": {
      "displayName": "Leon H",
      "photoUrl": "",
      "userId": "10150017554198726068"
     },
     "user_tz": -60
    },
    "id": "MjMgWUCmRwoY",
    "outputId": "3cf063e8-38e2-4df8-833e-3860feeeff73"
   },
   "outputs": [
    {
     "data": {
      "text/plain": [
       "((217, 11), (199, 10), (199,), (18, 10), (18,))"
      ]
     },
     "execution_count": 56,
     "metadata": {},
     "output_type": "execute_result"
    }
   ],
   "source": [
    "date = '2022-11-30'\n",
    "activity = Activity_Agent(df)\n",
    "X_train, y_train, X_test, y_test = activity.train_test_split(df, date, test_delta={'days': 1, 'seconds':-1})\n",
    "df.shape, X_train.shape, y_train.shape, X_test.shape, y_test.shape"
   ]
  },
  {
   "cell_type": "code",
   "execution_count": 57,
   "metadata": {
    "colab": {
     "base_uri": "https://localhost:8080/",
     "height": 810
    },
    "executionInfo": {
     "elapsed": 108722,
     "status": "ok",
     "timestamp": 1607622505628,
     "user": {
      "displayName": "Leon H",
      "photoUrl": "",
      "userId": "10150017554198726068"
     },
     "user_tz": -60
    },
    "id": "1vqbvdYkQuc1",
    "outputId": "66d7e32e-df72-4b59-f397-ee1fa50cd5a4"
   },
   "outputs": [
    {
     "data": {
      "text/html": [
       "<div>\n",
       "<style scoped>\n",
       "    .dataframe tbody tr th:only-of-type {\n",
       "        vertical-align: middle;\n",
       "    }\n",
       "\n",
       "    .dataframe tbody tr th {\n",
       "        vertical-align: top;\n",
       "    }\n",
       "\n",
       "    .dataframe thead th {\n",
       "        text-align: right;\n",
       "    }\n",
       "</style>\n",
       "<table border=\"1\" class=\"dataframe\">\n",
       "  <thead>\n",
       "    <tr style=\"text-align: right;\">\n",
       "      <th></th>\n",
       "      <th>hour</th>\n",
       "      <th>activity_lag_24</th>\n",
       "      <th>activity_lag_48</th>\n",
       "      <th>activity_lag_72</th>\n",
       "      <th>day_name_Monday</th>\n",
       "      <th>day_name_Saturday</th>\n",
       "      <th>day_name_Sunday</th>\n",
       "      <th>day_name_Thursday</th>\n",
       "      <th>day_name_Tuesday</th>\n",
       "      <th>day_name_Wednesday</th>\n",
       "    </tr>\n",
       "    <tr>\n",
       "      <th>last_updated</th>\n",
       "      <th></th>\n",
       "      <th></th>\n",
       "      <th></th>\n",
       "      <th></th>\n",
       "      <th></th>\n",
       "      <th></th>\n",
       "      <th></th>\n",
       "      <th></th>\n",
       "      <th></th>\n",
       "      <th></th>\n",
       "    </tr>\n",
       "  </thead>\n",
       "  <tbody>\n",
       "    <tr>\n",
       "      <th>2022-11-21 17:00:00</th>\n",
       "      <td>17</td>\n",
       "      <td>0.0</td>\n",
       "      <td>0.0</td>\n",
       "      <td>0.0</td>\n",
       "      <td>1</td>\n",
       "      <td>0</td>\n",
       "      <td>0</td>\n",
       "      <td>0</td>\n",
       "      <td>0</td>\n",
       "      <td>0</td>\n",
       "    </tr>\n",
       "    <tr>\n",
       "      <th>2022-11-21 18:00:00</th>\n",
       "      <td>18</td>\n",
       "      <td>0.0</td>\n",
       "      <td>0.0</td>\n",
       "      <td>0.0</td>\n",
       "      <td>1</td>\n",
       "      <td>0</td>\n",
       "      <td>0</td>\n",
       "      <td>0</td>\n",
       "      <td>0</td>\n",
       "      <td>0</td>\n",
       "    </tr>\n",
       "    <tr>\n",
       "      <th>2022-11-21 19:00:00</th>\n",
       "      <td>19</td>\n",
       "      <td>0.0</td>\n",
       "      <td>0.0</td>\n",
       "      <td>0.0</td>\n",
       "      <td>1</td>\n",
       "      <td>0</td>\n",
       "      <td>0</td>\n",
       "      <td>0</td>\n",
       "      <td>0</td>\n",
       "      <td>0</td>\n",
       "    </tr>\n",
       "    <tr>\n",
       "      <th>2022-11-21 20:00:00</th>\n",
       "      <td>20</td>\n",
       "      <td>0.0</td>\n",
       "      <td>0.0</td>\n",
       "      <td>0.0</td>\n",
       "      <td>1</td>\n",
       "      <td>0</td>\n",
       "      <td>0</td>\n",
       "      <td>0</td>\n",
       "      <td>0</td>\n",
       "      <td>0</td>\n",
       "    </tr>\n",
       "    <tr>\n",
       "      <th>2022-11-21 21:00:00</th>\n",
       "      <td>21</td>\n",
       "      <td>0.0</td>\n",
       "      <td>0.0</td>\n",
       "      <td>0.0</td>\n",
       "      <td>1</td>\n",
       "      <td>0</td>\n",
       "      <td>0</td>\n",
       "      <td>0</td>\n",
       "      <td>0</td>\n",
       "      <td>0</td>\n",
       "    </tr>\n",
       "    <tr>\n",
       "      <th>...</th>\n",
       "      <td>...</td>\n",
       "      <td>...</td>\n",
       "      <td>...</td>\n",
       "      <td>...</td>\n",
       "      <td>...</td>\n",
       "      <td>...</td>\n",
       "      <td>...</td>\n",
       "      <td>...</td>\n",
       "      <td>...</td>\n",
       "      <td>...</td>\n",
       "    </tr>\n",
       "    <tr>\n",
       "      <th>2022-11-29 19:00:00</th>\n",
       "      <td>19</td>\n",
       "      <td>0.0</td>\n",
       "      <td>0.0</td>\n",
       "      <td>0.0</td>\n",
       "      <td>0</td>\n",
       "      <td>0</td>\n",
       "      <td>0</td>\n",
       "      <td>0</td>\n",
       "      <td>1</td>\n",
       "      <td>0</td>\n",
       "    </tr>\n",
       "    <tr>\n",
       "      <th>2022-11-29 20:00:00</th>\n",
       "      <td>20</td>\n",
       "      <td>0.0</td>\n",
       "      <td>0.0</td>\n",
       "      <td>0.0</td>\n",
       "      <td>0</td>\n",
       "      <td>0</td>\n",
       "      <td>0</td>\n",
       "      <td>0</td>\n",
       "      <td>1</td>\n",
       "      <td>0</td>\n",
       "    </tr>\n",
       "    <tr>\n",
       "      <th>2022-11-29 21:00:00</th>\n",
       "      <td>21</td>\n",
       "      <td>0.0</td>\n",
       "      <td>0.0</td>\n",
       "      <td>0.0</td>\n",
       "      <td>0</td>\n",
       "      <td>0</td>\n",
       "      <td>0</td>\n",
       "      <td>0</td>\n",
       "      <td>1</td>\n",
       "      <td>0</td>\n",
       "    </tr>\n",
       "    <tr>\n",
       "      <th>2022-11-29 22:00:00</th>\n",
       "      <td>22</td>\n",
       "      <td>0.0</td>\n",
       "      <td>0.0</td>\n",
       "      <td>0.0</td>\n",
       "      <td>0</td>\n",
       "      <td>0</td>\n",
       "      <td>0</td>\n",
       "      <td>0</td>\n",
       "      <td>1</td>\n",
       "      <td>0</td>\n",
       "    </tr>\n",
       "    <tr>\n",
       "      <th>2022-11-29 23:00:00</th>\n",
       "      <td>23</td>\n",
       "      <td>0.0</td>\n",
       "      <td>0.0</td>\n",
       "      <td>0.0</td>\n",
       "      <td>0</td>\n",
       "      <td>0</td>\n",
       "      <td>0</td>\n",
       "      <td>0</td>\n",
       "      <td>1</td>\n",
       "      <td>0</td>\n",
       "    </tr>\n",
       "  </tbody>\n",
       "</table>\n",
       "<p>199 rows × 10 columns</p>\n",
       "</div>"
      ],
      "text/plain": [
       "                     hour  activity_lag_24  activity_lag_48  activity_lag_72  \\\n",
       "last_updated                                                                   \n",
       "2022-11-21 17:00:00    17              0.0              0.0              0.0   \n",
       "2022-11-21 18:00:00    18              0.0              0.0              0.0   \n",
       "2022-11-21 19:00:00    19              0.0              0.0              0.0   \n",
       "2022-11-21 20:00:00    20              0.0              0.0              0.0   \n",
       "2022-11-21 21:00:00    21              0.0              0.0              0.0   \n",
       "...                   ...              ...              ...              ...   \n",
       "2022-11-29 19:00:00    19              0.0              0.0              0.0   \n",
       "2022-11-29 20:00:00    20              0.0              0.0              0.0   \n",
       "2022-11-29 21:00:00    21              0.0              0.0              0.0   \n",
       "2022-11-29 22:00:00    22              0.0              0.0              0.0   \n",
       "2022-11-29 23:00:00    23              0.0              0.0              0.0   \n",
       "\n",
       "                     day_name_Monday  day_name_Saturday  day_name_Sunday  \\\n",
       "last_updated                                                               \n",
       "2022-11-21 17:00:00                1                  0                0   \n",
       "2022-11-21 18:00:00                1                  0                0   \n",
       "2022-11-21 19:00:00                1                  0                0   \n",
       "2022-11-21 20:00:00                1                  0                0   \n",
       "2022-11-21 21:00:00                1                  0                0   \n",
       "...                              ...                ...              ...   \n",
       "2022-11-29 19:00:00                0                  0                0   \n",
       "2022-11-29 20:00:00                0                  0                0   \n",
       "2022-11-29 21:00:00                0                  0                0   \n",
       "2022-11-29 22:00:00                0                  0                0   \n",
       "2022-11-29 23:00:00                0                  0                0   \n",
       "\n",
       "                     day_name_Thursday  day_name_Tuesday  day_name_Wednesday  \n",
       "last_updated                                                                  \n",
       "2022-11-21 17:00:00                  0                 0                   0  \n",
       "2022-11-21 18:00:00                  0                 0                   0  \n",
       "2022-11-21 19:00:00                  0                 0                   0  \n",
       "2022-11-21 20:00:00                  0                 0                   0  \n",
       "2022-11-21 21:00:00                  0                 0                   0  \n",
       "...                                ...               ...                 ...  \n",
       "2022-11-29 19:00:00                  0                 1                   0  \n",
       "2022-11-29 20:00:00                  0                 1                   0  \n",
       "2022-11-29 21:00:00                  0                 1                   0  \n",
       "2022-11-29 22:00:00                  0                 1                   0  \n",
       "2022-11-29 23:00:00                  0                 1                   0  \n",
       "\n",
       "[199 rows x 10 columns]"
      ]
     },
     "execution_count": 57,
     "metadata": {},
     "output_type": "execute_result"
    }
   ],
   "source": [
    "X_train"
   ]
  },
  {
   "cell_type": "code",
   "execution_count": 58,
   "metadata": {
    "colab": {
     "base_uri": "https://localhost:8080/",
     "height": 1000
    },
    "executionInfo": {
     "elapsed": 108677,
     "status": "ok",
     "timestamp": 1607622505632,
     "user": {
      "displayName": "Leon H",
      "photoUrl": "",
      "userId": "10150017554198726068"
     },
     "user_tz": -60
    },
    "id": "hUSNw2kFR7Vq",
    "outputId": "2b1599ad-ac5a-4fa8-f6a0-1517631df499"
   },
   "outputs": [
    {
     "data": {
      "text/html": [
       "<div>\n",
       "<style scoped>\n",
       "    .dataframe tbody tr th:only-of-type {\n",
       "        vertical-align: middle;\n",
       "    }\n",
       "\n",
       "    .dataframe tbody tr th {\n",
       "        vertical-align: top;\n",
       "    }\n",
       "\n",
       "    .dataframe thead th {\n",
       "        text-align: right;\n",
       "    }\n",
       "</style>\n",
       "<table border=\"1\" class=\"dataframe\">\n",
       "  <thead>\n",
       "    <tr style=\"text-align: right;\">\n",
       "      <th></th>\n",
       "      <th>hour</th>\n",
       "      <th>activity_lag_24</th>\n",
       "      <th>activity_lag_48</th>\n",
       "      <th>activity_lag_72</th>\n",
       "      <th>day_name_Monday</th>\n",
       "      <th>day_name_Saturday</th>\n",
       "      <th>day_name_Sunday</th>\n",
       "      <th>day_name_Thursday</th>\n",
       "      <th>day_name_Tuesday</th>\n",
       "      <th>day_name_Wednesday</th>\n",
       "    </tr>\n",
       "    <tr>\n",
       "      <th>last_updated</th>\n",
       "      <th></th>\n",
       "      <th></th>\n",
       "      <th></th>\n",
       "      <th></th>\n",
       "      <th></th>\n",
       "      <th></th>\n",
       "      <th></th>\n",
       "      <th></th>\n",
       "      <th></th>\n",
       "      <th></th>\n",
       "    </tr>\n",
       "  </thead>\n",
       "  <tbody>\n",
       "    <tr>\n",
       "      <th>2022-11-30 00:00:00</th>\n",
       "      <td>0</td>\n",
       "      <td>0.0</td>\n",
       "      <td>0.0</td>\n",
       "      <td>0.0</td>\n",
       "      <td>0</td>\n",
       "      <td>0</td>\n",
       "      <td>0</td>\n",
       "      <td>0</td>\n",
       "      <td>0</td>\n",
       "      <td>1</td>\n",
       "    </tr>\n",
       "    <tr>\n",
       "      <th>2022-11-30 01:00:00</th>\n",
       "      <td>1</td>\n",
       "      <td>0.0</td>\n",
       "      <td>0.0</td>\n",
       "      <td>0.0</td>\n",
       "      <td>0</td>\n",
       "      <td>0</td>\n",
       "      <td>0</td>\n",
       "      <td>0</td>\n",
       "      <td>0</td>\n",
       "      <td>1</td>\n",
       "    </tr>\n",
       "    <tr>\n",
       "      <th>2022-11-30 02:00:00</th>\n",
       "      <td>2</td>\n",
       "      <td>0.0</td>\n",
       "      <td>0.0</td>\n",
       "      <td>0.0</td>\n",
       "      <td>0</td>\n",
       "      <td>0</td>\n",
       "      <td>0</td>\n",
       "      <td>0</td>\n",
       "      <td>0</td>\n",
       "      <td>1</td>\n",
       "    </tr>\n",
       "    <tr>\n",
       "      <th>2022-11-30 03:00:00</th>\n",
       "      <td>3</td>\n",
       "      <td>0.0</td>\n",
       "      <td>0.0</td>\n",
       "      <td>0.0</td>\n",
       "      <td>0</td>\n",
       "      <td>0</td>\n",
       "      <td>0</td>\n",
       "      <td>0</td>\n",
       "      <td>0</td>\n",
       "      <td>1</td>\n",
       "    </tr>\n",
       "    <tr>\n",
       "      <th>2022-11-30 04:00:00</th>\n",
       "      <td>4</td>\n",
       "      <td>0.0</td>\n",
       "      <td>0.0</td>\n",
       "      <td>0.0</td>\n",
       "      <td>0</td>\n",
       "      <td>0</td>\n",
       "      <td>0</td>\n",
       "      <td>0</td>\n",
       "      <td>0</td>\n",
       "      <td>1</td>\n",
       "    </tr>\n",
       "    <tr>\n",
       "      <th>2022-11-30 05:00:00</th>\n",
       "      <td>5</td>\n",
       "      <td>0.0</td>\n",
       "      <td>0.0</td>\n",
       "      <td>0.0</td>\n",
       "      <td>0</td>\n",
       "      <td>0</td>\n",
       "      <td>0</td>\n",
       "      <td>0</td>\n",
       "      <td>0</td>\n",
       "      <td>1</td>\n",
       "    </tr>\n",
       "    <tr>\n",
       "      <th>2022-11-30 06:00:00</th>\n",
       "      <td>6</td>\n",
       "      <td>0.0</td>\n",
       "      <td>0.0</td>\n",
       "      <td>0.0</td>\n",
       "      <td>0</td>\n",
       "      <td>0</td>\n",
       "      <td>0</td>\n",
       "      <td>0</td>\n",
       "      <td>0</td>\n",
       "      <td>1</td>\n",
       "    </tr>\n",
       "    <tr>\n",
       "      <th>2022-11-30 07:00:00</th>\n",
       "      <td>7</td>\n",
       "      <td>0.0</td>\n",
       "      <td>0.0</td>\n",
       "      <td>0.0</td>\n",
       "      <td>0</td>\n",
       "      <td>0</td>\n",
       "      <td>0</td>\n",
       "      <td>0</td>\n",
       "      <td>0</td>\n",
       "      <td>1</td>\n",
       "    </tr>\n",
       "    <tr>\n",
       "      <th>2022-11-30 08:00:00</th>\n",
       "      <td>8</td>\n",
       "      <td>0.0</td>\n",
       "      <td>0.0</td>\n",
       "      <td>0.0</td>\n",
       "      <td>0</td>\n",
       "      <td>0</td>\n",
       "      <td>0</td>\n",
       "      <td>0</td>\n",
       "      <td>0</td>\n",
       "      <td>1</td>\n",
       "    </tr>\n",
       "    <tr>\n",
       "      <th>2022-11-30 09:00:00</th>\n",
       "      <td>9</td>\n",
       "      <td>0.0</td>\n",
       "      <td>0.0</td>\n",
       "      <td>0.0</td>\n",
       "      <td>0</td>\n",
       "      <td>0</td>\n",
       "      <td>0</td>\n",
       "      <td>0</td>\n",
       "      <td>0</td>\n",
       "      <td>1</td>\n",
       "    </tr>\n",
       "    <tr>\n",
       "      <th>2022-11-30 10:00:00</th>\n",
       "      <td>10</td>\n",
       "      <td>0.0</td>\n",
       "      <td>0.0</td>\n",
       "      <td>0.0</td>\n",
       "      <td>0</td>\n",
       "      <td>0</td>\n",
       "      <td>0</td>\n",
       "      <td>0</td>\n",
       "      <td>0</td>\n",
       "      <td>1</td>\n",
       "    </tr>\n",
       "    <tr>\n",
       "      <th>2022-11-30 11:00:00</th>\n",
       "      <td>11</td>\n",
       "      <td>0.0</td>\n",
       "      <td>0.0</td>\n",
       "      <td>0.0</td>\n",
       "      <td>0</td>\n",
       "      <td>0</td>\n",
       "      <td>0</td>\n",
       "      <td>0</td>\n",
       "      <td>0</td>\n",
       "      <td>1</td>\n",
       "    </tr>\n",
       "    <tr>\n",
       "      <th>2022-11-30 12:00:00</th>\n",
       "      <td>12</td>\n",
       "      <td>0.0</td>\n",
       "      <td>0.0</td>\n",
       "      <td>0.0</td>\n",
       "      <td>0</td>\n",
       "      <td>0</td>\n",
       "      <td>0</td>\n",
       "      <td>0</td>\n",
       "      <td>0</td>\n",
       "      <td>1</td>\n",
       "    </tr>\n",
       "    <tr>\n",
       "      <th>2022-11-30 13:00:00</th>\n",
       "      <td>13</td>\n",
       "      <td>0.0</td>\n",
       "      <td>0.0</td>\n",
       "      <td>0.0</td>\n",
       "      <td>0</td>\n",
       "      <td>0</td>\n",
       "      <td>0</td>\n",
       "      <td>0</td>\n",
       "      <td>0</td>\n",
       "      <td>1</td>\n",
       "    </tr>\n",
       "    <tr>\n",
       "      <th>2022-11-30 14:00:00</th>\n",
       "      <td>14</td>\n",
       "      <td>0.0</td>\n",
       "      <td>0.0</td>\n",
       "      <td>0.0</td>\n",
       "      <td>0</td>\n",
       "      <td>0</td>\n",
       "      <td>0</td>\n",
       "      <td>0</td>\n",
       "      <td>0</td>\n",
       "      <td>1</td>\n",
       "    </tr>\n",
       "    <tr>\n",
       "      <th>2022-11-30 15:00:00</th>\n",
       "      <td>15</td>\n",
       "      <td>0.0</td>\n",
       "      <td>0.0</td>\n",
       "      <td>0.0</td>\n",
       "      <td>0</td>\n",
       "      <td>0</td>\n",
       "      <td>0</td>\n",
       "      <td>0</td>\n",
       "      <td>0</td>\n",
       "      <td>1</td>\n",
       "    </tr>\n",
       "    <tr>\n",
       "      <th>2022-11-30 16:00:00</th>\n",
       "      <td>16</td>\n",
       "      <td>0.0</td>\n",
       "      <td>0.0</td>\n",
       "      <td>0.0</td>\n",
       "      <td>0</td>\n",
       "      <td>0</td>\n",
       "      <td>0</td>\n",
       "      <td>0</td>\n",
       "      <td>0</td>\n",
       "      <td>1</td>\n",
       "    </tr>\n",
       "    <tr>\n",
       "      <th>2022-11-30 17:00:00</th>\n",
       "      <td>17</td>\n",
       "      <td>0.0</td>\n",
       "      <td>0.0</td>\n",
       "      <td>0.0</td>\n",
       "      <td>0</td>\n",
       "      <td>0</td>\n",
       "      <td>0</td>\n",
       "      <td>0</td>\n",
       "      <td>0</td>\n",
       "      <td>1</td>\n",
       "    </tr>\n",
       "  </tbody>\n",
       "</table>\n",
       "</div>"
      ],
      "text/plain": [
       "                     hour  activity_lag_24  activity_lag_48  activity_lag_72  \\\n",
       "last_updated                                                                   \n",
       "2022-11-30 00:00:00     0              0.0              0.0              0.0   \n",
       "2022-11-30 01:00:00     1              0.0              0.0              0.0   \n",
       "2022-11-30 02:00:00     2              0.0              0.0              0.0   \n",
       "2022-11-30 03:00:00     3              0.0              0.0              0.0   \n",
       "2022-11-30 04:00:00     4              0.0              0.0              0.0   \n",
       "2022-11-30 05:00:00     5              0.0              0.0              0.0   \n",
       "2022-11-30 06:00:00     6              0.0              0.0              0.0   \n",
       "2022-11-30 07:00:00     7              0.0              0.0              0.0   \n",
       "2022-11-30 08:00:00     8              0.0              0.0              0.0   \n",
       "2022-11-30 09:00:00     9              0.0              0.0              0.0   \n",
       "2022-11-30 10:00:00    10              0.0              0.0              0.0   \n",
       "2022-11-30 11:00:00    11              0.0              0.0              0.0   \n",
       "2022-11-30 12:00:00    12              0.0              0.0              0.0   \n",
       "2022-11-30 13:00:00    13              0.0              0.0              0.0   \n",
       "2022-11-30 14:00:00    14              0.0              0.0              0.0   \n",
       "2022-11-30 15:00:00    15              0.0              0.0              0.0   \n",
       "2022-11-30 16:00:00    16              0.0              0.0              0.0   \n",
       "2022-11-30 17:00:00    17              0.0              0.0              0.0   \n",
       "\n",
       "                     day_name_Monday  day_name_Saturday  day_name_Sunday  \\\n",
       "last_updated                                                               \n",
       "2022-11-30 00:00:00                0                  0                0   \n",
       "2022-11-30 01:00:00                0                  0                0   \n",
       "2022-11-30 02:00:00                0                  0                0   \n",
       "2022-11-30 03:00:00                0                  0                0   \n",
       "2022-11-30 04:00:00                0                  0                0   \n",
       "2022-11-30 05:00:00                0                  0                0   \n",
       "2022-11-30 06:00:00                0                  0                0   \n",
       "2022-11-30 07:00:00                0                  0                0   \n",
       "2022-11-30 08:00:00                0                  0                0   \n",
       "2022-11-30 09:00:00                0                  0                0   \n",
       "2022-11-30 10:00:00                0                  0                0   \n",
       "2022-11-30 11:00:00                0                  0                0   \n",
       "2022-11-30 12:00:00                0                  0                0   \n",
       "2022-11-30 13:00:00                0                  0                0   \n",
       "2022-11-30 14:00:00                0                  0                0   \n",
       "2022-11-30 15:00:00                0                  0                0   \n",
       "2022-11-30 16:00:00                0                  0                0   \n",
       "2022-11-30 17:00:00                0                  0                0   \n",
       "\n",
       "                     day_name_Thursday  day_name_Tuesday  day_name_Wednesday  \n",
       "last_updated                                                                  \n",
       "2022-11-30 00:00:00                  0                 0                   1  \n",
       "2022-11-30 01:00:00                  0                 0                   1  \n",
       "2022-11-30 02:00:00                  0                 0                   1  \n",
       "2022-11-30 03:00:00                  0                 0                   1  \n",
       "2022-11-30 04:00:00                  0                 0                   1  \n",
       "2022-11-30 05:00:00                  0                 0                   1  \n",
       "2022-11-30 06:00:00                  0                 0                   1  \n",
       "2022-11-30 07:00:00                  0                 0                   1  \n",
       "2022-11-30 08:00:00                  0                 0                   1  \n",
       "2022-11-30 09:00:00                  0                 0                   1  \n",
       "2022-11-30 10:00:00                  0                 0                   1  \n",
       "2022-11-30 11:00:00                  0                 0                   1  \n",
       "2022-11-30 12:00:00                  0                 0                   1  \n",
       "2022-11-30 13:00:00                  0                 0                   1  \n",
       "2022-11-30 14:00:00                  0                 0                   1  \n",
       "2022-11-30 15:00:00                  0                 0                   1  \n",
       "2022-11-30 16:00:00                  0                 0                   1  \n",
       "2022-11-30 17:00:00                  0                 0                   1  "
      ]
     },
     "execution_count": 58,
     "metadata": {},
     "output_type": "execute_result"
    }
   ],
   "source": [
    "X_test"
   ]
  },
  {
   "cell_type": "code",
   "execution_count": 59,
   "metadata": {
    "colab": {
     "base_uri": "https://localhost:8080/"
    },
    "executionInfo": {
     "elapsed": 108648,
     "status": "ok",
     "timestamp": 1607622505633,
     "user": {
      "displayName": "Leon H",
      "photoUrl": "",
      "userId": "10150017554198726068"
     },
     "user_tz": -60
    },
    "id": "YRC3BzB1R9Vm",
    "outputId": "016c8cc1-ec68-4778-b2fa-7037de1ac50b"
   },
   "outputs": [
    {
     "data": {
      "text/plain": [
       "last_updated\n",
       "2022-11-21 17:00:00    1\n",
       "2022-11-21 18:00:00    1\n",
       "2022-11-21 19:00:00    0\n",
       "2022-11-21 20:00:00    1\n",
       "2022-11-21 21:00:00    0\n",
       "                      ..\n",
       "2022-11-29 19:00:00    1\n",
       "2022-11-29 20:00:00    0\n",
       "2022-11-29 21:00:00    0\n",
       "2022-11-29 22:00:00    0\n",
       "2022-11-29 23:00:00    0\n",
       "Freq: 60T, Name: activity, Length: 199, dtype: int64"
      ]
     },
     "execution_count": 59,
     "metadata": {},
     "output_type": "execute_result"
    }
   ],
   "source": [
    "y_train"
   ]
  },
  {
   "cell_type": "code",
   "execution_count": 60,
   "metadata": {
    "colab": {
     "base_uri": "https://localhost:8080/"
    },
    "executionInfo": {
     "elapsed": 108623,
     "status": "ok",
     "timestamp": 1607622505637,
     "user": {
      "displayName": "Leon H",
      "photoUrl": "",
      "userId": "10150017554198726068"
     },
     "user_tz": -60
    },
    "id": "NzucRWLPR-se",
    "outputId": "e636f0bd-dbb0-4ff5-b05a-a3ada56c130f"
   },
   "outputs": [
    {
     "data": {
      "text/plain": [
       "last_updated\n",
       "2022-11-30 00:00:00    0\n",
       "2022-11-30 01:00:00    0\n",
       "2022-11-30 02:00:00    0\n",
       "2022-11-30 03:00:00    0\n",
       "2022-11-30 04:00:00    0\n",
       "2022-11-30 05:00:00    0\n",
       "2022-11-30 06:00:00    0\n",
       "2022-11-30 07:00:00    0\n",
       "2022-11-30 08:00:00    0\n",
       "2022-11-30 09:00:00    0\n",
       "2022-11-30 10:00:00    0\n",
       "2022-11-30 11:00:00    1\n",
       "2022-11-30 12:00:00    1\n",
       "2022-11-30 13:00:00    1\n",
       "2022-11-30 14:00:00    1\n",
       "2022-11-30 15:00:00    0\n",
       "2022-11-30 16:00:00    0\n",
       "2022-11-30 17:00:00    1\n",
       "Freq: 60T, Name: activity, dtype: int64"
      ]
     },
     "execution_count": 60,
     "metadata": {},
     "output_type": "execute_result"
    }
   ],
   "source": [
    "y_test"
   ]
  },
  {
   "cell_type": "markdown",
   "metadata": {
    "id": "oFin5DzZSe4m"
   },
   "source": [
    "### **2.2 Building Models**\n",
    "\n",
    "Within this section, we will demonstrate how different models for predicting the user activity could be added to the activity agent. For this notebook, we chose to implement a pretty simple logistic regression using the statsmodel api which already provides promising results. \n",
    "\n",
    "The functionality of the activity agent will include building models, fitting models and predicting the user’s activity.\n"
   ]
  },
  {
   "cell_type": "code",
   "execution_count": 61,
   "metadata": {
    "executionInfo": {
     "elapsed": 108622,
     "status": "ok",
     "timestamp": 1607622505639,
     "user": {
      "displayName": "Leon H",
      "photoUrl": "",
      "userId": "10150017554198726068"
     },
     "user_tz": -60
    },
    "id": "tB-PCKn6Sh0v"
   },
   "outputs": [],
   "source": [
    "def fit_smLogit(self, X, y):\n",
    "    import statsmodels.api as sm\n",
    "    return sm.Logit(y, X).fit(disp=False)\n",
    "\n",
    "# add to Activity agent\n",
    "setattr(Activity_Agent, 'fit_smLogit', fit_smLogit)\n",
    "del fit_smLogit "
   ]
  },
  {
   "cell_type": "code",
   "execution_count": 62,
   "metadata": {
    "executionInfo": {
     "elapsed": 108619,
     "status": "ok",
     "timestamp": 1607622505640,
     "user": {
      "displayName": "Leon H",
      "photoUrl": "",
      "userId": "10150017554198726068"
     },
     "user_tz": -60
    },
    "id": "MEUtPWuqUby7"
   },
   "outputs": [],
   "source": [
    "def fit(self, X, y, model_type):\n",
    "    if model_type == 'logit':\n",
    "        model = self.fit_smLogit(X, y)\n",
    "    else:\n",
    "        raise InputError('Unknown model type.')\n",
    "    return model\n",
    "\n",
    "# add to Activity agent\n",
    "setattr(Activity_Agent, 'fit', fit)\n",
    "del fit"
   ]
  },
  {
   "cell_type": "code",
   "execution_count": 63,
   "metadata": {
    "colab": {
     "base_uri": "https://localhost:8080/"
    },
    "executionInfo": {
     "elapsed": 108973,
     "status": "ok",
     "timestamp": 1607622506027,
     "user": {
      "displayName": "Leon H",
      "photoUrl": "",
      "userId": "10150017554198726068"
     },
     "user_tz": -60
    },
    "id": "c4VLJHsiT6og",
    "outputId": "e5a9a876-fc6e-4e76-e0e3-648bd04a6bde"
   },
   "outputs": [
    {
     "name": "stdout",
     "output_type": "stream",
     "text": [
      "                           Logit Regression Results                           \n",
      "==============================================================================\n",
      "Dep. Variable:               activity   No. Observations:                  199\n",
      "Model:                          Logit   Df Residuals:                      189\n",
      "Method:                           MLE   Df Model:                            9\n",
      "Date:                Mon, 12 Dec 2022   Pseudo R-squ.:                 -0.2966\n",
      "Time:                        23:07:03   Log-Likelihood:                -25.397\n",
      "converged:                      False   LL-Null:                       -19.588\n",
      "Covariance Type:            nonrobust   LLR p-value:                     1.000\n",
      "======================================================================================\n",
      "                         coef    std err          z      P>|z|      [0.025      0.975]\n",
      "--------------------------------------------------------------------------------------\n",
      "hour                  -0.1165      0.041     -2.862      0.004      -0.196      -0.037\n",
      "activity_lag_24      -18.5990   7.34e+04     -0.000      1.000   -1.44e+05    1.44e+05\n",
      "activity_lag_48       -3.1462   5.19e+14  -6.06e-15      1.000   -1.02e+15    1.02e+15\n",
      "activity_lag_72       -3.1462   5.19e+14  -6.06e-15      1.000   -1.02e+15    1.02e+15\n",
      "day_name_Monday       -0.9483      0.722     -1.314      0.189      -2.363       0.467\n",
      "day_name_Saturday    -18.1871   3045.098     -0.006      0.995   -5986.469    5950.095\n",
      "day_name_Sunday      -18.1871   3045.098     -0.006      0.995   -5986.469    5950.095\n",
      "day_name_Thursday    -63.5911   2.25e+13  -2.83e-12      1.000   -4.41e+13    4.41e+13\n",
      "day_name_Tuesday      -2.7820      1.051     -2.648      0.008      -4.841      -0.723\n",
      "day_name_Wednesday   -63.5911   2.25e+13  -2.83e-12      1.000   -4.41e+13    4.41e+13\n",
      "======================================================================================\n",
      "\n",
      "Possibly complete quasi-separation: A fraction 0.50 of observations can be\n",
      "perfectly predicted. This might indicate that there is complete\n",
      "quasi-separation. In this case some parameters will not be identified.\n"
     ]
    },
    {
     "name": "stderr",
     "output_type": "stream",
     "text": [
      "/Users/sofyakonchakova/Conda/anaconda3/lib/python3.9/site-packages/statsmodels/base/model.py:604: ConvergenceWarning: Maximum Likelihood optimization failed to converge. Check mle_retvals\n",
      "  warnings.warn(\"Maximum Likelihood optimization failed to \"\n"
     ]
    }
   ],
   "source": [
    "activity = Activity_Agent(df)\n",
    "model = activity.fit(X_train, y_train, 'logit')\n",
    "print(model.summary())"
   ]
  },
  {
   "cell_type": "code",
   "execution_count": 64,
   "metadata": {
    "executionInfo": {
     "elapsed": 108976,
     "status": "ok",
     "timestamp": 1607622506034,
     "user": {
      "displayName": "Leon H",
      "photoUrl": "",
      "userId": "10150017554198726068"
     },
     "user_tz": -60
    },
    "id": "ya4tqmxRWbY2"
   },
   "outputs": [],
   "source": [
    "def predict(self, model, X):\n",
    "    import statsmodels\n",
    "\n",
    "    if type(model) == statsmodels.discrete.discrete_model.BinaryResultsWrapper:\n",
    "        y_hat = model.predict(X)\n",
    "    else:\n",
    "        raise InputError('Unknown model type.')\n",
    "    return y_hat\n",
    "\n",
    "# add to Activity agent\n",
    "setattr(Activity_Agent, 'predict', predict)\n",
    "del predict"
   ]
  },
  {
   "cell_type": "code",
   "execution_count": 65,
   "metadata": {
    "colab": {
     "base_uri": "https://localhost:8080/"
    },
    "executionInfo": {
     "elapsed": 108950,
     "status": "ok",
     "timestamp": 1607622506036,
     "user": {
      "displayName": "Leon H",
      "photoUrl": "",
      "userId": "10150017554198726068"
     },
     "user_tz": -60
    },
    "id": "CF1BdwjeX5Zl",
    "outputId": "cf3991e5-500d-4e26-e184-75b28f444b0e"
   },
   "outputs": [
    {
     "data": {
      "text/plain": [
       "last_updated\n",
       "2022-11-30 00:00:00    2.413900e-28\n",
       "2022-11-30 01:00:00    2.148427e-28\n",
       "2022-11-30 02:00:00    1.912150e-28\n",
       "2022-11-30 03:00:00    1.701858e-28\n",
       "2022-11-30 04:00:00    1.514694e-28\n",
       "2022-11-30 05:00:00    1.348113e-28\n",
       "2022-11-30 06:00:00    1.199852e-28\n",
       "2022-11-30 07:00:00    1.067896e-28\n",
       "2022-11-30 08:00:00    9.504526e-29\n",
       "2022-11-30 09:00:00    8.459250e-29\n",
       "2022-11-30 10:00:00    7.528930e-29\n",
       "2022-11-30 11:00:00    6.700923e-29\n",
       "2022-11-30 12:00:00    5.963978e-29\n",
       "2022-11-30 13:00:00    5.308080e-29\n",
       "2022-11-30 14:00:00    4.724315e-29\n",
       "2022-11-30 15:00:00    4.204751e-29\n",
       "2022-11-30 16:00:00    3.742326e-29\n",
       "2022-11-30 17:00:00    3.330758e-29\n",
       "Freq: 60T, dtype: float64"
      ]
     },
     "execution_count": 65,
     "metadata": {},
     "output_type": "execute_result"
    }
   ],
   "source": [
    "activity = Activity_Agent(df)\n",
    "y_hat = activity.predict(model, X_test)\n",
    "y_hat"
   ]
  },
  {
   "cell_type": "markdown",
   "metadata": {
    "id": "mEasRNILZOu3"
   },
   "source": [
    "### **2.3 Model Evaluation**\n",
    "\n",
    "A drawback to our approach is that we are not able to apply conventional model evaluation techniques to our model. We will train our model for each day to account for newly available information. Hence, we have different train and test sets for each day and for each day different performance metric based on the respective data sets. Therefore, we created our own evaluation function. \n",
    "\n",
    "Our evaluation function will build a model, fit the model and predict the target for each day for a given prediction period. For each day and fitted model it will calculate a performance metric on the train data. We chose the Area Under the Receiver Operating Characteristic Curve (AUC) as performance metric for our binary classification task. As in our case the test data is only the current date to be predicted (i.e. 24 data cases in the test data, one for each hour of the day), calculating the AUC on the test date immediately would lead to a high volatility in the test AUC per day to be predicted. Therefore, we calculate the test AUC over the activity probabilities of all days after all days have been predicted. To summarize the train AUC in one score, we apply an average over all calculated train AUC scores."
   ]
  },
  {
   "cell_type": "code",
   "execution_count": 66,
   "metadata": {
    "executionInfo": {
     "elapsed": 108948,
     "status": "ok",
     "timestamp": 1607622506037,
     "user": {
      "displayName": "Leon H",
      "photoUrl": "",
      "userId": "10150017554198726068"
     },
     "user_tz": -60
    },
    "id": "04O7bOvBZSEB"
   },
   "outputs": [],
   "source": [
    "def auc(self, y_true, y_hat):\n",
    "    import sklearn.metrics\n",
    "    return sklearn.metrics.roc_auc_score(y_true, y_hat)\n",
    "\n",
    "# add to Activity agent\n",
    "setattr(Activity_Agent, 'auc', auc)\n",
    "del auc"
   ]
  },
  {
   "cell_type": "code",
   "execution_count": 70,
   "metadata": {},
   "outputs": [
    {
     "name": "stdout",
     "output_type": "stream",
     "text": [
      "<class 'pandas.core.frame.DataFrame'>\n",
      "DatetimeIndex: 217 entries, 2022-11-21 17:00:00 to 2022-11-30 17:00:00\n",
      "Freq: 60T\n",
      "Data columns (total 11 columns):\n",
      " #   Column              Non-Null Count  Dtype  \n",
      "---  ------              --------------  -----  \n",
      " 0   activity            217 non-null    int64  \n",
      " 1   hour                217 non-null    int64  \n",
      " 2   activity_lag_24     193 non-null    float64\n",
      " 3   activity_lag_48     169 non-null    float64\n",
      " 4   activity_lag_72     145 non-null    float64\n",
      " 5   day_name_Monday     217 non-null    uint8  \n",
      " 6   day_name_Saturday   217 non-null    uint8  \n",
      " 7   day_name_Sunday     217 non-null    uint8  \n",
      " 8   day_name_Thursday   217 non-null    uint8  \n",
      " 9   day_name_Tuesday    217 non-null    uint8  \n",
      " 10  day_name_Wednesday  217 non-null    uint8  \n",
      "dtypes: float64(3), int64(2), uint8(6)\n",
      "memory usage: 19.5 KB\n"
     ]
    }
   ],
   "source": [
    "df.info()"
   ]
  },
  {
   "cell_type": "code",
   "execution_count": 83,
   "metadata": {},
   "outputs": [],
   "source": [
    "dates = pd.DataFrame(df.index).set_index(df.index)['last_updated'].apply(lambda date: str(date)[:10]).drop_duplicates()"
   ]
  },
  {
   "cell_type": "code",
   "execution_count": 84,
   "metadata": {},
   "outputs": [
    {
     "data": {
      "text/plain": [
       "last_updated\n",
       "2022-11-21 17:00:00    2022-11-21\n",
       "2022-11-22 00:00:00    2022-11-22\n",
       "2022-11-23 00:00:00    2022-11-23\n",
       "2022-11-24 00:00:00    2022-11-24\n",
       "2022-11-25 00:00:00    2022-11-25\n",
       "2022-11-26 00:00:00    2022-11-26\n",
       "2022-11-27 00:00:00    2022-11-27\n",
       "2022-11-28 00:00:00    2022-11-28\n",
       "2022-11-29 00:00:00    2022-11-29\n",
       "2022-11-30 00:00:00    2022-11-30\n",
       "Name: last_updated, dtype: object"
      ]
     },
     "execution_count": 84,
     "metadata": {},
     "output_type": "execute_result"
    }
   ],
   "source": [
    "dates"
   ]
  },
  {
   "cell_type": "markdown",
   "metadata": {},
   "source": [
    "<font color = 'red'> Does not work. Dates are messed up? Failed to converge Maximum Likelihood. </font >"
   ]
  },
  {
   "cell_type": "code",
   "execution_count": 105,
   "metadata": {
    "executionInfo": {
     "elapsed": 108943,
     "status": "ok",
     "timestamp": 1607622506039,
     "user": {
      "displayName": "Leon H",
      "photoUrl": "",
      "userId": "10150017554198726068"
     },
     "user_tz": -60
    },
    "id": "upk_z_Pyr6Iq"
   },
   "outputs": [],
   "source": [
    "def evaluate(self, df, model_type, split_params, predict_start='2022-11-30', predict_end=-1):\n",
    "    import pandas as pd\n",
    "    import numpy as np\n",
    "    from tqdm import tqdm\n",
    "\n",
    "    dates = pd.DataFrame(df.index).set_index(df.index)['last_updated'].apply(lambda date: str(date)[:10]).drop_duplicates()\n",
    "\n",
    "    predict_start = pd.to_datetime(predict_start)\n",
    "    predict_end = pd.to_datetime(dates[predict_end]) if type(predict_end) == int else pd.to_datetime(predict_end)\n",
    "\n",
    "    dates = dates.loc[predict_start:predict_end]\n",
    "    \n",
    "    y_true = []\n",
    "    y_hat_train = {}\n",
    "    y_hat_test = []\n",
    "    auc_train_dict = {}\n",
    "    auc_test = []\n",
    "\n",
    "    for date in tqdm(dates):\n",
    "        # train test split\n",
    "        #train_test_split(self, df, date, train_start='2013-11-01', test_delta='all', target='activity')\n",
    "        X_train, y_train, X_test, y_test = self.train_test_split(df, date, **split_params)\n",
    "\n",
    "        # fit model\n",
    "        model = self.fit(X_train, y_train, model_type)\n",
    "\n",
    "        # predict\n",
    "        y_hat_train.update({date: self.predict(model, X_train)})\n",
    "        y_hat_test += list(self.predict(model, X_test))\n",
    "\n",
    "        # evaluate train data\n",
    "        auc_train_dict.update({date: self.auc(y_train, list(y_hat_train.values())[-1])})\n",
    "        \n",
    "        y_true += list(y_test)\n",
    "    \n",
    "    auc_test = self.auc(y_true, y_hat_test)\n",
    "    auc_train = np.mean(list(auc_train_dict.values()))\n",
    "\n",
    "    return auc_train, auc_test, auc_train_dict\n",
    "\n",
    "\n",
    "# add to Activity agent\n",
    "setattr(Activity_Agent, 'evaluate', evaluate)\n",
    "del evaluate"
   ]
  },
  {
   "cell_type": "code",
   "execution_count": 106,
   "metadata": {
    "colab": {
     "base_uri": "https://localhost:8080/"
    },
    "executionInfo": {
     "elapsed": 128098,
     "status": "ok",
     "timestamp": 1607622525227,
     "user": {
      "displayName": "Leon H",
      "photoUrl": "",
      "userId": "10150017554198726068"
     },
     "user_tz": -60
    },
    "id": "8fMlJ62nr6Ir",
    "outputId": "2529cb31-0687-470f-97f1-167cf1ccf445"
   },
   "outputs": [
    {
     "name": "stderr",
     "output_type": "stream",
     "text": [
      "  0%|          | 0/1 [00:00<?, ?it/s]/Users/sofyakonchakova/Conda/anaconda3/lib/python3.9/site-packages/statsmodels/base/model.py:604: ConvergenceWarning: Maximum Likelihood optimization failed to converge. Check mle_retvals\n",
      "  warnings.warn(\"Maximum Likelihood optimization failed to \"\n",
      "100%|██████████| 1/1 [00:00<00:00, 33.97it/s]\n"
     ]
    }
   ],
   "source": [
    "split_params = {'train_start': '2022-11-22', 'test_delta': {'days':1, 'seconds':-1}, 'target': 'activity'}\n",
    "activity = Activity_Agent(df)\n",
    "auc_train, auc_test, auc_train_dict = activity.evaluate(df, 'logit', split_params) "
   ]
  },
  {
   "cell_type": "code",
   "execution_count": 107,
   "metadata": {
    "colab": {
     "base_uri": "https://localhost:8080/"
    },
    "executionInfo": {
     "elapsed": 128072,
     "status": "ok",
     "timestamp": 1607622525234,
     "user": {
      "displayName": "Leon H",
      "photoUrl": "",
      "userId": "10150017554198726068"
     },
     "user_tz": -60
    },
    "id": "YNMgJmtjr6Ir",
    "outputId": "b6e897c3-b309-4395-91b5-e425d35ab7b1"
   },
   "outputs": [
    {
     "name": "stdout",
     "output_type": "stream",
     "text": [
      "[model performance] train auc score: 0.6832460732984293\n",
      "[model performance] test auc score: 0.12307692307692308\n"
     ]
    }
   ],
   "source": [
    "# printing the scores\n",
    "print(f'[model performance] train auc score: {auc_train}\\n[model performance] test auc score: {auc_test}')"
   ]
  },
  {
   "cell_type": "markdown",
   "metadata": {
    "id": "kIXhmu5fsaHC"
   },
   "source": [
    "### **2.4 Pipeline Function**\n",
    "\n",
    "The pipeline function of the activity agent will receive a date as input, create the appropriate train test split, fit the selected model to the data and return the activity predictions for the day to be predicted. The subsequent recommendation agent will process these activity probabilities to provide recommendations to the user."
   ]
  },
  {
   "cell_type": "code",
   "execution_count": 108,
   "metadata": {
    "executionInfo": {
     "elapsed": 128076,
     "status": "ok",
     "timestamp": 1607622525241,
     "user": {
      "displayName": "Leon H",
      "photoUrl": "",
      "userId": "10150017554198726068"
     },
     "user_tz": -60
    },
    "id": "zeFq0cASsd-B"
   },
   "outputs": [],
   "source": [
    "def pipeline(self, df, date, model_type, split_params):\n",
    "    X_train, y_train, X_test, y_test = self.train_test_split(df, date, **split_params)\n",
    "\n",
    "    # fit model\n",
    "    model = self.fit(X_train, y_train, model_type)\n",
    "\n",
    "    # predict\n",
    "    return self.predict(model, X_test)\n",
    "\n",
    "# add to Activity agent\n",
    "setattr(Activity_Agent, 'pipeline', pipeline)\n",
    "del pipeline"
   ]
  },
  {
   "cell_type": "code",
   "execution_count": 123,
   "metadata": {
    "colab": {
     "base_uri": "https://localhost:8080/"
    },
    "executionInfo": {
     "elapsed": 1926,
     "status": "ok",
     "timestamp": 1607622704123,
     "user": {
      "displayName": "Leon H",
      "photoUrl": "",
      "userId": "10150017554198726068"
     },
     "user_tz": -60
    },
    "id": "knvuAmV2tFpD",
    "outputId": "c9c721aa-2206-490f-9e1f-133d03a0de86"
   },
   "outputs": [
    {
     "name": "stderr",
     "output_type": "stream",
     "text": [
      "/Users/sofyakonchakova/Conda/anaconda3/lib/python3.9/site-packages/statsmodels/base/model.py:604: ConvergenceWarning: Maximum Likelihood optimization failed to converge. Check mle_retvals\n",
      "  warnings.warn(\"Maximum Likelihood optimization failed to \"\n"
     ]
    },
    {
     "data": {
      "text/plain": [
       "Series([], Freq: 60T, dtype: float64)"
      ]
     },
     "execution_count": 123,
     "metadata": {},
     "output_type": "execute_result"
    }
   ],
   "source": [
    "activity = Activity_Agent(df)\n",
    "\n",
    "date = '2022-12-01'\n",
    "split_params = {'train_start': '2022-11-22', 'test_delta': {'days':1, 'seconds':-1}, 'target': 'activity'}\n",
    "\n",
    "output = activity.pipeline(df, date, 'logit', split_params)\n",
    "output"
   ]
  },
  {
   "cell_type": "code",
   "execution_count": 118,
   "metadata": {
    "colab": {
     "base_uri": "https://localhost:8080/",
     "height": 291
    },
    "executionInfo": {
     "elapsed": 1605,
     "status": "ok",
     "timestamp": 1607622706657,
     "user": {
      "displayName": "Leon H",
      "photoUrl": "",
      "userId": "10150017554198726068"
     },
     "user_tz": -60
    },
    "id": "tmtVlt5AsnqB",
    "outputId": "cf03c690-1404-47b3-fb50-3f08e786adee"
   },
   "outputs": [
    {
     "ename": "IndexError",
     "evalue": "index 0 is out of bounds for axis 0 with size 0",
     "output_type": "error",
     "traceback": [
      "\u001b[0;31m---------------------------------------------------------------------------\u001b[0m",
      "\u001b[0;31mIndexError\u001b[0m                                Traceback (most recent call last)",
      "\u001b[0;32m/var/folders/nz/fr0fhqq53cl3b9cq3jwbk1640000gn/T/ipykernel_19234/3762266424.py\u001b[0m in \u001b[0;36m<module>\u001b[0;34m\u001b[0m\n\u001b[0;32m----> 1\u001b[0;31m \u001b[0moutput\u001b[0m\u001b[0;34m.\u001b[0m\u001b[0mplot\u001b[0m\u001b[0;34m(\u001b[0m\u001b[0;34m)\u001b[0m\u001b[0;34m;\u001b[0m\u001b[0;34m\u001b[0m\u001b[0;34m\u001b[0m\u001b[0m\n\u001b[0m\u001b[1;32m      2\u001b[0m \u001b[0mplt\u001b[0m\u001b[0;34m.\u001b[0m\u001b[0mylim\u001b[0m\u001b[0;34m(\u001b[0m\u001b[0;34m-\u001b[0m\u001b[0;36m.1\u001b[0m\u001b[0;34m,\u001b[0m \u001b[0;36m1.1\u001b[0m\u001b[0;34m)\u001b[0m\u001b[0;34m;\u001b[0m\u001b[0;34m\u001b[0m\u001b[0;34m\u001b[0m\u001b[0m\n",
      "\u001b[0;32m~/Conda/anaconda3/lib/python3.9/site-packages/pandas/plotting/_core.py\u001b[0m in \u001b[0;36m__call__\u001b[0;34m(self, *args, **kwargs)\u001b[0m\n\u001b[1;32m    970\u001b[0m                     \u001b[0mdata\u001b[0m\u001b[0;34m.\u001b[0m\u001b[0mcolumns\u001b[0m \u001b[0;34m=\u001b[0m \u001b[0mlabel_name\u001b[0m\u001b[0;34m\u001b[0m\u001b[0;34m\u001b[0m\u001b[0m\n\u001b[1;32m    971\u001b[0m \u001b[0;34m\u001b[0m\u001b[0m\n\u001b[0;32m--> 972\u001b[0;31m         \u001b[0;32mreturn\u001b[0m \u001b[0mplot_backend\u001b[0m\u001b[0;34m.\u001b[0m\u001b[0mplot\u001b[0m\u001b[0;34m(\u001b[0m\u001b[0mdata\u001b[0m\u001b[0;34m,\u001b[0m \u001b[0mkind\u001b[0m\u001b[0;34m=\u001b[0m\u001b[0mkind\u001b[0m\u001b[0;34m,\u001b[0m \u001b[0;34m**\u001b[0m\u001b[0mkwargs\u001b[0m\u001b[0;34m)\u001b[0m\u001b[0;34m\u001b[0m\u001b[0;34m\u001b[0m\u001b[0m\n\u001b[0m\u001b[1;32m    973\u001b[0m \u001b[0;34m\u001b[0m\u001b[0m\n\u001b[1;32m    974\u001b[0m     \u001b[0m__call__\u001b[0m\u001b[0;34m.\u001b[0m\u001b[0m__doc__\u001b[0m \u001b[0;34m=\u001b[0m \u001b[0m__doc__\u001b[0m\u001b[0;34m\u001b[0m\u001b[0;34m\u001b[0m\u001b[0m\n",
      "\u001b[0;32m~/Conda/anaconda3/lib/python3.9/site-packages/pandas/plotting/_matplotlib/__init__.py\u001b[0m in \u001b[0;36mplot\u001b[0;34m(data, kind, **kwargs)\u001b[0m\n\u001b[1;32m     69\u001b[0m             \u001b[0mkwargs\u001b[0m\u001b[0;34m[\u001b[0m\u001b[0;34m\"ax\"\u001b[0m\u001b[0;34m]\u001b[0m \u001b[0;34m=\u001b[0m \u001b[0mgetattr\u001b[0m\u001b[0;34m(\u001b[0m\u001b[0max\u001b[0m\u001b[0;34m,\u001b[0m \u001b[0;34m\"left_ax\"\u001b[0m\u001b[0;34m,\u001b[0m \u001b[0max\u001b[0m\u001b[0;34m)\u001b[0m\u001b[0;34m\u001b[0m\u001b[0;34m\u001b[0m\u001b[0m\n\u001b[1;32m     70\u001b[0m     \u001b[0mplot_obj\u001b[0m \u001b[0;34m=\u001b[0m \u001b[0mPLOT_CLASSES\u001b[0m\u001b[0;34m[\u001b[0m\u001b[0mkind\u001b[0m\u001b[0;34m]\u001b[0m\u001b[0;34m(\u001b[0m\u001b[0mdata\u001b[0m\u001b[0;34m,\u001b[0m \u001b[0;34m**\u001b[0m\u001b[0mkwargs\u001b[0m\u001b[0;34m)\u001b[0m\u001b[0;34m\u001b[0m\u001b[0;34m\u001b[0m\u001b[0m\n\u001b[0;32m---> 71\u001b[0;31m     \u001b[0mplot_obj\u001b[0m\u001b[0;34m.\u001b[0m\u001b[0mgenerate\u001b[0m\u001b[0;34m(\u001b[0m\u001b[0;34m)\u001b[0m\u001b[0;34m\u001b[0m\u001b[0;34m\u001b[0m\u001b[0m\n\u001b[0m\u001b[1;32m     72\u001b[0m     \u001b[0mplot_obj\u001b[0m\u001b[0;34m.\u001b[0m\u001b[0mdraw\u001b[0m\u001b[0;34m(\u001b[0m\u001b[0;34m)\u001b[0m\u001b[0;34m\u001b[0m\u001b[0;34m\u001b[0m\u001b[0m\n\u001b[1;32m     73\u001b[0m     \u001b[0;32mreturn\u001b[0m \u001b[0mplot_obj\u001b[0m\u001b[0;34m.\u001b[0m\u001b[0mresult\u001b[0m\u001b[0;34m\u001b[0m\u001b[0;34m\u001b[0m\u001b[0m\n",
      "\u001b[0;32m~/Conda/anaconda3/lib/python3.9/site-packages/pandas/plotting/_matplotlib/core.py\u001b[0m in \u001b[0;36mgenerate\u001b[0;34m(self)\u001b[0m\n\u001b[1;32m    327\u001b[0m         \u001b[0mself\u001b[0m\u001b[0;34m.\u001b[0m\u001b[0m_compute_plot_data\u001b[0m\u001b[0;34m(\u001b[0m\u001b[0;34m)\u001b[0m\u001b[0;34m\u001b[0m\u001b[0;34m\u001b[0m\u001b[0m\n\u001b[1;32m    328\u001b[0m         \u001b[0mself\u001b[0m\u001b[0;34m.\u001b[0m\u001b[0m_setup_subplots\u001b[0m\u001b[0;34m(\u001b[0m\u001b[0;34m)\u001b[0m\u001b[0;34m\u001b[0m\u001b[0;34m\u001b[0m\u001b[0m\n\u001b[0;32m--> 329\u001b[0;31m         \u001b[0mself\u001b[0m\u001b[0;34m.\u001b[0m\u001b[0m_make_plot\u001b[0m\u001b[0;34m(\u001b[0m\u001b[0;34m)\u001b[0m\u001b[0;34m\u001b[0m\u001b[0;34m\u001b[0m\u001b[0m\n\u001b[0m\u001b[1;32m    330\u001b[0m         \u001b[0mself\u001b[0m\u001b[0;34m.\u001b[0m\u001b[0m_add_table\u001b[0m\u001b[0;34m(\u001b[0m\u001b[0;34m)\u001b[0m\u001b[0;34m\u001b[0m\u001b[0;34m\u001b[0m\u001b[0m\n\u001b[1;32m    331\u001b[0m         \u001b[0mself\u001b[0m\u001b[0;34m.\u001b[0m\u001b[0m_make_legend\u001b[0m\u001b[0;34m(\u001b[0m\u001b[0;34m)\u001b[0m\u001b[0;34m\u001b[0m\u001b[0;34m\u001b[0m\u001b[0m\n",
      "\u001b[0;32m~/Conda/anaconda3/lib/python3.9/site-packages/pandas/plotting/_matplotlib/core.py\u001b[0m in \u001b[0;36m_make_plot\u001b[0;34m(self)\u001b[0m\n\u001b[1;32m   1194\u001b[0m \u001b[0;34m\u001b[0m\u001b[0m\n\u001b[1;32m   1195\u001b[0m     \u001b[0;32mdef\u001b[0m \u001b[0m_make_plot\u001b[0m\u001b[0;34m(\u001b[0m\u001b[0mself\u001b[0m\u001b[0;34m)\u001b[0m\u001b[0;34m:\u001b[0m\u001b[0;34m\u001b[0m\u001b[0;34m\u001b[0m\u001b[0m\n\u001b[0;32m-> 1196\u001b[0;31m         \u001b[0;32mif\u001b[0m \u001b[0mself\u001b[0m\u001b[0;34m.\u001b[0m\u001b[0m_is_ts_plot\u001b[0m\u001b[0;34m(\u001b[0m\u001b[0;34m)\u001b[0m\u001b[0;34m:\u001b[0m\u001b[0;34m\u001b[0m\u001b[0;34m\u001b[0m\u001b[0m\n\u001b[0m\u001b[1;32m   1197\u001b[0m             \u001b[0mdata\u001b[0m \u001b[0;34m=\u001b[0m \u001b[0mmaybe_convert_index\u001b[0m\u001b[0;34m(\u001b[0m\u001b[0mself\u001b[0m\u001b[0;34m.\u001b[0m\u001b[0m_get_ax\u001b[0m\u001b[0;34m(\u001b[0m\u001b[0;36m0\u001b[0m\u001b[0;34m)\u001b[0m\u001b[0;34m,\u001b[0m \u001b[0mself\u001b[0m\u001b[0;34m.\u001b[0m\u001b[0mdata\u001b[0m\u001b[0;34m)\u001b[0m\u001b[0;34m\u001b[0m\u001b[0;34m\u001b[0m\u001b[0m\n\u001b[1;32m   1198\u001b[0m \u001b[0;34m\u001b[0m\u001b[0m\n",
      "\u001b[0;32m~/Conda/anaconda3/lib/python3.9/site-packages/pandas/plotting/_matplotlib/core.py\u001b[0m in \u001b[0;36m_is_ts_plot\u001b[0;34m(self)\u001b[0m\n\u001b[1;32m   1188\u001b[0m     \u001b[0;32mdef\u001b[0m \u001b[0m_is_ts_plot\u001b[0m\u001b[0;34m(\u001b[0m\u001b[0mself\u001b[0m\u001b[0;34m)\u001b[0m \u001b[0;34m->\u001b[0m \u001b[0mbool\u001b[0m\u001b[0;34m:\u001b[0m\u001b[0;34m\u001b[0m\u001b[0;34m\u001b[0m\u001b[0m\n\u001b[1;32m   1189\u001b[0m         \u001b[0;31m# this is slightly deceptive\u001b[0m\u001b[0;34m\u001b[0m\u001b[0;34m\u001b[0m\u001b[0m\n\u001b[0;32m-> 1190\u001b[0;31m         \u001b[0;32mreturn\u001b[0m \u001b[0;32mnot\u001b[0m \u001b[0mself\u001b[0m\u001b[0;34m.\u001b[0m\u001b[0mx_compat\u001b[0m \u001b[0;32mand\u001b[0m \u001b[0mself\u001b[0m\u001b[0;34m.\u001b[0m\u001b[0muse_index\u001b[0m \u001b[0;32mand\u001b[0m \u001b[0mself\u001b[0m\u001b[0;34m.\u001b[0m\u001b[0m_use_dynamic_x\u001b[0m\u001b[0;34m(\u001b[0m\u001b[0;34m)\u001b[0m\u001b[0;34m\u001b[0m\u001b[0;34m\u001b[0m\u001b[0m\n\u001b[0m\u001b[1;32m   1191\u001b[0m \u001b[0;34m\u001b[0m\u001b[0m\n\u001b[1;32m   1192\u001b[0m     \u001b[0;32mdef\u001b[0m \u001b[0m_use_dynamic_x\u001b[0m\u001b[0;34m(\u001b[0m\u001b[0mself\u001b[0m\u001b[0;34m)\u001b[0m\u001b[0;34m:\u001b[0m\u001b[0;34m\u001b[0m\u001b[0;34m\u001b[0m\u001b[0m\n",
      "\u001b[0;32m~/Conda/anaconda3/lib/python3.9/site-packages/pandas/plotting/_matplotlib/core.py\u001b[0m in \u001b[0;36m_use_dynamic_x\u001b[0;34m(self)\u001b[0m\n\u001b[1;32m   1191\u001b[0m \u001b[0;34m\u001b[0m\u001b[0m\n\u001b[1;32m   1192\u001b[0m     \u001b[0;32mdef\u001b[0m \u001b[0m_use_dynamic_x\u001b[0m\u001b[0;34m(\u001b[0m\u001b[0mself\u001b[0m\u001b[0;34m)\u001b[0m\u001b[0;34m:\u001b[0m\u001b[0;34m\u001b[0m\u001b[0;34m\u001b[0m\u001b[0m\n\u001b[0;32m-> 1193\u001b[0;31m         \u001b[0;32mreturn\u001b[0m \u001b[0muse_dynamic_x\u001b[0m\u001b[0;34m(\u001b[0m\u001b[0mself\u001b[0m\u001b[0;34m.\u001b[0m\u001b[0m_get_ax\u001b[0m\u001b[0;34m(\u001b[0m\u001b[0;36m0\u001b[0m\u001b[0;34m)\u001b[0m\u001b[0;34m,\u001b[0m \u001b[0mself\u001b[0m\u001b[0;34m.\u001b[0m\u001b[0mdata\u001b[0m\u001b[0;34m)\u001b[0m\u001b[0;34m\u001b[0m\u001b[0;34m\u001b[0m\u001b[0m\n\u001b[0m\u001b[1;32m   1194\u001b[0m \u001b[0;34m\u001b[0m\u001b[0m\n\u001b[1;32m   1195\u001b[0m     \u001b[0;32mdef\u001b[0m \u001b[0m_make_plot\u001b[0m\u001b[0;34m(\u001b[0m\u001b[0mself\u001b[0m\u001b[0;34m)\u001b[0m\u001b[0;34m:\u001b[0m\u001b[0;34m\u001b[0m\u001b[0;34m\u001b[0m\u001b[0m\n",
      "\u001b[0;32m~/Conda/anaconda3/lib/python3.9/site-packages/pandas/plotting/_matplotlib/timeseries.py\u001b[0m in \u001b[0;36muse_dynamic_x\u001b[0;34m(ax, data)\u001b[0m\n\u001b[1;32m    235\u001b[0m         \u001b[0;32mif\u001b[0m \u001b[0mbase\u001b[0m \u001b[0;34m<=\u001b[0m \u001b[0mFreqGroup\u001b[0m\u001b[0;34m.\u001b[0m\u001b[0mFR_DAY\u001b[0m\u001b[0;34m.\u001b[0m\u001b[0mvalue\u001b[0m\u001b[0;34m:\u001b[0m\u001b[0;34m\u001b[0m\u001b[0;34m\u001b[0m\u001b[0m\n\u001b[1;32m    236\u001b[0m             \u001b[0;32mreturn\u001b[0m \u001b[0mx\u001b[0m\u001b[0;34m[\u001b[0m\u001b[0;34m:\u001b[0m\u001b[0;36m1\u001b[0m\u001b[0;34m]\u001b[0m\u001b[0;34m.\u001b[0m\u001b[0mis_normalized\u001b[0m\u001b[0;34m\u001b[0m\u001b[0;34m\u001b[0m\u001b[0m\n\u001b[0;32m--> 237\u001b[0;31m         \u001b[0;32mreturn\u001b[0m \u001b[0mPeriod\u001b[0m\u001b[0;34m(\u001b[0m\u001b[0mx\u001b[0m\u001b[0;34m[\u001b[0m\u001b[0;36m0\u001b[0m\u001b[0;34m]\u001b[0m\u001b[0;34m,\u001b[0m \u001b[0mfreq\u001b[0m\u001b[0;34m)\u001b[0m\u001b[0;34m.\u001b[0m\u001b[0mto_timestamp\u001b[0m\u001b[0;34m(\u001b[0m\u001b[0;34m)\u001b[0m\u001b[0;34m.\u001b[0m\u001b[0mtz_localize\u001b[0m\u001b[0;34m(\u001b[0m\u001b[0mx\u001b[0m\u001b[0;34m.\u001b[0m\u001b[0mtz\u001b[0m\u001b[0;34m)\u001b[0m \u001b[0;34m==\u001b[0m \u001b[0mx\u001b[0m\u001b[0;34m[\u001b[0m\u001b[0;36m0\u001b[0m\u001b[0;34m]\u001b[0m\u001b[0;34m\u001b[0m\u001b[0;34m\u001b[0m\u001b[0m\n\u001b[0m\u001b[1;32m    238\u001b[0m     \u001b[0;32mreturn\u001b[0m \u001b[0;32mTrue\u001b[0m\u001b[0;34m\u001b[0m\u001b[0;34m\u001b[0m\u001b[0m\n\u001b[1;32m    239\u001b[0m \u001b[0;34m\u001b[0m\u001b[0m\n",
      "\u001b[0;32m~/Conda/anaconda3/lib/python3.9/site-packages/pandas/core/indexes/base.py\u001b[0m in \u001b[0;36m__getitem__\u001b[0;34m(self, key)\u001b[0m\n\u001b[1;32m   5051\u001b[0m             \u001b[0;31m# GH#44051 exclude bool, which would return a 2d ndarray\u001b[0m\u001b[0;34m\u001b[0m\u001b[0;34m\u001b[0m\u001b[0m\n\u001b[1;32m   5052\u001b[0m             \u001b[0mkey\u001b[0m \u001b[0;34m=\u001b[0m \u001b[0mcom\u001b[0m\u001b[0;34m.\u001b[0m\u001b[0mcast_scalar_indexer\u001b[0m\u001b[0;34m(\u001b[0m\u001b[0mkey\u001b[0m\u001b[0;34m,\u001b[0m \u001b[0mwarn_float\u001b[0m\u001b[0;34m=\u001b[0m\u001b[0;32mTrue\u001b[0m\u001b[0;34m)\u001b[0m\u001b[0;34m\u001b[0m\u001b[0;34m\u001b[0m\u001b[0m\n\u001b[0;32m-> 5053\u001b[0;31m             \u001b[0;32mreturn\u001b[0m \u001b[0mgetitem\u001b[0m\u001b[0;34m(\u001b[0m\u001b[0mkey\u001b[0m\u001b[0;34m)\u001b[0m\u001b[0;34m\u001b[0m\u001b[0;34m\u001b[0m\u001b[0m\n\u001b[0m\u001b[1;32m   5054\u001b[0m \u001b[0;34m\u001b[0m\u001b[0m\n\u001b[1;32m   5055\u001b[0m         \u001b[0;32mif\u001b[0m \u001b[0misinstance\u001b[0m\u001b[0;34m(\u001b[0m\u001b[0mkey\u001b[0m\u001b[0;34m,\u001b[0m \u001b[0mslice\u001b[0m\u001b[0;34m)\u001b[0m\u001b[0;34m:\u001b[0m\u001b[0;34m\u001b[0m\u001b[0;34m\u001b[0m\u001b[0m\n",
      "\u001b[0;32m~/Conda/anaconda3/lib/python3.9/site-packages/pandas/core/arrays/datetimelike.py\u001b[0m in \u001b[0;36m__getitem__\u001b[0;34m(self, key)\u001b[0m\n\u001b[1;32m    339\u001b[0m         \u001b[0;31m# (see https://github.com/pandas-dev/pandas/pull/44624)\u001b[0m\u001b[0;34m\u001b[0m\u001b[0;34m\u001b[0m\u001b[0m\n\u001b[1;32m    340\u001b[0m         result = cast(\n\u001b[0;32m--> 341\u001b[0;31m             \u001b[0;34m\"Union[DatetimeLikeArrayT, DTScalarOrNaT]\"\u001b[0m\u001b[0;34m,\u001b[0m \u001b[0msuper\u001b[0m\u001b[0;34m(\u001b[0m\u001b[0;34m)\u001b[0m\u001b[0;34m.\u001b[0m\u001b[0m__getitem__\u001b[0m\u001b[0;34m(\u001b[0m\u001b[0mkey\u001b[0m\u001b[0;34m)\u001b[0m\u001b[0;34m\u001b[0m\u001b[0;34m\u001b[0m\u001b[0m\n\u001b[0m\u001b[1;32m    342\u001b[0m         )\n\u001b[1;32m    343\u001b[0m         \u001b[0;32mif\u001b[0m \u001b[0mlib\u001b[0m\u001b[0;34m.\u001b[0m\u001b[0mis_scalar\u001b[0m\u001b[0;34m(\u001b[0m\u001b[0mresult\u001b[0m\u001b[0;34m)\u001b[0m\u001b[0;34m:\u001b[0m\u001b[0;34m\u001b[0m\u001b[0;34m\u001b[0m\u001b[0m\n",
      "\u001b[0;32m~/Conda/anaconda3/lib/python3.9/site-packages/pandas/core/arrays/_mixins.py\u001b[0m in \u001b[0;36m__getitem__\u001b[0;34m(self, key)\u001b[0m\n\u001b[1;32m    270\u001b[0m         \u001b[0;32mif\u001b[0m \u001b[0mlib\u001b[0m\u001b[0;34m.\u001b[0m\u001b[0mis_integer\u001b[0m\u001b[0;34m(\u001b[0m\u001b[0mkey\u001b[0m\u001b[0;34m)\u001b[0m\u001b[0;34m:\u001b[0m\u001b[0;34m\u001b[0m\u001b[0;34m\u001b[0m\u001b[0m\n\u001b[1;32m    271\u001b[0m             \u001b[0;31m# fast-path\u001b[0m\u001b[0;34m\u001b[0m\u001b[0;34m\u001b[0m\u001b[0m\n\u001b[0;32m--> 272\u001b[0;31m             \u001b[0mresult\u001b[0m \u001b[0;34m=\u001b[0m \u001b[0mself\u001b[0m\u001b[0;34m.\u001b[0m\u001b[0m_ndarray\u001b[0m\u001b[0;34m[\u001b[0m\u001b[0mkey\u001b[0m\u001b[0;34m]\u001b[0m\u001b[0;34m\u001b[0m\u001b[0;34m\u001b[0m\u001b[0m\n\u001b[0m\u001b[1;32m    273\u001b[0m             \u001b[0;32mif\u001b[0m \u001b[0mself\u001b[0m\u001b[0;34m.\u001b[0m\u001b[0mndim\u001b[0m \u001b[0;34m==\u001b[0m \u001b[0;36m1\u001b[0m\u001b[0;34m:\u001b[0m\u001b[0;34m\u001b[0m\u001b[0;34m\u001b[0m\u001b[0m\n\u001b[1;32m    274\u001b[0m                 \u001b[0;32mreturn\u001b[0m \u001b[0mself\u001b[0m\u001b[0;34m.\u001b[0m\u001b[0m_box_func\u001b[0m\u001b[0;34m(\u001b[0m\u001b[0mresult\u001b[0m\u001b[0;34m)\u001b[0m\u001b[0;34m\u001b[0m\u001b[0;34m\u001b[0m\u001b[0m\n",
      "\u001b[0;31mIndexError\u001b[0m: index 0 is out of bounds for axis 0 with size 0"
     ]
    },
    {
     "data": {
      "image/png": "[encoded data removed]",
      "text/plain": [
       "<Figure size 640x480 with 1 Axes>"
      ]
     },
     "metadata": {},
     "output_type": "display_data"
    }
   ],
   "source": [
    "output.plot();\n",
    "plt.ylim(-.1, 1.1);"
   ]
  },
  {
   "cell_type": "markdown",
   "metadata": {
    "id": "C-8ff2uCtxuF"
   },
   "source": [
    "## **Appendix A1: Complete Activity Agent Class**"
   ]
  },
  {
   "cell_type": "code",
   "execution_count": 45,
   "metadata": {
    "executionInfo": {
     "elapsed": 128322,
     "status": "ok",
     "timestamp": 1607622525554,
     "user": {
      "displayName": "Leon H",
      "photoUrl": "",
      "userId": "10150017554198726068"
     },
     "user_tz": -60
    },
    "id": "FOFcx9a_t0wq"
   },
   "outputs": [],
   "source": [
    "class Activity_Agent:\n",
    "    def __init__(self, activity_input_df):\n",
    "        self.input = activity_input_df\n",
    "\n",
    "    # train test split\n",
    "        # -------------------------------------------------------------------------------------------\n",
    "    def get_Xtest(self, df, date, time_delta='all', target='activity'):\n",
    "        import pandas as pd\n",
    "        from helper_functions import Helper\n",
    "\n",
    "        helper = Helper()\n",
    "        \n",
    "        if time_delta == 'all':\n",
    "            output = df.loc[pd.to_datetime(date):, df.columns != target]\n",
    "        else:\n",
    "            df = helper.get_timespan(df, date, time_delta)\n",
    "            output = df.loc[:, df.columns != target]\n",
    "        return output\n",
    "\n",
    "    def get_ytest(self, df, date, time_delta='all', target='activity'):\n",
    "        import pandas as pd\n",
    "        from helper_functions import Helper\n",
    "\n",
    "        helper = Helper()\n",
    "        \n",
    "        if time_delta == 'all':\n",
    "            output = df.loc[pd.to_datetime(date):, target]\n",
    "        else:\n",
    "            output = helper.get_timespan(df, date, time_delta)[target]\n",
    "        return output\n",
    "\n",
    "    def get_Xtrain(self, df, date, start='2013-11-01', target='activity'):\n",
    "        import pandas as pd\n",
    "\n",
    "        if type(start) == int:\n",
    "            start = pd.to_datetime(date) + pd.Timedelta(days= start)\n",
    "            start = pd.to_datetime('2013-11-01') if start < pd.to_datetime('2013-11-01') else start\n",
    "        else:\n",
    "            start = pd.to_datetime(start)\n",
    "        end = pd.to_datetime(date) + pd.Timedelta(seconds=-1)\n",
    "        return df.loc[start:end, df.columns != target]\n",
    "\n",
    "    def get_ytrain(self, df, date, start='2022-11-20', target='activity'):\n",
    "        import pandas as pd\n",
    "\n",
    "        if type(start) == int:\n",
    "            start = pd.to_datetime(date) + pd.Timedelta(days= start)\n",
    "            start = pd.to_datetime('2022-11-20') if start < pd.to_datetime('2022-11-20') else start\n",
    "        else:\n",
    "            start = pd.to_datetime(start)\n",
    "        end = pd.to_datetime(date) + pd.Timedelta(seconds=-1)\n",
    "        return df.loc[start:end, target]\n",
    "\n",
    "    def train_test_split(self, df, date, train_start='2013-11-01', test_delta='all', target='activity'):\n",
    "        X_train = self.get_Xtrain(df, date, start=train_start, target=target)\n",
    "        y_train = self.get_ytrain(df, date, start=train_start, target=target)\n",
    "        X_test = self.get_Xtest(df, date, time_delta=test_delta, target=target)\n",
    "        y_test = self.get_ytest(df, date, time_delta=test_delta, target=target)\n",
    "        X_test = X_test.fillna(0)\n",
    "        X_train = X_train.fillna(0)\n",
    "        y_test = y_test.fillna(0)\n",
    "        y_train = y_train.fillna(0)\n",
    "        return X_train, y_train, X_test, y_test\n",
    "\n",
    "\n",
    "    # model training and evaluation\n",
    "    # -------------------------------------------------------------------------------------------\n",
    "    def fit_smLogit(self, X, y):\n",
    "        import statsmodels.api as sm\n",
    "        return sm.Logit(y, X).fit(disp=False)\n",
    "\n",
    "    def fit(self, X, y, model_type):\n",
    "        if model_type == 'logit':\n",
    "            model = self.fit_smLogit(X, y)\n",
    "        else:\n",
    "            raise InputError('Unknown model type.')\n",
    "        return model\n",
    "\n",
    "    def predict(self, model, X):\n",
    "        import statsmodels\n",
    "\n",
    "        if type(model) == statsmodels.discrete.discrete_model.BinaryResultsWrapper:\n",
    "            y_hat = model.predict(X)\n",
    "        else:\n",
    "            raise InputError('Unknown model type.')\n",
    "        return y_hat\n",
    "\n",
    "    def auc(self, y_true, y_hat):\n",
    "        import sklearn.metrics\n",
    "        return sklearn.metrics.roc_auc_score(y_true, y_hat)\n",
    "\n",
    "    def evaluate(self, df, model_type, split_params, predict_start='2022-11-30', predict_end=-1):\n",
    "        import pandas as pd\n",
    "        import numpy as np\n",
    "        from tqdm import tqdm\n",
    "\n",
    "        dates = pd.DataFrame(df.index).set_index(df.index)['last_updated'].apply(lambda date: str(date)[:10]).drop_duplicates()\n",
    "\n",
    "        predict_start = pd.to_datetime(predict_start)\n",
    "        predict_end = pd.to_datetime(dates[predict_end]) if type(predict_end) == int else pd.to_datetime(predict_end)\n",
    "\n",
    "        dates = dates.loc[predict_start:predict_end]\n",
    "        \n",
    "        y_true = []\n",
    "        y_hat_train = {}\n",
    "        y_hat_test = []\n",
    "        auc_train_dict = {}\n",
    "        auc_test = []\n",
    "\n",
    "        for date in tqdm(dates):\n",
    "            # train test split\n",
    "            #train_test_split(self, df, date, train_start='2013-11-01', test_delta='all', target='activity')\n",
    "            X_train, y_train, X_test, y_test = self.train_test_split(df, date, **split_params)\n",
    "\n",
    "            # fit model\n",
    "            model = self.fit(X_train, y_train, model_type)\n",
    "\n",
    "            # predict\n",
    "            y_hat_train.update({date: self.predict(model, X_train)})\n",
    "            y_hat_test += list(self.predict(model, X_test))\n",
    "\n",
    "            # evaluate train data\n",
    "            auc_train_dict.update({date: self.auc(y_train, list(y_hat_train.values())[-1])})\n",
    "            \n",
    "            y_true += list(y_test)\n",
    "        \n",
    "        auc_test = self.auc(y_true, y_hat_test)\n",
    "        auc_train = np.mean(list(auc_train_dict.values()))\n",
    "\n",
    "        return auc_train, auc_test, auc_train_dict\n",
    "\n",
    "\n",
    "    # pipeline function: predicting user activity\n",
    "    # -------------------------------------------------------------------------------------------\n",
    "    def pipeline(self, df, date, model_type, split_params):\n",
    "        # train test split\n",
    "        X_train, y_train, X_test, y_test = self.train_test_split(\n",
    "            df, date, **split_params\n",
    "        )\n",
    "\n",
    "        # fit model\n",
    "        model = self.fit(X_train, y_train, model_type)\n",
    "\n",
    "        # predict\n",
    "        return self.predict(model, X_test)"
   ]
  }
 ],
 "metadata": {
  "colab": {
   "collapsed_sections": [],
   "name": "03a_Activity-Agent.ipynb",
   "provenance": [],
   "toc_visible": true
  },
  "kernelspec": {
   "display_name": "Python 3.9.13 ('base')",
   "language": "python",
   "name": "python3"
  },
  "language_info": {
   "codemirror_mode": {
    "name": "ipython",
    "version": 3
   },
   "file_extension": ".py",
   "mimetype": "text/x-python",
   "name": "python",
   "nbconvert_exporter": "python",
   "pygments_lexer": "ipython3",
   "version": "3.9.13"
  },
  "vscode": {
   "interpreter": {
    "hash": "fd19f899bcdfa6c353e9525ef244de6eb28a54f3ba596d530144acef4e3bc685"
   }
  }
 },
 "nbformat": 4,
 "nbformat_minor": 4
}
