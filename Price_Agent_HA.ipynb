{
 "cells": [
  {
   "cell_type": "code",
   "execution_count": 1,
   "metadata": {},
   "outputs": [],
   "source": [
    "from entsoe import EntsoePandasClient\n",
    "import pandas as pd\n",
    "import datetime"
   ]
  },
  {
   "cell_type": "code",
   "execution_count": 12,
   "metadata": {},
   "outputs": [],
   "source": [
    "class Price_Agent(): \n",
    "\n",
    "    def get_data(self):\n",
    "        import pandas as pd\n",
    "        import datetime\n",
    "        from entsoe import EntsoePandasClient\n",
    "        start = (pd.Timestamp.today(tz='Europe/Brussels') - datetime.timedelta(days= 1)).normalize()\n",
    "        end = (start + datetime.timedelta(days = 3)).normalize()\n",
    "        country_code = 'DE_LU'\n",
    "        client = EntsoePandasClient(api_key='6f67ccf4-edb3-4100-a850-969c73688627')\n",
    "        data = client.query_day_ahead_prices(country_code = country_code, start = start, end = end)\n",
    "        return data\n"
   ]
  },
  {
   "cell_type": "code",
   "execution_count": 16,
   "metadata": {},
   "outputs": [],
   "source": [
    "PA = Price_Agent()\n",
    "data = PA.get_data()"
   ]
  },
  {
   "cell_type": "code",
   "execution_count": 17,
   "metadata": {},
   "outputs": [
    {
     "data": {
      "text/plain": [
       "2022-12-20 00:00:00+01:00    108.19\n",
       "2022-12-20 01:00:00+01:00     92.41\n",
       "2022-12-20 02:00:00+01:00     92.45\n",
       "2022-12-20 03:00:00+01:00     76.35\n",
       "2022-12-20 04:00:00+01:00     81.94\n",
       "                              ...  \n",
       "2022-12-22 19:00:00+01:00    221.82\n",
       "2022-12-22 20:00:00+01:00    201.07\n",
       "2022-12-22 21:00:00+01:00    183.71\n",
       "2022-12-22 22:00:00+01:00    170.96\n",
       "2022-12-22 23:00:00+01:00    161.67\n",
       "Freq: 60T, Length: 72, dtype: float64"
      ]
     },
     "execution_count": 17,
     "metadata": {},
     "output_type": "execute_result"
    }
   ],
   "source": [
    "data"
   ]
  }
 ],
 "metadata": {
  "kernelspec": {
   "display_name": "Python 3.9.13 ('base')",
   "language": "python",
   "name": "python3"
  },
  "language_info": {
   "codemirror_mode": {
    "name": "ipython",
    "version": 3
   },
   "file_extension": ".py",
   "mimetype": "text/x-python",
   "name": "python",
   "nbconvert_exporter": "python",
   "pygments_lexer": "ipython3",
   "version": "3.9.13"
  },
  "orig_nbformat": 4,
  "vscode": {
   "interpreter": {
    "hash": "fd19f899bcdfa6c353e9525ef244de6eb28a54f3ba596d530144acef4e3bc685"
   }
  }
 },
 "nbformat": 4,
 "nbformat_minor": 2
}
