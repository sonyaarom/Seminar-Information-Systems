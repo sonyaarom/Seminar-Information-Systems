{
 "cells": [
  {
   "cell_type": "code",
   "execution_count": null,
   "id": "568dff09",
   "metadata": {},
   "outputs": [],
   "source": [
    "#pip install entsoe-py"
   ]
  },
  {
   "cell_type": "markdown",
   "id": "36524f14",
   "metadata": {},
   "source": [
    "Prices are in MW (Mega Watt), which equals to 1000 kW or 1.000.000 W. Therefore the generated table gets divided by 1.000.000 to get the price for one W."
   ]
  },
  {
   "cell_type": "markdown",
   "id": "50332dcf",
   "metadata": {},
   "source": [
    "# Testing the individual steps"
   ]
  },
  {
   "cell_type": "code",
   "execution_count": 333,
   "id": "5005716d",
   "metadata": {},
   "outputs": [],
   "source": [
    "date = \"2023-03-09\"\n",
    "timezone = 'Europe/Brussels'"
   ]
  },
  {
   "cell_type": "code",
   "execution_count": 334,
   "id": "f40607c4",
   "metadata": {},
   "outputs": [
    {
     "data": {
      "text/plain": [
       "2023-02-18 00:00:00+01:00     28.14\n",
       "2023-02-18 01:00:00+01:00     36.44\n",
       "2023-02-18 02:00:00+01:00     35.82\n",
       "2023-02-18 03:00:00+01:00     44.41\n",
       "2023-02-18 04:00:00+01:00     62.98\n",
       "                              ...  \n",
       "2023-03-07 19:00:00+01:00    143.91\n",
       "2023-03-07 20:00:00+01:00    152.14\n",
       "2023-03-07 21:00:00+01:00    136.43\n",
       "2023-03-07 22:00:00+01:00    122.21\n",
       "2023-03-07 23:00:00+01:00    115.49\n",
       "Freq: 60T, Length: 432, dtype: float64"
      ]
     },
     "execution_count": 334,
     "metadata": {},
     "output_type": "execute_result"
    }
   ],
   "source": [
    "import pandas as pd\n",
    "from datetime import datetime, timedelta\n",
    "from entsoe import EntsoePandasClient\n",
    "import pytz\n",
    "date = pd.to_datetime(date,format= '%Y-%m-%d')\n",
    "# looking for tommorow prices\n",
    "date = date + timedelta(days = 1)\n",
    "current_timezone = pytz.timezone(timezone)\n",
    "date = current_timezone.localize(date)\n",
    "start = (date - timedelta(days= 20)).normalize()\n",
    "end = (date + timedelta(days = 20)).normalize()\n",
    "country_code = 'DE_LU'\n",
    "client = EntsoePandasClient(api_key='6f67ccf4-edb3-4100-a850-969c73688627')\n",
    "df = client.query_day_ahead_prices(country_code = country_code, start = start, end = end)\n",
    "df"
   ]
  },
  {
   "cell_type": "code",
   "execution_count": 335,
   "id": "2964b975",
   "metadata": {},
   "outputs": [
    {
     "name": "stderr",
     "output_type": "stream",
     "text": [
      "C:\\Users\\chris\\AppData\\Local\\Temp\\ipykernel_804\\313332653.py:39: FutureWarning: Setitem-like behavior with mismatched timezones is deprecated and will change in a future version. Instead of raising (or for Index, Series, and DataFrame methods, coercing to object dtype), the value being set (or passed as a fill_value, or inserted) will be cast to the existing DatetimeArray/DatetimeIndex/Series/DataFrame column's timezone. To retain the old behavior, explicitly cast to object dtype before the operation.\n",
      "  df.loc[dt] = value\n"
     ]
    }
   ],
   "source": [
    "# handling problem with missing price data for more than 24 hours ahead\n",
    "indicator = date.replace(hour=0, minute=0, second=0, microsecond=0)\n",
    "if(indicator < max(df.index).replace(hour=0, minute=0, second=0, microsecond=0)):\n",
    "    range_hours = pd.date_range(start=date, freq=\"H\", periods=48)\n",
    "    df = df.loc[range_hours]\n",
    "if(indicator.strftime('%Y-%m-%d') == max(df.index).strftime('%Y-%m-%d')):\n",
    "    date_48 = date + timedelta(days=1)\n",
    "    for hour in range(24):\n",
    "        dt = date_48.replace(hour=hour, minute=0, second=0, microsecond=0)\n",
    "        # Get the price from the day before at this hour\n",
    "        day_before = dt - timedelta(days=1)\n",
    "        value = df.loc[day_before]\n",
    "        # Append the new row to the series\n",
    "        df.loc[dt] = value\n",
    "    range_hours = pd.date_range(start=date, freq=\"H\", periods=48)\n",
    "    df = df.loc[range_hours]\n",
    "if(indicator > max(df.index).replace(hour=0, minute=0, second=0, microsecond=0)):\n",
    "    date_now = datetime.now().replace(hour=0, minute=0, second=0, microsecond=0)\n",
    "    date_48 = date_now + timedelta(days=1)\n",
    "    for hour in range(24):\n",
    "        dt = date_48.replace(hour=hour, minute=0, second=0, microsecond=0)\n",
    "        dt = current_timezone.localize(dt)\n",
    "        # Get the price from the day before at this hour\n",
    "        day_before = date_now.replace(hour=hour, minute=0, second=0, microsecond=0)\n",
    "        day_before = current_timezone.localize(day_before)\n",
    "        value = df.loc[day_before]\n",
    "        # Append the new row to the series\n",
    "        df.loc[dt] = value\n",
    "    date_now = datetime.now().replace(hour=0, minute=0, second=0, microsecond=0)\n",
    "    date_48 = date_now + timedelta(days=2)\n",
    "    for hour in range(24):\n",
    "        dt = date_48.replace(hour=hour, minute=0, second=0, microsecond=0)\n",
    "        dt = current_timezone.localize(dt)\n",
    "        # Get the price from the day before at this hour\n",
    "        day_before = date_now.replace(hour=hour, minute=0, second=0, microsecond=0)\n",
    "        day_before = current_timezone.localize(day_before)\n",
    "        value = df.loc[day_before]\n",
    "        # Append the new row to the series\n",
    "        df.loc[dt] = value\n",
    "    date_tomorrow = datetime.now().replace(hour=0, minute=0, second=0, microsecond=0) + timedelta(days=1)\n",
    "    date_tomorrow = current_timezone.localize(date_tomorrow)\n",
    "    range_hours = pd.date_range(start=date_tomorrow, freq=\"H\", periods=48)\n",
    "    df = df.loc[range_hours]"
   ]
  },
  {
   "cell_type": "code",
   "execution_count": 336,
   "id": "354b85c3",
   "metadata": {},
   "outputs": [
    {
     "data": {
      "text/plain": [
       "2023-03-07 00:00:00+01:00    136.10\n",
       "2023-03-07 01:00:00+01:00    125.09\n",
       "2023-03-07 02:00:00+01:00    123.31\n",
       "2023-03-07 03:00:00+01:00    123.12\n",
       "2023-03-07 04:00:00+01:00    123.75\n",
       "2023-03-07 05:00:00+01:00    137.44\n",
       "2023-03-07 06:00:00+01:00    159.80\n",
       "2023-03-07 07:00:00+01:00    185.00\n",
       "2023-03-07 08:00:00+01:00    217.09\n",
       "2023-03-07 09:00:00+01:00    188.35\n",
       "2023-03-07 10:00:00+01:00    170.26\n",
       "2023-03-07 11:00:00+01:00    160.84\n",
       "2023-03-07 12:00:00+01:00    149.92\n",
       "2023-03-07 13:00:00+01:00    144.95\n",
       "2023-03-07 14:00:00+01:00    144.30\n",
       "2023-03-07 15:00:00+01:00    145.78\n",
       "2023-03-07 16:00:00+01:00    152.00\n",
       "2023-03-07 17:00:00+01:00    162.01\n",
       "2023-03-07 18:00:00+01:00    184.86\n",
       "2023-03-07 19:00:00+01:00    174.61\n",
       "2023-03-07 20:00:00+01:00    147.95\n",
       "2023-03-07 21:00:00+01:00    130.39\n",
       "2023-03-07 22:00:00+01:00    120.65\n",
       "2023-03-07 23:00:00+01:00    108.58\n",
       "2023-03-08 00:00:00+01:00    136.10\n",
       "2023-03-08 01:00:00+01:00    125.09\n",
       "2023-03-08 02:00:00+01:00    123.31\n",
       "2023-03-08 03:00:00+01:00    123.12\n",
       "2023-03-08 04:00:00+01:00    123.75\n",
       "2023-03-08 05:00:00+01:00    137.44\n",
       "2023-03-08 06:00:00+01:00    159.80\n",
       "2023-03-08 07:00:00+01:00    185.00\n",
       "2023-03-08 08:00:00+01:00    217.09\n",
       "2023-03-08 09:00:00+01:00    188.35\n",
       "2023-03-08 10:00:00+01:00    170.26\n",
       "2023-03-08 11:00:00+01:00    160.84\n",
       "2023-03-08 12:00:00+01:00    149.92\n",
       "2023-03-08 13:00:00+01:00    144.95\n",
       "2023-03-08 14:00:00+01:00    144.30\n",
       "2023-03-08 15:00:00+01:00    145.78\n",
       "2023-03-08 16:00:00+01:00    152.00\n",
       "2023-03-08 17:00:00+01:00    162.01\n",
       "2023-03-08 18:00:00+01:00    184.86\n",
       "2023-03-08 19:00:00+01:00    174.61\n",
       "2023-03-08 20:00:00+01:00    147.95\n",
       "2023-03-08 21:00:00+01:00    130.39\n",
       "2023-03-08 22:00:00+01:00    120.65\n",
       "2023-03-08 23:00:00+01:00    108.58\n",
       "dtype: float64"
      ]
     },
     "execution_count": 336,
     "metadata": {},
     "output_type": "execute_result"
    }
   ],
   "source": [
    "df"
   ]
  },
  {
   "cell_type": "markdown",
   "id": "3c08aa88",
   "metadata": {},
   "source": [
    "# Whole price agent"
   ]
  },
  {
   "cell_type": "code",
   "execution_count": 305,
   "id": "e05ec91f",
   "metadata": {},
   "outputs": [],
   "source": [
    "###################################################################################################\n",
    "# price agent #####################################################################################\n",
    "###################################################################################################\n",
    "class Price_Agent(): \n",
    "\n",
    "    def return_day_ahead_prices(self, date, timezone = 'Europe/Brussels'):\n",
    "        import pandas as pd\n",
    "        from datetime import datetime, timedelta\n",
    "        from entsoe import EntsoePandasClient\n",
    "        import pytz\n",
    "        date = pd.to_datetime(date,format= '%Y-%m-%d')\n",
    "        # looking for tommorow prices\n",
    "        date = date + timedelta(days = 1)\n",
    "        current_timezone = pytz.timezone(timezone)\n",
    "        date = current_timezone.localize(date)\n",
    "        start = (date - timedelta(days= 20)).normalize()\n",
    "        end = (date + timedelta(days = 20)).normalize()\n",
    "        country_code = 'DE_LU'\n",
    "        client = EntsoePandasClient(api_key='6f67ccf4-edb3-4100-a850-969c73688627')\n",
    "        df = client.query_day_ahead_prices(country_code = country_code, start = start, end = end)\n",
    "        \n",
    "        # handling problem with missing price data for more than 24 hours ahead\n",
    "        indicator = date.replace(hour=0, minute=0, second=0, microsecond=0)\n",
    "        if(indicator < max(df.index).replace(hour=0, minute=0, second=0, microsecond=0)):\n",
    "            range_hours = pd.date_range(start=date, freq=\"H\", periods=48)\n",
    "            df = df.loc[range_hours]\n",
    "        if(indicator.strftime('%Y-%m-%d') == max(df.index).strftime('%Y-%m-%d')):\n",
    "            date_48 = date + timedelta(days=1)\n",
    "            for hour in range(24):\n",
    "                dt = date_48.replace(hour=hour, minute=0, second=0, microsecond=0)\n",
    "                # Get the price from the day before at this hour\n",
    "                day_before = dt - timedelta(days=1)\n",
    "                value = df.loc[day_before]\n",
    "                # Append the new row to the series\n",
    "                df.loc[dt] = value\n",
    "            range_hours = pd.date_range(start=date, freq=\"H\", periods=48)\n",
    "            df = df.loc[range_hours]\n",
    "        if(indicator > max(df.index).replace(hour=0, minute=0, second=0, microsecond=0)):\n",
    "            date_now = datetime.now().replace(hour=0, minute=0, second=0, microsecond=0)\n",
    "            date_48 = date_now + timedelta(days=1)\n",
    "            for hour in range(24):\n",
    "                dt = date_48.replace(hour=hour, minute=0, second=0, microsecond=0)\n",
    "                dt = current_timezone.localize(dt)\n",
    "                # Get the price from the day before at this hour\n",
    "                day_before = date_now.replace(hour=hour, minute=0, second=0, microsecond=0)\n",
    "                day_before = current_timezone.localize(day_before)\n",
    "                value = df.loc[day_before]\n",
    "                # Append the new row to the series\n",
    "                df.loc[dt] = value\n",
    "            date_now = datetime.now().replace(hour=0, minute=0, second=0, microsecond=0)\n",
    "            date_48 = date_now + timedelta(days=2)\n",
    "            for hour in range(24):\n",
    "                dt = date_48.replace(hour=hour, minute=0, second=0, microsecond=0)\n",
    "                dt = current_timezone.localize(dt)\n",
    "                # Get the price from the day before at this hour\n",
    "                day_before = date_now.replace(hour=hour, minute=0, second=0, microsecond=0)\n",
    "                day_before = current_timezone.localize(day_before)\n",
    "                value = df.loc[day_before]\n",
    "                # Append the new row to the series\n",
    "                df.loc[dt] = value\n",
    "            date_tomorrow = datetime.now().replace(hour=0, minute=0, second=0, microsecond=0) + timedelta(days=1)\n",
    "            date_tomorrow = current_timezone.localize(date_tomorrow)\n",
    "            range_hours = pd.date_range(start=date_tomorrow, freq=\"H\", periods=48)\n",
    "            df = df.loc[range_hours]\n",
    "        return df"
   ]
  },
  {
   "cell_type": "markdown",
   "id": "aca3be51",
   "metadata": {},
   "source": [
    "# Testing the Agent"
   ]
  },
  {
   "cell_type": "code",
   "execution_count": 306,
   "id": "4cf73c98",
   "metadata": {},
   "outputs": [],
   "source": [
    "date = \"2023-03-04\""
   ]
  },
  {
   "cell_type": "code",
   "execution_count": 307,
   "id": "5c645699",
   "metadata": {},
   "outputs": [],
   "source": [
    "PA = Price_Agent()\n",
    "price_df = PA.return_day_ahead_prices(date)"
   ]
  },
  {
   "cell_type": "code",
   "execution_count": 308,
   "id": "c69bd977",
   "metadata": {},
   "outputs": [
    {
     "data": {
      "text/plain": [
       "2023-03-05 00:00:00+01:00    107.53\n",
       "2023-03-05 01:00:00+01:00    106.25\n",
       "2023-03-05 02:00:00+01:00    105.55\n",
       "2023-03-05 03:00:00+01:00    106.84\n",
       "2023-03-05 04:00:00+01:00    104.99\n",
       "2023-03-05 05:00:00+01:00    105.81\n",
       "2023-03-05 06:00:00+01:00    105.94\n",
       "2023-03-05 07:00:00+01:00    108.39\n",
       "2023-03-05 08:00:00+01:00    107.72\n",
       "2023-03-05 09:00:00+01:00    107.73\n",
       "2023-03-05 10:00:00+01:00    105.18\n",
       "2023-03-05 11:00:00+01:00    107.55\n",
       "2023-03-05 12:00:00+01:00    110.25\n",
       "2023-03-05 13:00:00+01:00    107.73\n",
       "2023-03-05 14:00:00+01:00    110.22\n",
       "2023-03-05 15:00:00+01:00    115.14\n",
       "2023-03-05 16:00:00+01:00    129.37\n",
       "2023-03-05 17:00:00+01:00    145.14\n",
       "2023-03-05 18:00:00+01:00    166.67\n",
       "2023-03-05 19:00:00+01:00    172.37\n",
       "2023-03-05 20:00:00+01:00    160.23\n",
       "2023-03-05 21:00:00+01:00    152.49\n",
       "2023-03-05 22:00:00+01:00    143.66\n",
       "2023-03-05 23:00:00+01:00    130.13\n",
       "2023-03-06 00:00:00+01:00    136.10\n",
       "2023-03-06 01:00:00+01:00    125.09\n",
       "2023-03-06 02:00:00+01:00    123.31\n",
       "2023-03-06 03:00:00+01:00    123.12\n",
       "2023-03-06 04:00:00+01:00    123.75\n",
       "2023-03-06 05:00:00+01:00    137.44\n",
       "2023-03-06 06:00:00+01:00    159.80\n",
       "2023-03-06 07:00:00+01:00    185.00\n",
       "2023-03-06 08:00:00+01:00    217.09\n",
       "2023-03-06 09:00:00+01:00    188.35\n",
       "2023-03-06 10:00:00+01:00    170.26\n",
       "2023-03-06 11:00:00+01:00    160.84\n",
       "2023-03-06 12:00:00+01:00    149.92\n",
       "2023-03-06 13:00:00+01:00    144.95\n",
       "2023-03-06 14:00:00+01:00    144.30\n",
       "2023-03-06 15:00:00+01:00    145.78\n",
       "2023-03-06 16:00:00+01:00    152.00\n",
       "2023-03-06 17:00:00+01:00    162.01\n",
       "2023-03-06 18:00:00+01:00    184.86\n",
       "2023-03-06 19:00:00+01:00    174.61\n",
       "2023-03-06 20:00:00+01:00    147.95\n",
       "2023-03-06 21:00:00+01:00    130.39\n",
       "2023-03-06 22:00:00+01:00    120.65\n",
       "2023-03-06 23:00:00+01:00    108.58\n",
       "Freq: 60T, dtype: float64"
      ]
     },
     "execution_count": 308,
     "metadata": {},
     "output_type": "execute_result"
    }
   ],
   "source": [
    "price_df"
   ]
  },
  {
   "cell_type": "code",
   "execution_count": null,
   "id": "da9b80b7",
   "metadata": {},
   "outputs": [],
   "source": []
  }
 ],
 "metadata": {
  "kernelspec": {
   "display_name": "Python 3 (ipykernel)",
   "language": "python",
   "name": "python3"
  },
  "language_info": {
   "codemirror_mode": {
    "name": "ipython",
    "version": 3
   },
   "file_extension": ".py",
   "mimetype": "text/x-python",
   "name": "python",
   "nbconvert_exporter": "python",
   "pygments_lexer": "ipython3",
   "version": "3.9.12"
  },
  "toc": {
   "base_numbering": 1,
   "nav_menu": {},
   "number_sections": true,
   "sideBar": true,
   "skip_h1_title": false,
   "title_cell": "Table of Contents",
   "title_sidebar": "Contents",
   "toc_cell": false,
   "toc_position": {},
   "toc_section_display": true,
   "toc_window_display": true
  }
 },
 "nbformat": 4,
 "nbformat_minor": 5
}
