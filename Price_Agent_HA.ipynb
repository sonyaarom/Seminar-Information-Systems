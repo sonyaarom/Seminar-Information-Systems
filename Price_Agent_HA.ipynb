{
 "cells": [
  {
   "cell_type": "code",
   "execution_count": null,
   "id": "568dff09",
   "metadata": {},
   "outputs": [],
   "source": [
    "#pip install entsoe-py"
   ]
  },
  {
   "cell_type": "markdown",
   "id": "36524f14",
   "metadata": {},
   "source": [
    "Prices are in MW (Mega Watt), which equals to 1000 kW or 1.000.000 W. Therefore the generated table gets divided by 1.000.000 to get the price for one W."
   ]
  },
  {
   "cell_type": "markdown",
   "id": "fe076d8a",
   "metadata": {},
   "source": [
    "# Testing the individual steps"
   ]
  },
  {
   "cell_type": "code",
   "execution_count": 333,
   "id": "5005716d",
   "metadata": {},
   "outputs": [],
   "source": [
    "date = \"2023-03-09\"\n",
    "timezone = 'Europe/Brussels'"
   ]
  },
  {
   "cell_type": "code",
   "execution_count": 334,
   "id": "f40607c4",
   "metadata": {},
   "outputs": [
    {
     "data": {
      "text/plain": [
       "2023-02-18 00:00:00+01:00     28.14\n",
       "2023-02-18 01:00:00+01:00     36.44\n",
       "2023-02-18 02:00:00+01:00     35.82\n",
       "2023-02-18 03:00:00+01:00     44.41\n",
       "2023-02-18 04:00:00+01:00     62.98\n",
       "                              ...  \n",
       "2023-03-07 19:00:00+01:00    143.91\n",
       "2023-03-07 20:00:00+01:00    152.14\n",
       "2023-03-07 21:00:00+01:00    136.43\n",
       "2023-03-07 22:00:00+01:00    122.21\n",
       "2023-03-07 23:00:00+01:00    115.49\n",
       "Freq: 60T, Length: 432, dtype: float64"
      ]
     },
     "execution_count": 334,
     "metadata": {},
     "output_type": "execute_result"
    }
   ],
   "source": [
    "import pandas as pd\n",
    "from datetime import datetime, timedelta\n",
    "from entsoe import EntsoePandasClient\n",
    "import pytz\n",
    "date = pd.to_datetime(date,format= '%Y-%m-%d')\n",
    "# looking for tommorow prices\n",
    "date = date + timedelta(days = 1)\n",
    "current_timezone = pytz.timezone(timezone)\n",
    "date = current_timezone.localize(date)\n",
    "start = (date - timedelta(days= 20)).normalize()\n",
    "end = (date + timedelta(days = 20)).normalize()\n",
    "country_code = 'DE_LU'\n",
    "client = EntsoePandasClient(api_key='6f67ccf4-edb3-4100-a850-969c73688627')\n",
    "df = client.query_day_ahead_prices(country_code = country_code, start = start, end = end)\n",
    "df"
   ]
  },
  {
   "cell_type": "code",
   "execution_count": 335,
   "id": "2964b975",
   "metadata": {},
   "outputs": [
    {
     "name": "stderr",
     "output_type": "stream",
     "text": [
      "C:\\Users\\chris\\AppData\\Local\\Temp\\ipykernel_804\\313332653.py:39: FutureWarning: Setitem-like behavior with mismatched timezones is deprecated and will change in a future version. Instead of raising (or for Index, Series, and DataFrame methods, coercing to object dtype), the value being set (or passed as a fill_value, or inserted) will be cast to the existing DatetimeArray/DatetimeIndex/Series/DataFrame column's timezone. To retain the old behavior, explicitly cast to object dtype before the operation.\n",
      "  df.loc[dt] = value\n"
     ]
    }
   ],
   "source": [
    "# handling problem with missing price data for more than 24 hours ahead\n",
    "indicator = date.replace(hour=0, minute=0, second=0, microsecond=0)\n",
    "if(indicator < max(df.index).replace(hour=0, minute=0, second=0, microsecond=0)):\n",
    "    range_hours = pd.date_range(start=date, freq=\"H\", periods=48)\n",
    "    df = df.loc[range_hours]\n",
    "if(indicator.strftime('%Y-%m-%d') == max(df.index).strftime('%Y-%m-%d')):\n",
    "    date_48 = date + timedelta(days=1)\n",
    "    for hour in range(24):\n",
    "        dt = date_48.replace(hour=hour, minute=0, second=0, microsecond=0)\n",
    "        # Get the price from the day before at this hour\n",
    "        day_before = dt - timedelta(days=1)\n",
    "        value = df.loc[day_before]\n",
    "        # Append the new row to the series\n",
    "        df.loc[dt] = value\n",
    "    range_hours = pd.date_range(start=date, freq=\"H\", periods=48)\n",
    "    df = df.loc[range_hours]\n",
    "if(indicator > max(df.index).replace(hour=0, minute=0, second=0, microsecond=0)):\n",
    "    date_now = datetime.now().replace(hour=0, minute=0, second=0, microsecond=0)\n",
    "    date_48 = date_now + timedelta(days=1)\n",
    "    for hour in range(24):\n",
    "        dt = date_48.replace(hour=hour, minute=0, second=0, microsecond=0)\n",
    "        dt = current_timezone.localize(dt)\n",
    "        # Get the price from the day before at this hour\n",
    "        day_before = date_now.replace(hour=hour, minute=0, second=0, microsecond=0)\n",
    "        day_before = current_timezone.localize(day_before)\n",
    "        value = df.loc[day_before]\n",
    "        # Append the new row to the series\n",
    "        df.loc[dt] = value\n",
    "    date_now = datetime.now().replace(hour=0, minute=0, second=0, microsecond=0)\n",
    "    date_48 = date_now + timedelta(days=2)\n",
    "    for hour in range(24):\n",
    "        dt = date_48.replace(hour=hour, minute=0, second=0, microsecond=0)\n",
    "        dt = current_timezone.localize(dt)\n",
    "        # Get the price from the day before at this hour\n",
    "        day_before = date_now.replace(hour=hour, minute=0, second=0, microsecond=0)\n",
    "        day_before = current_timezone.localize(day_before)\n",
    "        value = df.loc[day_before]\n",
    "        # Append the new row to the series\n",
    "        df.loc[dt] = value\n",
    "    date_tomorrow = datetime.now().replace(hour=0, minute=0, second=0, microsecond=0) + timedelta(days=1)\n",
    "    date_tomorrow = current_timezone.localize(date_tomorrow)\n",
    "    range_hours = pd.date_range(start=date_tomorrow, freq=\"H\", periods=48)\n",
    "    df = df.loc[range_hours]"
   ]
  },
  {
   "cell_type": "code",
   "execution_count": 336,
   "id": "354b85c3",
   "metadata": {},
   "outputs": [
    {
     "data": {
      "text/plain": [
       "2023-03-07 00:00:00+01:00    136.10\n",
       "2023-03-07 01:00:00+01:00    125.09\n",
       "2023-03-07 02:00:00+01:00    123.31\n",
       "2023-03-07 03:00:00+01:00    123.12\n",
       "2023-03-07 04:00:00+01:00    123.75\n",
       "2023-03-07 05:00:00+01:00    137.44\n",
       "2023-03-07 06:00:00+01:00    159.80\n",
       "2023-03-07 07:00:00+01:00    185.00\n",
       "2023-03-07 08:00:00+01:00    217.09\n",
       "2023-03-07 09:00:00+01:00    188.35\n",
       "2023-03-07 10:00:00+01:00    170.26\n",
       "2023-03-07 11:00:00+01:00    160.84\n",
       "2023-03-07 12:00:00+01:00    149.92\n",
       "2023-03-07 13:00:00+01:00    144.95\n",
       "2023-03-07 14:00:00+01:00    144.30\n",
       "2023-03-07 15:00:00+01:00    145.78\n",
       "2023-03-07 16:00:00+01:00    152.00\n",
       "2023-03-07 17:00:00+01:00    162.01\n",
       "2023-03-07 18:00:00+01:00    184.86\n",
       "2023-03-07 19:00:00+01:00    174.61\n",
       "2023-03-07 20:00:00+01:00    147.95\n",
       "2023-03-07 21:00:00+01:00    130.39\n",
       "2023-03-07 22:00:00+01:00    120.65\n",
       "2023-03-07 23:00:00+01:00    108.58\n",
       "2023-03-08 00:00:00+01:00    136.10\n",
       "2023-03-08 01:00:00+01:00    125.09\n",
       "2023-03-08 02:00:00+01:00    123.31\n",
       "2023-03-08 03:00:00+01:00    123.12\n",
       "2023-03-08 04:00:00+01:00    123.75\n",
       "2023-03-08 05:00:00+01:00    137.44\n",
       "2023-03-08 06:00:00+01:00    159.80\n",
       "2023-03-08 07:00:00+01:00    185.00\n",
       "2023-03-08 08:00:00+01:00    217.09\n",
       "2023-03-08 09:00:00+01:00    188.35\n",
       "2023-03-08 10:00:00+01:00    170.26\n",
       "2023-03-08 11:00:00+01:00    160.84\n",
       "2023-03-08 12:00:00+01:00    149.92\n",
       "2023-03-08 13:00:00+01:00    144.95\n",
       "2023-03-08 14:00:00+01:00    144.30\n",
       "2023-03-08 15:00:00+01:00    145.78\n",
       "2023-03-08 16:00:00+01:00    152.00\n",
       "2023-03-08 17:00:00+01:00    162.01\n",
       "2023-03-08 18:00:00+01:00    184.86\n",
       "2023-03-08 19:00:00+01:00    174.61\n",
       "2023-03-08 20:00:00+01:00    147.95\n",
       "2023-03-08 21:00:00+01:00    130.39\n",
       "2023-03-08 22:00:00+01:00    120.65\n",
       "2023-03-08 23:00:00+01:00    108.58\n",
       "dtype: float64"
      ]
     },
     "execution_count": 336,
     "metadata": {},
     "output_type": "execute_result"
    }
   ],
   "source": [
    "df"
   ]
  },
  {
   "cell_type": "markdown",
   "id": "b51c3bee",
   "metadata": {},
   "source": [
    "# Whole price agent"
   ]
  },
  {
   "cell_type": "code",
   "execution_count": 9,
   "id": "e05ec91f",
   "metadata": {},
   "outputs": [],
   "source": [
    "###################################################################################################\n",
    "# price agent #####################################################################################\n",
    "###################################################################################################\n",
    "class Price_Agent(): \n",
    "\n",
    "    def return_day_ahead_prices(self, date, timezone = 'Europe/Brussels', country_code_entoe = 'DE_LU', api_entsoe = '6f67ccf4-edb3-4100-a850-969c73688627'):\n",
    "        import pandas as pd\n",
    "        from datetime import datetime, timedelta\n",
    "        from entsoe import EntsoePandasClient\n",
    "        import pytz\n",
    "        date = pd.to_datetime(date,format= '%Y-%m-%d')\n",
    "        # looking for tommorow prices\n",
    "        date = date + timedelta(days = 1)\n",
    "        current_timezone = pytz.timezone(timezone)\n",
    "        date = current_timezone.localize(date)\n",
    "        start = (date - timedelta(days= 20)).normalize()\n",
    "        end = (date + timedelta(days = 20)).normalize()\n",
    "        country_code = country_code_entoe\n",
    "        client = EntsoePandasClient(api_key=api_entsoe)\n",
    "        df = client.query_day_ahead_prices(country_code = country_code, start = start, end = end)\n",
    "        \n",
    "        # handling problem with missing price data for more than 24 hours ahead\n",
    "        indicator = date.replace(hour=0, minute=0, second=0, microsecond=0)\n",
    "        if(indicator < max(df.index).replace(hour=0, minute=0, second=0, microsecond=0)):\n",
    "            range_hours = pd.date_range(start=date, freq=\"H\", periods=48)\n",
    "            df = df.loc[range_hours]\n",
    "        if(indicator.strftime('%Y-%m-%d') == max(df.index).strftime('%Y-%m-%d')):\n",
    "            date_48 = date + timedelta(days=1)\n",
    "            for hour in range(24):\n",
    "                dt = date_48.replace(hour=hour, minute=0, second=0, microsecond=0)\n",
    "                # Get the price from the day before at this hour\n",
    "                day_before = dt - timedelta(days=1)\n",
    "                value = df.loc[day_before]\n",
    "                # Append the new row to the series\n",
    "                df.loc[dt] = value\n",
    "            range_hours = pd.date_range(start=date, freq=\"H\", periods=48)\n",
    "            df = df.loc[range_hours]\n",
    "        if(indicator > max(df.index).replace(hour=0, minute=0, second=0, microsecond=0)):\n",
    "            date_now = datetime.now().replace(hour=0, minute=0, second=0, microsecond=0)\n",
    "            date_48 = date_now + timedelta(days=1)\n",
    "            for hour in range(24):\n",
    "                dt = date_48.replace(hour=hour, minute=0, second=0, microsecond=0)\n",
    "                dt = current_timezone.localize(dt)\n",
    "                # Get the price from the day before at this hour\n",
    "                day_before = date_now.replace(hour=hour, minute=0, second=0, microsecond=0)\n",
    "                day_before = current_timezone.localize(day_before)\n",
    "                value = df.loc[day_before]\n",
    "                # Append the new row to the series\n",
    "                df.loc[dt] = value\n",
    "            date_now = datetime.now().replace(hour=0, minute=0, second=0, microsecond=0)\n",
    "            date_48 = date_now + timedelta(days=2)\n",
    "            for hour in range(24):\n",
    "                dt = date_48.replace(hour=hour, minute=0, second=0, microsecond=0)\n",
    "                dt = current_timezone.localize(dt)\n",
    "                # Get the price from the day before at this hour\n",
    "                day_before = date_now.replace(hour=hour, minute=0, second=0, microsecond=0)\n",
    "                day_before = current_timezone.localize(day_before)\n",
    "                value = df.loc[day_before]\n",
    "                # Append the new row to the series\n",
    "                df.loc[dt] = value\n",
    "            date_tomorrow = datetime.now().replace(hour=0, minute=0, second=0, microsecond=0) + timedelta(days=1)\n",
    "            date_tomorrow = current_timezone.localize(date_tomorrow)\n",
    "            range_hours = pd.date_range(start=date_tomorrow, freq=\"H\", periods=48)\n",
    "            df = df.loc[range_hours]\n",
    "        return df"
   ]
  },
  {
   "cell_type": "markdown",
   "id": "d299dbfc",
   "metadata": {},
   "source": [
    "# Testing the Agent"
   ]
  },
  {
   "cell_type": "code",
   "execution_count": 10,
   "id": "f4c2b29a",
   "metadata": {},
   "outputs": [],
   "source": [
    "date = \"2023-03-17\""
   ]
  },
  {
   "cell_type": "code",
   "execution_count": 11,
   "id": "5c645699",
   "metadata": {},
   "outputs": [
    {
     "name": "stderr",
     "output_type": "stream",
     "text": [
      "C:\\Users\\chris\\AppData\\Local\\Temp\\ipykernel_12040\\2074082247.py:49: FutureWarning: Setitem-like behavior with mismatched timezones is deprecated and will change in a future version. Instead of raising (or for Index, Series, and DataFrame methods, coercing to object dtype), the value being set (or passed as a fill_value, or inserted) will be cast to the existing DatetimeArray/DatetimeIndex/Series/DataFrame column's timezone. To retain the old behavior, explicitly cast to object dtype before the operation.\n",
      "  df.loc[dt] = value\n"
     ]
    }
   ],
   "source": [
    "PA = Price_Agent()\n",
    "price_df = PA.return_day_ahead_prices(date)"
   ]
  },
  {
   "cell_type": "code",
   "execution_count": 12,
   "id": "c69bd977",
   "metadata": {},
   "outputs": [
    {
     "data": {
      "text/plain": [
       "2023-03-18 00:00:00+01:00     48.45\n",
       "2023-03-18 01:00:00+01:00     49.97\n",
       "2023-03-18 02:00:00+01:00     50.06\n",
       "2023-03-18 03:00:00+01:00     59.93\n",
       "2023-03-18 04:00:00+01:00     62.79\n",
       "2023-03-18 05:00:00+01:00     81.59\n",
       "2023-03-18 06:00:00+01:00    105.07\n",
       "2023-03-18 07:00:00+01:00    112.17\n",
       "2023-03-18 08:00:00+01:00    104.56\n",
       "2023-03-18 09:00:00+01:00     90.29\n",
       "2023-03-18 10:00:00+01:00     84.04\n",
       "2023-03-18 11:00:00+01:00     79.95\n",
       "2023-03-18 12:00:00+01:00     75.76\n",
       "2023-03-18 13:00:00+01:00     74.05\n",
       "2023-03-18 14:00:00+01:00     88.05\n",
       "2023-03-18 15:00:00+01:00     99.03\n",
       "2023-03-18 16:00:00+01:00    109.54\n",
       "2023-03-18 17:00:00+01:00    126.79\n",
       "2023-03-18 18:00:00+01:00    134.36\n",
       "2023-03-18 19:00:00+01:00    134.23\n",
       "2023-03-18 20:00:00+01:00    126.35\n",
       "2023-03-18 21:00:00+01:00    109.97\n",
       "2023-03-18 22:00:00+01:00    107.09\n",
       "2023-03-18 23:00:00+01:00    102.25\n",
       "2023-03-19 00:00:00+01:00     48.45\n",
       "2023-03-19 01:00:00+01:00     49.97\n",
       "2023-03-19 02:00:00+01:00     50.06\n",
       "2023-03-19 03:00:00+01:00     59.93\n",
       "2023-03-19 04:00:00+01:00     62.79\n",
       "2023-03-19 05:00:00+01:00     81.59\n",
       "2023-03-19 06:00:00+01:00    105.07\n",
       "2023-03-19 07:00:00+01:00    112.17\n",
       "2023-03-19 08:00:00+01:00    104.56\n",
       "2023-03-19 09:00:00+01:00     90.29\n",
       "2023-03-19 10:00:00+01:00     84.04\n",
       "2023-03-19 11:00:00+01:00     79.95\n",
       "2023-03-19 12:00:00+01:00     75.76\n",
       "2023-03-19 13:00:00+01:00     74.05\n",
       "2023-03-19 14:00:00+01:00     88.05\n",
       "2023-03-19 15:00:00+01:00     99.03\n",
       "2023-03-19 16:00:00+01:00    109.54\n",
       "2023-03-19 17:00:00+01:00    126.79\n",
       "2023-03-19 18:00:00+01:00    134.36\n",
       "2023-03-19 19:00:00+01:00    134.23\n",
       "2023-03-19 20:00:00+01:00    126.35\n",
       "2023-03-19 21:00:00+01:00    109.97\n",
       "2023-03-19 22:00:00+01:00    107.09\n",
       "2023-03-19 23:00:00+01:00    102.25\n",
       "dtype: float64"
      ]
     },
     "execution_count": 12,
     "metadata": {},
     "output_type": "execute_result"
    }
   ],
   "source": [
    "price_df"
   ]
  },
  {
   "cell_type": "code",
   "execution_count": null,
   "id": "da9b80b7",
   "metadata": {},
   "outputs": [],
   "source": []
  }
 ],
 "metadata": {
  "kernelspec": {
   "display_name": "Python 3 (ipykernel)",
   "language": "python",
   "name": "python3"
  },
  "language_info": {
   "codemirror_mode": {
    "name": "ipython",
    "version": 3
   },
   "file_extension": ".py",
   "mimetype": "text/x-python",
   "name": "python",
   "nbconvert_exporter": "python",
   "pygments_lexer": "ipython3",
   "version": "3.9.12"
  },
  "toc": {
   "base_numbering": 1,
   "nav_menu": {},
   "number_sections": true,
   "sideBar": true,
   "skip_h1_title": false,
   "title_cell": "Table of Contents",
   "title_sidebar": "Contents",
   "toc_cell": false,
   "toc_position": {},
   "toc_section_display": true,
   "toc_window_display": true
  }
 },
 "nbformat": 4,
 "nbformat_minor": 5
}
