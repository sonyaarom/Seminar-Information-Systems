{
 "cells": [
  {
   "cell_type": "code",
   "execution_count": null,
   "id": "568dff09",
   "metadata": {},
   "outputs": [],
   "source": [
    "#pip install entsoe-py"
   ]
  },
  {
   "cell_type": "markdown",
   "id": "36524f14",
   "metadata": {},
   "source": [
    "Prices are in MW (Mega Watt), which equals to 1000 kW or 1.000.000 W. Therefore the generated table gets divided by 1.000.000 to get the price for one W."
   ]
  },
  {
   "cell_type": "markdown",
   "id": "9ba7dd8c",
   "metadata": {},
   "source": [
    "# Testing the individual steps"
   ]
  },
  {
   "cell_type": "code",
   "execution_count": 53,
   "id": "5005716d",
   "metadata": {},
   "outputs": [],
   "source": [
    "date = \"2023-03-06\"\n",
    "timezone = 'Europe/Brussels'"
   ]
  },
  {
   "cell_type": "code",
   "execution_count": 54,
   "id": "f40607c4",
   "metadata": {},
   "outputs": [],
   "source": [
    "import pandas as pd\n",
    "from datetime import datetime, timedelta\n",
    "from entsoe import EntsoePandasClient\n",
    "import pytz\n",
    "date = pd.to_datetime(date,format= '%Y-%m-%d')\n",
    "# looking for tommorow prices\n",
    "date = date + timedelta(days = 1)\n",
    "current_timezone = pytz.timezone(timezone)\n",
    "date = current_timezone.localize(date)"
   ]
  },
  {
   "cell_type": "code",
   "execution_count": 55,
   "id": "55c16a20",
   "metadata": {},
   "outputs": [],
   "source": [
    "start = (date - timedelta(days= 3)).normalize()\n",
    "end = (date + timedelta(days = 3)).normalize()\n",
    "country_code = 'DE_LU'"
   ]
  },
  {
   "cell_type": "code",
   "execution_count": 56,
   "id": "3b750816",
   "metadata": {
    "scrolled": true
   },
   "outputs": [
    {
     "data": {
      "text/plain": [
       "2023-03-04 00:00:00+01:00    108.27\n",
       "2023-03-04 01:00:00+01:00     95.86\n",
       "2023-03-04 02:00:00+01:00     92.18\n",
       "2023-03-04 03:00:00+01:00     97.96\n",
       "2023-03-04 04:00:00+01:00     97.69\n",
       "                              ...  \n",
       "2023-03-07 19:00:00+01:00    143.91\n",
       "2023-03-07 20:00:00+01:00    152.14\n",
       "2023-03-07 21:00:00+01:00    136.43\n",
       "2023-03-07 22:00:00+01:00    122.21\n",
       "2023-03-07 23:00:00+01:00    115.49\n",
       "Freq: 60T, Length: 96, dtype: float64"
      ]
     },
     "execution_count": 56,
     "metadata": {},
     "output_type": "execute_result"
    }
   ],
   "source": [
    "client = EntsoePandasClient(api_key='6f67ccf4-edb3-4100-a850-969c73688627')\n",
    "df = client.query_day_ahead_prices(country_code = country_code, start = start, end = end)\n",
    "df"
   ]
  },
  {
   "cell_type": "code",
   "execution_count": 57,
   "id": "2964b975",
   "metadata": {},
   "outputs": [
    {
     "name": "stderr",
     "output_type": "stream",
     "text": [
      "C:\\Users\\chris\\AppData\\Local\\Temp\\ipykernel_804\\2482555799.py:10: FutureWarning: Setitem-like behavior with mismatched timezones is deprecated and will change in a future version. Instead of raising (or for Index, Series, and DataFrame methods, coercing to object dtype), the value being set (or passed as a fill_value, or inserted) will be cast to the existing DatetimeArray/DatetimeIndex/Series/DataFrame column's timezone. To retain the old behavior, explicitly cast to object dtype before the operation.\n",
      "  df.loc[dt] = value\n"
     ]
    }
   ],
   "source": [
    "# handling problem with missing price data for more than 24 hours ahead\n",
    "if(date.strftime('%Y-%m-%d') == max(df.index).strftime('%Y-%m-%d')):\n",
    "    date_48 = date + timedelta(days=1)\n",
    "    for hour in range(24):\n",
    "        dt = date_48.replace(hour=hour, minute=0, second=0, microsecond=0)\n",
    "        # Get the price from the day before at this hour\n",
    "        day_before = dt - timedelta(days=1)\n",
    "        value = df.loc[day_before]\n",
    "        # Append the new row to the series\n",
    "        df.loc[dt] = value\n",
    "if(date > max(df.index)):\n",
    "    date_48 = date + timedelta(days=1)\n",
    "    for hour in range(24):\n",
    "        dt = date_48.replace(hour=hour, minute=0, second=0, microsecond=0)\n",
    "        # Get the price from the day before at this hour\n",
    "        day_before = dt - timedelta(days=1)\n",
    "        value = df.loc[day_before]\n",
    "        # Append the new row to the series\n",
    "        df.loc[dt] = value\n",
    "    date_48 = date + timedelta(days=2)\n",
    "    for hour in range(24):\n",
    "        dt = date_48.replace(hour=hour, minute=0, second=0, microsecond=0)\n",
    "        # Get the price from the day before at this hour\n",
    "        day_before = dt - timedelta(days=1)\n",
    "        value = df.loc[day_before]\n",
    "        # Append the new row to the series\n",
    "        df.loc[dt] = value"
   ]
  },
  {
   "cell_type": "code",
   "execution_count": 58,
   "id": "df90811a",
   "metadata": {},
   "outputs": [],
   "source": [
    "range_hours = pd.date_range(start=date, freq=\"H\", periods=48)\n",
    "df = df.loc[range_hours]"
   ]
  },
  {
   "cell_type": "code",
   "execution_count": 59,
   "id": "354b85c3",
   "metadata": {},
   "outputs": [
    {
     "data": {
      "text/plain": [
       "2023-03-07 00:00:00+01:00     98.06\n",
       "2023-03-07 01:00:00+01:00     94.26\n",
       "2023-03-07 02:00:00+01:00     85.00\n",
       "2023-03-07 03:00:00+01:00     78.96\n",
       "2023-03-07 04:00:00+01:00     78.52\n",
       "2023-03-07 05:00:00+01:00     85.57\n",
       "2023-03-07 06:00:00+01:00     98.71\n",
       "2023-03-07 07:00:00+01:00     99.57\n",
       "2023-03-07 08:00:00+01:00    105.59\n",
       "2023-03-07 09:00:00+01:00     91.92\n",
       "2023-03-07 10:00:00+01:00     93.86\n",
       "2023-03-07 11:00:00+01:00     94.26\n",
       "2023-03-07 12:00:00+01:00     87.57\n",
       "2023-03-07 13:00:00+01:00     93.86\n",
       "2023-03-07 14:00:00+01:00     95.07\n",
       "2023-03-07 15:00:00+01:00     97.60\n",
       "2023-03-07 16:00:00+01:00    109.22\n",
       "2023-03-07 17:00:00+01:00    142.97\n",
       "2023-03-07 18:00:00+01:00    164.08\n",
       "2023-03-07 19:00:00+01:00    143.91\n",
       "2023-03-07 20:00:00+01:00    152.14\n",
       "2023-03-07 21:00:00+01:00    136.43\n",
       "2023-03-07 22:00:00+01:00    122.21\n",
       "2023-03-07 23:00:00+01:00    115.49\n",
       "2023-03-08 00:00:00+01:00     98.06\n",
       "2023-03-08 01:00:00+01:00     94.26\n",
       "2023-03-08 02:00:00+01:00     85.00\n",
       "2023-03-08 03:00:00+01:00     78.96\n",
       "2023-03-08 04:00:00+01:00     78.52\n",
       "2023-03-08 05:00:00+01:00     85.57\n",
       "2023-03-08 06:00:00+01:00     98.71\n",
       "2023-03-08 07:00:00+01:00     99.57\n",
       "2023-03-08 08:00:00+01:00    105.59\n",
       "2023-03-08 09:00:00+01:00     91.92\n",
       "2023-03-08 10:00:00+01:00     93.86\n",
       "2023-03-08 11:00:00+01:00     94.26\n",
       "2023-03-08 12:00:00+01:00     87.57\n",
       "2023-03-08 13:00:00+01:00     93.86\n",
       "2023-03-08 14:00:00+01:00     95.07\n",
       "2023-03-08 15:00:00+01:00     97.60\n",
       "2023-03-08 16:00:00+01:00    109.22\n",
       "2023-03-08 17:00:00+01:00    142.97\n",
       "2023-03-08 18:00:00+01:00    164.08\n",
       "2023-03-08 19:00:00+01:00    143.91\n",
       "2023-03-08 20:00:00+01:00    152.14\n",
       "2023-03-08 21:00:00+01:00    136.43\n",
       "2023-03-08 22:00:00+01:00    122.21\n",
       "2023-03-08 23:00:00+01:00    115.49\n",
       "dtype: float64"
      ]
     },
     "execution_count": 59,
     "metadata": {},
     "output_type": "execute_result"
    }
   ],
   "source": [
    "df"
   ]
  },
  {
   "cell_type": "markdown",
   "id": "dc23204b",
   "metadata": {},
   "source": [
    "# Whole price agent"
   ]
  },
  {
   "cell_type": "code",
   "execution_count": 38,
   "id": "e05ec91f",
   "metadata": {},
   "outputs": [],
   "source": [
    "###################################################################################################\n",
    "# price agent #####################################################################################\n",
    "###################################################################################################\n",
    "class Price_Agent(): \n",
    "\n",
    "    def return_day_ahead_prices(self, date, timezone = 'Europe/Brussels'):\n",
    "        import pandas as pd\n",
    "        from datetime import datetime, timedelta\n",
    "        from entsoe import EntsoePandasClient\n",
    "        import pytz\n",
    "        date = pd.to_datetime(date,format= '%Y-%m-%d')\n",
    "        # looking for tommorow prices\n",
    "        date = date + timedelta(days = 1)\n",
    "        current_timezone = pytz.timezone(timezone)\n",
    "        date = current_timezone.localize(date)\n",
    "        start = (date - timedelta(days= 3)).normalize()\n",
    "        end = (date + timedelta(days = 3)).normalize()\n",
    "        country_code = 'DE_LU'\n",
    "        client = EntsoePandasClient(api_key='6f67ccf4-edb3-4100-a850-969c73688627')\n",
    "        df = client.query_day_ahead_prices(country_code = country_code, start = start, end = end)\n",
    "        \n",
    "        # handling problem with missing price data for more than 24 hours ahead\n",
    "        if(date.strftime('%Y-%m-%d') == max(df.index).strftime('%Y-%m-%d')):\n",
    "            date_48 = date + timedelta(days=1)\n",
    "            for hour in range(24):\n",
    "                dt = date_48.replace(hour=hour, minute=0, second=0, microsecond=0)\n",
    "                # Get the price from the day before at this hour\n",
    "                day_before = dt - timedelta(days=1)\n",
    "                value = df.loc[day_before]\n",
    "                # Append the new row to the series\n",
    "                df.loc[dt] = value\n",
    "        if(date > max(df.index)):\n",
    "            date_48 = date + timedelta(days=1)\n",
    "            for hour in range(24):\n",
    "                dt = date_48.replace(hour=hour, minute=0, second=0, microsecond=0)\n",
    "                # Get the price from the day before at this hour\n",
    "                day_before = dt - timedelta(days=1)\n",
    "                value = df.loc[day_before]\n",
    "                # Append the new row to the series\n",
    "                df.loc[dt] = value\n",
    "            date_48 = date + timedelta(days=2)\n",
    "            for hour in range(24):\n",
    "                dt = date_48.replace(hour=hour, minute=0, second=0, microsecond=0)\n",
    "                # Get the price from the day before at this hour\n",
    "                day_before = dt - timedelta(days=1)\n",
    "                value = df.loc[day_before]\n",
    "                # Append the new row to the series\n",
    "                df.loc[dt] = value\n",
    "                \n",
    "        range_hours = pd.date_range(start=date, freq=\"H\", periods=48)\n",
    "        df = df.loc[range_hours]\n",
    "        return df"
   ]
  },
  {
   "cell_type": "markdown",
   "id": "000bf150",
   "metadata": {},
   "source": [
    "# Testing the Agent"
   ]
  },
  {
   "cell_type": "code",
   "execution_count": 39,
   "id": "baeb8f0e",
   "metadata": {},
   "outputs": [],
   "source": [
    "date = \"2023-03-06\""
   ]
  },
  {
   "cell_type": "code",
   "execution_count": 40,
   "id": "5c645699",
   "metadata": {},
   "outputs": [
    {
     "name": "stderr",
     "output_type": "stream",
     "text": [
      "C:\\Users\\chris\\AppData\\Local\\Temp\\ipykernel_804\\3337783136.py:31: FutureWarning: Setitem-like behavior with mismatched timezones is deprecated and will change in a future version. Instead of raising (or for Index, Series, and DataFrame methods, coercing to object dtype), the value being set (or passed as a fill_value, or inserted) will be cast to the existing DatetimeArray/DatetimeIndex/Series/DataFrame column's timezone. To retain the old behavior, explicitly cast to object dtype before the operation.\n",
      "  df.loc[dt] = value\n"
     ]
    }
   ],
   "source": [
    "PA = Price_Agent()\n",
    "price_df = PA.return_day_ahead_prices(date)"
   ]
  },
  {
   "cell_type": "code",
   "execution_count": 41,
   "id": "c69bd977",
   "metadata": {},
   "outputs": [
    {
     "data": {
      "text/plain": [
       "2023-03-07 00:00:00+01:00     98.06\n",
       "2023-03-07 01:00:00+01:00     94.26\n",
       "2023-03-07 02:00:00+01:00     85.00\n",
       "2023-03-07 03:00:00+01:00     78.96\n",
       "2023-03-07 04:00:00+01:00     78.52\n",
       "2023-03-07 05:00:00+01:00     85.57\n",
       "2023-03-07 06:00:00+01:00     98.71\n",
       "2023-03-07 07:00:00+01:00     99.57\n",
       "2023-03-07 08:00:00+01:00    105.59\n",
       "2023-03-07 09:00:00+01:00     91.92\n",
       "2023-03-07 10:00:00+01:00     93.86\n",
       "2023-03-07 11:00:00+01:00     94.26\n",
       "2023-03-07 12:00:00+01:00     87.57\n",
       "2023-03-07 13:00:00+01:00     93.86\n",
       "2023-03-07 14:00:00+01:00     95.07\n",
       "2023-03-07 15:00:00+01:00     97.60\n",
       "2023-03-07 16:00:00+01:00    109.22\n",
       "2023-03-07 17:00:00+01:00    142.97\n",
       "2023-03-07 18:00:00+01:00    164.08\n",
       "2023-03-07 19:00:00+01:00    143.91\n",
       "2023-03-07 20:00:00+01:00    152.14\n",
       "2023-03-07 21:00:00+01:00    136.43\n",
       "2023-03-07 22:00:00+01:00    122.21\n",
       "2023-03-07 23:00:00+01:00    115.49\n",
       "2023-03-08 00:00:00+01:00     98.06\n",
       "2023-03-08 01:00:00+01:00     94.26\n",
       "2023-03-08 02:00:00+01:00     85.00\n",
       "2023-03-08 03:00:00+01:00     78.96\n",
       "2023-03-08 04:00:00+01:00     78.52\n",
       "2023-03-08 05:00:00+01:00     85.57\n",
       "2023-03-08 06:00:00+01:00     98.71\n",
       "2023-03-08 07:00:00+01:00     99.57\n",
       "2023-03-08 08:00:00+01:00    105.59\n",
       "2023-03-08 09:00:00+01:00     91.92\n",
       "2023-03-08 10:00:00+01:00     93.86\n",
       "2023-03-08 11:00:00+01:00     94.26\n",
       "2023-03-08 12:00:00+01:00     87.57\n",
       "2023-03-08 13:00:00+01:00     93.86\n",
       "2023-03-08 14:00:00+01:00     95.07\n",
       "2023-03-08 15:00:00+01:00     97.60\n",
       "2023-03-08 16:00:00+01:00    109.22\n",
       "2023-03-08 17:00:00+01:00    142.97\n",
       "2023-03-08 18:00:00+01:00    164.08\n",
       "2023-03-08 19:00:00+01:00    143.91\n",
       "2023-03-08 20:00:00+01:00    152.14\n",
       "2023-03-08 21:00:00+01:00    136.43\n",
       "2023-03-08 22:00:00+01:00    122.21\n",
       "2023-03-08 23:00:00+01:00    115.49\n",
       "dtype: float64"
      ]
     },
     "execution_count": 41,
     "metadata": {},
     "output_type": "execute_result"
    }
   ],
   "source": [
    "price_df"
   ]
  },
  {
   "cell_type": "code",
   "execution_count": null,
   "id": "da9b80b7",
   "metadata": {},
   "outputs": [],
   "source": []
  }
 ],
 "metadata": {
  "kernelspec": {
   "display_name": "Python 3 (ipykernel)",
   "language": "python",
   "name": "python3"
  },
  "language_info": {
   "codemirror_mode": {
    "name": "ipython",
    "version": 3
   },
   "file_extension": ".py",
   "mimetype": "text/x-python",
   "name": "python",
   "nbconvert_exporter": "python",
   "pygments_lexer": "ipython3",
   "version": "3.9.12"
  },
  "toc": {
   "base_numbering": 1,
   "nav_menu": {},
   "number_sections": true,
   "sideBar": true,
   "skip_h1_title": false,
   "title_cell": "Table of Contents",
   "title_sidebar": "Contents",
   "toc_cell": false,
   "toc_position": {},
   "toc_section_display": true,
   "toc_window_display": true
  }
 },
 "nbformat": 4,
 "nbformat_minor": 5
}
