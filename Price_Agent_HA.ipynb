{
 "cells": [
  {
   "cell_type": "code",
   "execution_count": null,
   "id": "568dff09",
   "metadata": {},
   "outputs": [],
   "source": [
    "#pip install entsoe-py"
   ]
  },
  {
   "cell_type": "markdown",
   "id": "36524f14",
   "metadata": {},
   "source": [
    "Prices are in MW (Mega Watt), which equals to 1000 kW or 1.000.000 W. Therefore the generated table gets divided by 1.000.000 to get the price for one W."
   ]
  },
  {
   "cell_type": "code",
   "execution_count": 66,
   "id": "e05ec91f",
   "metadata": {},
   "outputs": [],
   "source": [
    "from entsoe import EntsoePandasClient\n",
    "import pandas as pd\n",
    "import datetime\n",
    "class Price_Agent(): \n",
    "\n",
    "    def return_day_ahead_prices(self, date, timezone = 'Europe/Brussels'):\n",
    "        import pandas as pd\n",
    "        import datetime\n",
    "        from entsoe import EntsoePandasClient\n",
    "        import pytz\n",
    "        date = pd.to_datetime(date,format= '%Y-%m-%d')\n",
    "        current_timezone = pytz.timezone(timezone)\n",
    "        date = current_timezone.localize(date)\n",
    "        start = (date - datetime.timedelta(days= 3)).normalize()\n",
    "        end = (date + datetime.timedelta(days = 3)).normalize()\n",
    "        country_code = 'DE_LU'\n",
    "        client = EntsoePandasClient(api_key='6f67ccf4-edb3-4100-a850-969c73688627')\n",
    "        df = client.query_day_ahead_prices(country_code = country_code, start = start, end = end)\n",
    "        range = pd.date_range(start=date, freq=\"H\", periods=48)\n",
    "        df = df.loc[range]\n",
    "        return df"
   ]
  },
  {
   "cell_type": "code",
   "execution_count": 67,
   "id": "096218b0",
   "metadata": {},
   "outputs": [],
   "source": [
    "date = '2023-01-02'"
   ]
  },
  {
   "cell_type": "code",
   "execution_count": 68,
   "id": "5c645699",
   "metadata": {},
   "outputs": [],
   "source": [
    "PA = Price_Agent()\n",
    "price_df = PA.return_day_ahead_prices(date)"
   ]
  },
  {
   "cell_type": "code",
   "execution_count": 69,
   "id": "c69bd977",
   "metadata": {},
   "outputs": [
    {
     "data": {
      "text/plain": [
       "2023-01-02 00:00:00+01:00     57.91\n",
       "2023-01-02 01:00:00+01:00     51.67\n",
       "2023-01-02 02:00:00+01:00     52.93\n",
       "2023-01-02 03:00:00+01:00     44.09\n",
       "2023-01-02 04:00:00+01:00     50.08\n",
       "2023-01-02 05:00:00+01:00     69.72\n",
       "2023-01-02 06:00:00+01:00    105.08\n",
       "2023-01-02 07:00:00+01:00    140.64\n",
       "2023-01-02 08:00:00+01:00    145.98\n",
       "2023-01-02 09:00:00+01:00    147.05\n",
       "2023-01-02 10:00:00+01:00    145.61\n",
       "2023-01-02 11:00:00+01:00    143.35\n",
       "2023-01-02 12:00:00+01:00    144.38\n",
       "2023-01-02 13:00:00+01:00    143.76\n",
       "2023-01-02 14:00:00+01:00    148.20\n",
       "2023-01-02 15:00:00+01:00    155.34\n",
       "2023-01-02 16:00:00+01:00    162.89\n",
       "2023-01-02 17:00:00+01:00    170.00\n",
       "2023-01-02 18:00:00+01:00    174.74\n",
       "2023-01-02 19:00:00+01:00    164.46\n",
       "2023-01-02 20:00:00+01:00    153.00\n",
       "2023-01-02 21:00:00+01:00    141.67\n",
       "2023-01-02 22:00:00+01:00    134.91\n",
       "2023-01-02 23:00:00+01:00    124.22\n",
       "2023-01-03 00:00:00+01:00    130.01\n",
       "2023-01-03 01:00:00+01:00    120.00\n",
       "2023-01-03 02:00:00+01:00    118.76\n",
       "2023-01-03 03:00:00+01:00    115.00\n",
       "2023-01-03 04:00:00+01:00    113.63\n",
       "2023-01-03 05:00:00+01:00    116.27\n",
       "2023-01-03 06:00:00+01:00    138.92\n",
       "2023-01-03 07:00:00+01:00    159.92\n",
       "2023-01-03 08:00:00+01:00    169.17\n",
       "2023-01-03 09:00:00+01:00    171.18\n",
       "2023-01-03 10:00:00+01:00    168.57\n",
       "2023-01-03 11:00:00+01:00    169.49\n",
       "2023-01-03 12:00:00+01:00    164.50\n",
       "2023-01-03 13:00:00+01:00    160.91\n",
       "2023-01-03 14:00:00+01:00    163.06\n",
       "2023-01-03 15:00:00+01:00    167.73\n",
       "2023-01-03 16:00:00+01:00    166.61\n",
       "2023-01-03 17:00:00+01:00    170.72\n",
       "2023-01-03 18:00:00+01:00    168.93\n",
       "2023-01-03 19:00:00+01:00    160.99\n",
       "2023-01-03 20:00:00+01:00    149.62\n",
       "2023-01-03 21:00:00+01:00    130.99\n",
       "2023-01-03 22:00:00+01:00    114.27\n",
       "2023-01-03 23:00:00+01:00     93.66\n",
       "Freq: 60T, dtype: float64"
      ]
     },
     "execution_count": 69,
     "metadata": {},
     "output_type": "execute_result"
    }
   ],
   "source": [
    "price_df"
   ]
  },
  {
   "cell_type": "code",
   "execution_count": null,
   "id": "da9b80b7",
   "metadata": {},
   "outputs": [],
   "source": []
  }
 ],
 "metadata": {
  "kernelspec": {
   "display_name": "Python 3 (ipykernel)",
   "language": "python",
   "name": "python3"
  },
  "language_info": {
   "codemirror_mode": {
    "name": "ipython",
    "version": 3
   },
   "file_extension": ".py",
   "mimetype": "text/x-python",
   "name": "python",
   "nbconvert_exporter": "python",
   "pygments_lexer": "ipython3",
   "version": "3.9.12"
  },
  "toc": {
   "base_numbering": 1,
   "nav_menu": {},
   "number_sections": true,
   "sideBar": true,
   "skip_h1_title": false,
   "title_cell": "Table of Contents",
   "title_sidebar": "Contents",
   "toc_cell": false,
   "toc_position": {},
   "toc_section_display": true,
   "toc_window_display": true
  }
 },
 "nbformat": 4,
 "nbformat_minor": 5
}
