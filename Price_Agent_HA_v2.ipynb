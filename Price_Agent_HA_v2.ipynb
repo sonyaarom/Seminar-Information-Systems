{
 "cells": [
  {
   "cell_type": "code",
   "execution_count": null,
   "id": "568dff09",
   "metadata": {},
   "outputs": [],
   "source": [
    "#pip install entsoe-py"
   ]
  },
  {
   "cell_type": "code",
   "execution_count": 10,
   "id": "e05ec91f",
   "metadata": {},
   "outputs": [],
   "source": [
    "from entsoe import EntsoePandasClient\n",
    "import pandas as pd\n",
    "import datetime\n",
    "class Price_Agent(): \n",
    "\n",
    "    def return_day_ahead_prices(self, date, timezone = 'Europe/Brussels'):\n",
    "        import pandas as pd\n",
    "        import datetime\n",
    "        from entsoe import EntsoePandasClient\n",
    "        import pytz\n",
    "        date = pd.to_datetime(date,format= '%Y-%m-%d')\n",
    "        current_timezone = pytz.timezone(timezone)\n",
    "        date = current_timezone.localize(date)\n",
    "        start = (date - datetime.timedelta(days= 3)).normalize()\n",
    "        end = (date + datetime.timedelta(days = 3)).normalize()\n",
    "        country_code = 'DE_LU'\n",
    "        client = EntsoePandasClient(api_key='6f67ccf4-edb3-4100-a850-969c73688627')\n",
    "        df = client.query_day_ahead_prices(country_code = country_code, start = start, end = end)\n",
    "        range = pd.date_range(start=date, freq=\"H\", periods=48)\n",
    "        df = df.loc[range]\n",
    "        return df"
   ]
  },
  {
   "cell_type": "code",
   "execution_count": 11,
   "id": "096218b0",
   "metadata": {},
   "outputs": [],
   "source": [
    "date = '2022-11-30'"
   ]
  },
  {
   "cell_type": "code",
   "execution_count": 12,
   "id": "5c645699",
   "metadata": {},
   "outputs": [],
   "source": [
    "PA = Price_Agent()\n",
    "price_df = PA.return_day_ahead_prices(date)"
   ]
  },
  {
   "cell_type": "code",
   "execution_count": 13,
   "id": "c69bd977",
   "metadata": {},
   "outputs": [
    {
     "data": {
      "text/plain": [
       "2022-11-30 00:00:00+01:00    288.45\n",
       "2022-11-30 01:00:00+01:00    279.18\n",
       "2022-11-30 02:00:00+01:00    264.27\n",
       "2022-11-30 03:00:00+01:00    260.79\n",
       "2022-11-30 04:00:00+01:00    267.63\n",
       "2022-11-30 05:00:00+01:00    290.00\n",
       "2022-11-30 06:00:00+01:00    332.28\n",
       "2022-11-30 07:00:00+01:00    434.43\n",
       "2022-11-30 08:00:00+01:00    478.10\n",
       "2022-11-30 09:00:00+01:00    478.60\n",
       "2022-11-30 10:00:00+01:00    474.71\n",
       "2022-11-30 11:00:00+01:00    482.52\n",
       "2022-11-30 12:00:00+01:00    449.99\n",
       "2022-11-30 13:00:00+01:00    450.47\n",
       "2022-11-30 14:00:00+01:00    464.24\n",
       "2022-11-30 15:00:00+01:00    458.76\n",
       "2022-11-30 16:00:00+01:00    478.40\n",
       "2022-11-30 17:00:00+01:00    503.55\n",
       "2022-11-30 18:00:00+01:00    495.20\n",
       "2022-11-30 19:00:00+01:00    465.14\n",
       "2022-11-30 20:00:00+01:00    413.90\n",
       "2022-11-30 21:00:00+01:00    344.20\n",
       "2022-11-30 22:00:00+01:00    316.86\n",
       "2022-11-30 23:00:00+01:00    277.18\n",
       "2022-12-01 00:00:00+01:00    292.06\n",
       "2022-12-01 01:00:00+01:00    291.43\n",
       "2022-12-01 02:00:00+01:00    284.76\n",
       "2022-12-01 03:00:00+01:00    274.80\n",
       "2022-12-01 04:00:00+01:00    271.91\n",
       "2022-12-01 05:00:00+01:00    283.49\n",
       "2022-12-01 06:00:00+01:00    353.18\n",
       "2022-12-01 07:00:00+01:00    450.84\n",
       "2022-12-01 08:00:00+01:00    463.55\n",
       "2022-12-01 09:00:00+01:00    462.15\n",
       "2022-12-01 10:00:00+01:00    453.07\n",
       "2022-12-01 11:00:00+01:00    446.43\n",
       "2022-12-01 12:00:00+01:00    437.88\n",
       "2022-12-01 13:00:00+01:00    446.54\n",
       "2022-12-01 14:00:00+01:00    464.07\n",
       "2022-12-01 15:00:00+01:00    463.10\n",
       "2022-12-01 16:00:00+01:00    458.04\n",
       "2022-12-01 17:00:00+01:00    484.07\n",
       "2022-12-01 18:00:00+01:00    469.79\n",
       "2022-12-01 19:00:00+01:00    457.89\n",
       "2022-12-01 20:00:00+01:00    430.80\n",
       "2022-12-01 21:00:00+01:00    379.49\n",
       "2022-12-01 22:00:00+01:00    340.63\n",
       "2022-12-01 23:00:00+01:00    304.55\n",
       "Freq: 60T, dtype: float64"
      ]
     },
     "execution_count": 13,
     "metadata": {},
     "output_type": "execute_result"
    }
   ],
   "source": [
    "price_df"
   ]
  },
  {
   "cell_type": "code",
   "execution_count": null,
   "id": "da9b80b7",
   "metadata": {},
   "outputs": [],
   "source": []
  }
 ],
 "metadata": {
  "kernelspec": {
   "display_name": "Python 3 (ipykernel)",
   "language": "python",
   "name": "python3"
  },
  "language_info": {
   "codemirror_mode": {
    "name": "ipython",
    "version": 3
   },
   "file_extension": ".py",
   "mimetype": "text/x-python",
   "name": "python",
   "nbconvert_exporter": "python",
   "pygments_lexer": "ipython3",
   "version": "3.9.12"
  },
  "toc": {
   "base_numbering": 1,
   "nav_menu": {},
   "number_sections": true,
   "sideBar": true,
   "skip_h1_title": false,
   "title_cell": "Table of Contents",
   "title_sidebar": "Contents",
   "toc_cell": false,
   "toc_position": {},
   "toc_section_display": true,
   "toc_window_display": true
  }
 },
 "nbformat": 4,
 "nbformat_minor": 5
}
